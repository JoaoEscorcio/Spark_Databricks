{
 "cells": [
  {
   "cell_type": "code",
   "execution_count": 0,
   "metadata": {
    "application/vnd.databricks.v1+cell": {
     "cellMetadata": {
      "byteLimit": 2048000,
      "rowLimit": 10000
     },
     "inputWidgets": {},
     "nuid": "3b7a83bc-e25b-48b4-9fc6-cbf703d1143f",
     "showTitle": false,
     "title": ""
    }
   },
   "outputs": [
    {
     "output_type": "stream",
     "name": "stdout",
     "output_type": "stream",
     "text": [
      "Out[1]: True"
     ]
    }
   ],
   "source": [
    "# Importing the necessary libraries\n",
    "from pyspark.sql import SparkSession\n",
    "\n",
    "# Initializing the Spark session\n",
    "spark = SparkSession.builder \\\n",
    "    .appName(\"Creating Folders and Loading CSVs\") \\\n",
    "    .getOrCreate()\n",
    "\n",
    "# Creating the folders in DBFS\n",
    "dbutils.fs.mkdirs(\"dbfs:/FileStore/Companies\")\n",
    "dbutils.fs.mkdirs(\"dbfs:/FileStore/Partners\")\n",
    "dbutils.fs.mkdirs(\"dbfs:/FileStore/Establishments\")"
   ]
  },
  {
   "cell_type": "markdown",
   "metadata": {
    "application/vnd.databricks.v1+cell": {
     "cellMetadata": {},
     "inputWidgets": {},
     "nuid": "5bda6001-14bd-483e-b741-310b195dadf7",
     "showTitle": false,
     "title": ""
    }
   },
   "source": [
    "\n",
    "### Loading the database of companies, partners and establishments"
   ]
  },
  {
   "cell_type": "code",
   "execution_count": 0,
   "metadata": {
    "application/vnd.databricks.v1+cell": {
     "cellMetadata": {
      "byteLimit": 2048000,
      "rowLimit": 10000
     },
     "inputWidgets": {},
     "nuid": "f948e001-2014-4084-8c12-443b7dbf63a4",
     "showTitle": false,
     "title": ""
    }
   },
   "outputs": [
    {
     "output_type": "stream",
     "name": "stdout",
     "output_type": "stream",
     "text": [
      "The number of companies is: 4585679\nThe number of Partners is: 2046430\nThe number of Establishments is: 4836219\n"
     ]
    }
   ],
   "source": [
    "path = 'dbfs:/FileStore/Companies'\n",
    "path_p = 'dbfs:/FileStore/Partners'\n",
    "path_e = 'dbfs:/FileStore/Establishments'\n",
    "Companies = spark.read.csv(path, sep=';', inferSchema=True)\n",
    "Partners = spark.read.csv(path_p, sep=';', inferSchema=True)\n",
    "Establishments = spark.read.csv(path_e, sep=';', inferSchema=True)\n",
    "# Imprimindo o número de linhas de cada DataFrame\n",
    "print(\"The number of companies is:\", Companies.count())\n",
    "print(\"The number of Partners is:\", Partners.count())\n",
    "print(\"The number of Establishments is:\", Establishments.count())\n",
    "\n"
   ]
  },
  {
   "cell_type": "code",
   "execution_count": 0,
   "metadata": {
    "application/vnd.databricks.v1+cell": {
     "cellMetadata": {
      "byteLimit": 2048000,
      "rowLimit": 10000
     },
     "inputWidgets": {},
     "nuid": "ebeecc29-ab8b-4630-bd09-2d6a2c28d540",
     "showTitle": false,
     "title": ""
    }
   },
   "outputs": [
    {
     "output_type": "stream",
     "name": "stdout",
     "output_type": "stream",
     "text": [
      "+---+---+---+---+---+----+-------+\n|_c0|_c1|_c2|_c3|_c4| _c5|    _c6|\n+---+---+---+---+---+----+-------+\n|  0|  0|  0|  0|  0|5985|4579678|\n+---+---+---+---+---+----+-------+\n\n"
     ]
    }
   ],
   "source": [
    "from pyspark.sql import functions as f\n",
    "Companies.select([f.count(f.when(f.isnull(c), 1)).alias(c) for c in Companies.columns]).show()\n"
   ]
  },
  {
   "cell_type": "code",
   "execution_count": 0,
   "metadata": {
    "application/vnd.databricks.v1+cell": {
     "cellMetadata": {
      "byteLimit": 2048000,
      "rowLimit": 10000
     },
     "inputWidgets": {},
     "nuid": "b810165e-8a85-459c-b099-0b0cdd32b2a9",
     "showTitle": false,
     "title": ""
    }
   },
   "outputs": [
    {
     "output_type": "stream",
     "name": "stdout",
     "output_type": "stream",
     "text": [
      "Out[5]: ['natureza', 'Descrição_Natureza']"
     ]
    }
   ],
   "source": [
    "#Loading data referring to the nature description column\n",
    "df_legal_nature = spark.read.csv(\"dbfs:/FileStore/tables/F_K03200_Z_D40210.NATJUCSV\", sep=';', inferSchema=True, encoding=\"latin1\")\n",
    "\n",
    "#Renaming the column names\n",
    "naturezaColNames = ['natureza', 'Descrição_Natureza']\n",
    "\n",
    "for index, colName in enumerate(naturezaColNames):\n",
    "    df_legal_nature = df_legal_nature.withColumnRenamed(f\"_c{index}\", colName)\n",
    "\n",
    "df_legal_nature.columns\n"
   ]
  },
  {
   "cell_type": "code",
   "execution_count": 0,
   "metadata": {
    "application/vnd.databricks.v1+cell": {
     "cellMetadata": {
      "byteLimit": 2048000,
      "rowLimit": 10000
     },
     "inputWidgets": {},
     "nuid": "5df435f1-1566-42cc-949f-5394f6f60b22",
     "showTitle": false,
     "title": ""
    }
   },
   "outputs": [
    {
     "output_type": "stream",
     "name": "stdout",
     "output_type": "stream",
     "text": [
      "root\n |-- _c0: integer (nullable = true)\n |-- _c1: string (nullable = true)\n\nOut[6]: ['id', 'Descrição_qualificacao']"
     ]
    }
   ],
   "source": [
    "#Loading data referring to the responsible partner's qualification column\n",
    "df_qualificacao_responsavel = spark.read.csv(\"dbfs:/FileStore/tables/F_K03200_Z_D40210.QUALSCSV\", sep=';', inferSchema=True, encoding=\"latin1\")\n",
    "df_qualificacao_responsavel.printSchema()\n",
    "\n",
    "#Renaming the column names\n",
    "qualiColNames = ['id', 'Descrição_qualificacao']\n",
    "\n",
    "for index, colName in enumerate(qualiColNames):\n",
    "    df_qualificacao_responsavel = df_qualificacao_responsavel.withColumnRenamed(f\"_c{index}\", colName)\n",
    "\n",
    "df_qualificacao_responsavel.columns"
   ]
  },
  {
   "cell_type": "markdown",
   "metadata": {
    "application/vnd.databricks.v1+cell": {
     "cellMetadata": {},
     "inputWidgets": {},
     "nuid": "88e1822f-a1d5-4a7e-9ad9-8b26ef4edef5",
     "showTitle": false,
     "title": ""
    }
   },
   "source": [
    "\n",
    "## Analyzing\n",
    " - Schema\n",
    " - Column names\n",
    " - Column type\n",
    "\n",
    " "
   ]
  },
  {
   "cell_type": "code",
   "execution_count": 0,
   "metadata": {
    "application/vnd.databricks.v1+cell": {
     "cellMetadata": {
      "byteLimit": 2048000,
      "rowLimit": 10000
     },
     "inputWidgets": {},
     "nuid": "b91e457a-b4d5-4336-b438-e716faafe937",
     "showTitle": false,
     "title": ""
    }
   },
   "outputs": [
    {
     "output_type": "stream",
     "name": "stdout",
     "output_type": "stream",
     "text": [
      "root\n |-- _c0: integer (nullable = true)\n |-- _c1: string (nullable = true)\n |-- _c2: integer (nullable = true)\n |-- _c3: integer (nullable = true)\n |-- _c4: string (nullable = true)\n |-- _c5: integer (nullable = true)\n |-- _c6: string (nullable = true)\n\n"
     ]
    }
   ],
   "source": [
    "Companies.printSchema()"
   ]
  },
  {
   "cell_type": "code",
   "execution_count": 0,
   "metadata": {
    "application/vnd.databricks.v1+cell": {
     "cellMetadata": {
      "byteLimit": 2048000,
      "rowLimit": 10000
     },
     "inputWidgets": {},
     "nuid": "472775d0-1eba-4d41-a0c7-c7880a2fc0b1",
     "showTitle": false,
     "title": ""
    }
   },
   "outputs": [
    {
     "output_type": "stream",
     "name": "stdout",
     "output_type": "stream",
     "text": [
      "+-----+--------------------+----+---+-------+---+----+\n|  _c0|                 _c1| _c2|_c3|    _c4|_c5| _c6|\n+-----+--------------------+----+---+-------+---+----+\n|  306|FRANCAMAR REFRIGE...|2240| 49|   0,00|  1|null|\n| 1355|BRASILEIRO & OLIV...|2062| 49|   0,00|  5|null|\n| 4820|REGISTRO DE IMOVE...|3034| 32|   0,00|  5|null|\n| 5347|ROSELY APARECIDA ...|2135| 50|   0,00|  5|null|\n| 6846|BADU E FILHOS TEC...|2062| 49|4000,00|  1|null|\n| 8416|  ELETRICA RUBI LTDA|2062| 49|   0,00|  5|null|\n| 8992|SHIROMA VEICULOS ...|2062| 49|   0,00|  5|null|\n| 9091|CONTATOS BAR E LA...|2062| 49|   0,00|  5|null|\n| 9614|ANTONIA APARECIDA...|2135| 50|   0,00|  5|null|\n| 9896|DORACY CORAT DA C...|2135| 50|   0,00|  5|null|\n|12112|LANCHONETE RIO VE...|2062| 49|   0,00|  5|null|\n|12605|VALMAR JACAREI CO...|2062| 49|   0,00|  5|null|\n|13407|ROSANA CRISTINA D...|2135| 50|   0,00|  5|null|\n|13408|CELIO RODRIGUES D...|2135| 50|   0,00|  5|null|\n|13721|MAQFRAN COMERCIO ...|2062| 49|   0,00|  1|null|\n|21181|MOURA & SILVA MER...|2062| 49|   0,00|  5|null|\n|21858|PAMARATI COMERCIO...|2135| 50|   0,00|  1|null|\n|22277|INACIO RODRIGUES ...|2135| 50|   0,00|  5|null|\n|24205|SUELY LEME MARI A...|2135| 50|1000,00|  1|null|\n|26805|SUELI BATISTA DA ...|2135| 50|   0,00|  5|null|\n+-----+--------------------+----+---+-------+---+----+\nonly showing top 20 rows\n\n"
     ]
    }
   ],
   "source": [
    "Companies.show()"
   ]
  },
  {
   "cell_type": "code",
   "execution_count": 0,
   "metadata": {
    "application/vnd.databricks.v1+cell": {
     "cellMetadata": {
      "byteLimit": 2048000,
      "rowLimit": 10000
     },
     "inputWidgets": {},
     "nuid": "b261ccfb-8205-4173-9b07-35291b38d0a9",
     "showTitle": false,
     "title": ""
    }
   },
   "outputs": [
    {
     "output_type": "display_data",
     "data": {
      "text/html": [
       "<div>\n",
       "<style scoped>\n",
       "    .dataframe tbody tr th:only-of-type {\n",
       "        vertical-align: middle;\n",
       "    }\n",
       "\n",
       "    .dataframe tbody tr th {\n",
       "        vertical-align: top;\n",
       "    }\n",
       "\n",
       "    .dataframe thead th {\n",
       "        text-align: right;\n",
       "    }\n",
       "</style>\n",
       "<table border=\"1\" class=\"dataframe\">\n",
       "  <thead>\n",
       "    <tr style=\"text-align: right;\">\n",
       "      <th></th>\n",
       "      <th>_c0</th>\n",
       "      <th>_c1</th>\n",
       "      <th>_c2</th>\n",
       "      <th>_c3</th>\n",
       "      <th>_c4</th>\n",
       "      <th>_c5</th>\n",
       "      <th>_c6</th>\n",
       "    </tr>\n",
       "  </thead>\n",
       "  <tbody>\n",
       "    <tr>\n",
       "      <th>0</th>\n",
       "      <td>306</td>\n",
       "      <td>FRANCAMAR REFRIGERACAO TECNICA S/C LTDA</td>\n",
       "      <td>2240</td>\n",
       "      <td>49</td>\n",
       "      <td>0,00</td>\n",
       "      <td>1</td>\n",
       "      <td>None</td>\n",
       "    </tr>\n",
       "    <tr>\n",
       "      <th>1</th>\n",
       "      <td>1355</td>\n",
       "      <td>BRASILEIRO &amp; OLIVEIRA LTDA</td>\n",
       "      <td>2062</td>\n",
       "      <td>49</td>\n",
       "      <td>0,00</td>\n",
       "      <td>5</td>\n",
       "      <td>None</td>\n",
       "    </tr>\n",
       "    <tr>\n",
       "      <th>2</th>\n",
       "      <td>4820</td>\n",
       "      <td>REGISTRO DE IMOVEIS, TABELIONATO 1 DE NOTAS E ...</td>\n",
       "      <td>3034</td>\n",
       "      <td>32</td>\n",
       "      <td>0,00</td>\n",
       "      <td>5</td>\n",
       "      <td>None</td>\n",
       "    </tr>\n",
       "    <tr>\n",
       "      <th>3</th>\n",
       "      <td>5347</td>\n",
       "      <td>ROSELY APARECIDA MONTEIRO CALTABIANO FREITAS</td>\n",
       "      <td>2135</td>\n",
       "      <td>50</td>\n",
       "      <td>0,00</td>\n",
       "      <td>5</td>\n",
       "      <td>None</td>\n",
       "    </tr>\n",
       "    <tr>\n",
       "      <th>4</th>\n",
       "      <td>6846</td>\n",
       "      <td>BADU E FILHOS TECIDOS LTDA</td>\n",
       "      <td>2062</td>\n",
       "      <td>49</td>\n",
       "      <td>4000,00</td>\n",
       "      <td>1</td>\n",
       "      <td>None</td>\n",
       "    </tr>\n",
       "  </tbody>\n",
       "</table>\n",
       "</div>"
      ]
     },
     "metadata": {
      "application/vnd.databricks.v1+output": {
       "addedWidgets": {},
       "arguments": {},
       "data": "<div>\n<style scoped>\n    .dataframe tbody tr th:only-of-type {\n        vertical-align: middle;\n    }\n\n    .dataframe tbody tr th {\n        vertical-align: top;\n    }\n\n    .dataframe thead th {\n        text-align: right;\n    }\n</style>\n<table border=\"1\" class=\"dataframe\">\n  <thead>\n    <tr style=\"text-align: right;\">\n      <th></th>\n      <th>_c0</th>\n      <th>_c1</th>\n      <th>_c2</th>\n      <th>_c3</th>\n      <th>_c4</th>\n      <th>_c5</th>\n      <th>_c6</th>\n    </tr>\n  </thead>\n  <tbody>\n    <tr>\n      <th>0</th>\n      <td>306</td>\n      <td>FRANCAMAR REFRIGERACAO TECNICA S/C LTDA</td>\n      <td>2240</td>\n      <td>49</td>\n      <td>0,00</td>\n      <td>1</td>\n      <td>None</td>\n    </tr>\n    <tr>\n      <th>1</th>\n      <td>1355</td>\n      <td>BRASILEIRO &amp; OLIVEIRA LTDA</td>\n      <td>2062</td>\n      <td>49</td>\n      <td>0,00</td>\n      <td>5</td>\n      <td>None</td>\n    </tr>\n    <tr>\n      <th>2</th>\n      <td>4820</td>\n      <td>REGISTRO DE IMOVEIS, TABELIONATO 1 DE NOTAS E ...</td>\n      <td>3034</td>\n      <td>32</td>\n      <td>0,00</td>\n      <td>5</td>\n      <td>None</td>\n    </tr>\n    <tr>\n      <th>3</th>\n      <td>5347</td>\n      <td>ROSELY APARECIDA MONTEIRO CALTABIANO FREITAS</td>\n      <td>2135</td>\n      <td>50</td>\n      <td>0,00</td>\n      <td>5</td>\n      <td>None</td>\n    </tr>\n    <tr>\n      <th>4</th>\n      <td>6846</td>\n      <td>BADU E FILHOS TECIDOS LTDA</td>\n      <td>2062</td>\n      <td>49</td>\n      <td>4000,00</td>\n      <td>1</td>\n      <td>None</td>\n    </tr>\n  </tbody>\n</table>\n</div>",
       "datasetInfos": [],
       "metadata": {},
       "removedWidgets": [],
       "textData": null,
       "type": "htmlSandbox"
      }
     },
     "output_type": "display_data"
    }
   ],
   "source": [
    "Companies.limit(5).toPandas()"
   ]
  },
  {
   "cell_type": "code",
   "execution_count": 0,
   "metadata": {
    "application/vnd.databricks.v1+cell": {
     "cellMetadata": {
      "byteLimit": 2048000,
      "rowLimit": 10000
     },
     "inputWidgets": {},
     "nuid": "4c8446d9-45d3-4ce8-9dd2-122814f0a0c2",
     "showTitle": false,
     "title": ""
    }
   },
   "outputs": [
    {
     "output_type": "stream",
     "name": "stdout",
     "output_type": "stream",
     "text": [
      "Out[10]: ['cnpj_basico',\n 'razao_social_nome_empresarial',\n 'natureza_juridica',\n 'qualificacao_do_responsavel',\n 'capital_social_da_empresa',\n 'porte_da_empresa',\n 'ente_federativo_responsavel']"
     ]
    }
   ],
   "source": [
    "# Handling column names and data types\n",
    "CompaniesColNames = ['cnpj_basico', 'razao_social_nome_empresarial', 'natureza_juridica', 'qualificacao_do_responsavel', 'capital_social_da_empresa', 'porte_da_empresa', 'ente_federativo_responsavel']\n",
    "\n",
    "for index, colName in enumerate(CompaniesColNames):\n",
    "    Companies = Companies.withColumnRenamed(f\"_c{index}\", colName)\n",
    "\n",
    "Companies.columns"
   ]
  },
  {
   "cell_type": "code",
   "execution_count": 0,
   "metadata": {
    "application/vnd.databricks.v1+cell": {
     "cellMetadata": {
      "byteLimit": 2048000,
      "rowLimit": 10000
     },
     "inputWidgets": {},
     "nuid": "1e6d6ace-b45d-44b5-9fb9-3792c4761a2b",
     "showTitle": false,
     "title": ""
    }
   },
   "outputs": [
    {
     "output_type": "stream",
     "name": "stdout",
     "output_type": "stream",
     "text": [
      "Out[11]: ['cnpj_basico',\n 'cnpj_ordem',\n 'cnpj_dv',\n 'identificador_matriz_filial',\n 'nome_fantasia',\n 'situacao_cadastral',\n 'data_situacao_cadastral',\n 'motivo_situacao_cadastral',\n 'nome_da_cidade_no_exterior',\n 'pais',\n 'data_de_inicio_atividade',\n 'cnae_fiscal_principal',\n 'cnae_fiscal_secundaria',\n 'tipo_de_logradouro',\n 'logradouro',\n 'numero',\n 'complemento',\n 'bairro',\n 'cep',\n 'uf',\n 'municipio',\n 'ddd_1',\n 'telefone_1',\n 'ddd_2',\n 'telefone_2',\n 'ddd_do_fax',\n 'fax',\n 'correio_eletronico',\n 'situacao_especial',\n 'data_da_situacao_especial']"
     ]
    }
   ],
   "source": [
    "\n",
    "estabsColNames = ['cnpj_basico', 'cnpj_ordem', 'cnpj_dv', 'identificador_matriz_filial', 'nome_fantasia', 'situacao_cadastral', 'data_situacao_cadastral', 'motivo_situacao_cadastral', 'nome_da_cidade_no_exterior', 'pais', 'data_de_inicio_atividade', 'cnae_fiscal_principal', 'cnae_fiscal_secundaria', 'tipo_de_logradouro', 'logradouro', 'numero', 'complemento', 'bairro', 'cep', 'uf', 'municipio', 'ddd_1', 'telefone_1', 'ddd_2', 'telefone_2', 'ddd_do_fax', 'fax', 'correio_eletronico', 'situacao_especial', 'data_da_situacao_especial']\n",
    "\n",
    "\n",
    "for index, colName in enumerate(estabsColNames):\n",
    "    Establishments = Establishments.withColumnRenamed(f\"_c{index}\", colName)\n",
    "    \n",
    "Establishments.columns"
   ]
  },
  {
   "cell_type": "code",
   "execution_count": 0,
   "metadata": {
    "application/vnd.databricks.v1+cell": {
     "cellMetadata": {
      "byteLimit": 2048000,
      "rowLimit": 10000
     },
     "inputWidgets": {},
     "nuid": "060f5d1d-5297-45c5-b725-9c8cf6c9ffca",
     "showTitle": false,
     "title": ""
    }
   },
   "outputs": [
    {
     "output_type": "stream",
     "name": "stdout",
     "output_type": "stream",
     "text": [
      "Out[12]: ['cnpj_basico',\n 'identificador_de_socio',\n 'nome_do_socio_ou_razao_social',\n 'cnpj_ou_cpf_do_socio',\n 'qualificacao_do_socio',\n 'data_de_entrada_sociedade',\n 'pais',\n 'representante_legal',\n 'nome_do_representante',\n 'qualificacao_do_representante_legal',\n 'faixa_etaria']"
     ]
    }
   ],
   "source": [
    "PartnersColNames = ['cnpj_basico', 'identificador_de_socio', 'nome_do_socio_ou_razao_social', 'cnpj_ou_cpf_do_socio', 'qualificacao_do_socio', 'data_de_entrada_sociedade', 'pais', 'representante_legal', 'nome_do_representante', 'qualificacao_do_representante_legal', 'faixa_etaria']\n",
    "\n",
    "\n",
    "for index, colName in enumerate(PartnersColNames):\n",
    "    Partners = Partners.withColumnRenamed(f\"_c{index}\", colName)\n",
    "\n",
    "Partners.columns"
   ]
  },
  {
   "cell_type": "markdown",
   "metadata": {
    "application/vnd.databricks.v1+cell": {
     "cellMetadata": {
      "byteLimit": 2048000,
      "rowLimit": 10000
     },
     "inputWidgets": {},
     "nuid": "865e476a-bc71-43fc-81e6-7e8ff6c27fb9",
     "showTitle": false,
     "title": ""
    }
   },
   "source": [
    "## Converting String ➔ Double\n",
    "\n",
    "### `StringType ➔ DoubleType`"
   ]
  },
  {
   "cell_type": "code",
   "execution_count": 0,
   "metadata": {
    "application/vnd.databricks.v1+cell": {
     "cellMetadata": {
      "byteLimit": 2048000,
      "rowLimit": 10000
     },
     "inputWidgets": {},
     "nuid": "132b14e1-bd4a-4ba2-a236-234e6294d178",
     "showTitle": false,
     "title": ""
    }
   },
   "outputs": [],
   "source": [
    "from pyspark.sql.types import DoubleType, StringType\n",
    "from pyspark.sql import functions as f"
   ]
  },
  {
   "cell_type": "code",
   "execution_count": 0,
   "metadata": {
    "application/vnd.databricks.v1+cell": {
     "cellMetadata": {
      "byteLimit": 2048000,
      "rowLimit": 10000
     },
     "inputWidgets": {},
     "nuid": "4bafe4dc-cc46-4d82-9e78-3f5668912f87",
     "showTitle": false,
     "title": ""
    }
   },
   "outputs": [
    {
     "output_type": "display_data",
     "data": {
      "text/html": [
       "<div>\n",
       "<style scoped>\n",
       "    .dataframe tbody tr th:only-of-type {\n",
       "        vertical-align: middle;\n",
       "    }\n",
       "\n",
       "    .dataframe tbody tr th {\n",
       "        vertical-align: top;\n",
       "    }\n",
       "\n",
       "    .dataframe thead th {\n",
       "        text-align: right;\n",
       "    }\n",
       "</style>\n",
       "<table border=\"1\" class=\"dataframe\">\n",
       "  <thead>\n",
       "    <tr style=\"text-align: right;\">\n",
       "      <th></th>\n",
       "      <th>cnpj_basico</th>\n",
       "      <th>razao_social_nome_empresarial</th>\n",
       "      <th>natureza_juridica</th>\n",
       "      <th>qualificacao_do_responsavel</th>\n",
       "      <th>capital_social_da_empresa</th>\n",
       "      <th>porte_da_empresa</th>\n",
       "      <th>ente_federativo_responsavel</th>\n",
       "    </tr>\n",
       "  </thead>\n",
       "  <tbody>\n",
       "    <tr>\n",
       "      <th>0</th>\n",
       "      <td>306</td>\n",
       "      <td>FRANCAMAR REFRIGERACAO TECNICA S/C LTDA</td>\n",
       "      <td>2240</td>\n",
       "      <td>49</td>\n",
       "      <td>0.00</td>\n",
       "      <td>1</td>\n",
       "      <td>None</td>\n",
       "    </tr>\n",
       "    <tr>\n",
       "      <th>1</th>\n",
       "      <td>1355</td>\n",
       "      <td>BRASILEIRO &amp; OLIVEIRA LTDA</td>\n",
       "      <td>2062</td>\n",
       "      <td>49</td>\n",
       "      <td>0.00</td>\n",
       "      <td>5</td>\n",
       "      <td>None</td>\n",
       "    </tr>\n",
       "    <tr>\n",
       "      <th>2</th>\n",
       "      <td>4820</td>\n",
       "      <td>REGISTRO DE IMOVEIS, TABELIONATO 1 DE NOTAS E ...</td>\n",
       "      <td>3034</td>\n",
       "      <td>32</td>\n",
       "      <td>0.00</td>\n",
       "      <td>5</td>\n",
       "      <td>None</td>\n",
       "    </tr>\n",
       "    <tr>\n",
       "      <th>3</th>\n",
       "      <td>5347</td>\n",
       "      <td>ROSELY APARECIDA MONTEIRO CALTABIANO FREITAS</td>\n",
       "      <td>2135</td>\n",
       "      <td>50</td>\n",
       "      <td>0.00</td>\n",
       "      <td>5</td>\n",
       "      <td>None</td>\n",
       "    </tr>\n",
       "    <tr>\n",
       "      <th>4</th>\n",
       "      <td>6846</td>\n",
       "      <td>BADU E FILHOS TECIDOS LTDA</td>\n",
       "      <td>2062</td>\n",
       "      <td>49</td>\n",
       "      <td>4000.00</td>\n",
       "      <td>1</td>\n",
       "      <td>None</td>\n",
       "    </tr>\n",
       "  </tbody>\n",
       "</table>\n",
       "</div>"
      ]
     },
     "metadata": {
      "application/vnd.databricks.v1+output": {
       "addedWidgets": {},
       "arguments": {},
       "data": "<div>\n<style scoped>\n    .dataframe tbody tr th:only-of-type {\n        vertical-align: middle;\n    }\n\n    .dataframe tbody tr th {\n        vertical-align: top;\n    }\n\n    .dataframe thead th {\n        text-align: right;\n    }\n</style>\n<table border=\"1\" class=\"dataframe\">\n  <thead>\n    <tr style=\"text-align: right;\">\n      <th></th>\n      <th>cnpj_basico</th>\n      <th>razao_social_nome_empresarial</th>\n      <th>natureza_juridica</th>\n      <th>qualificacao_do_responsavel</th>\n      <th>capital_social_da_empresa</th>\n      <th>porte_da_empresa</th>\n      <th>ente_federativo_responsavel</th>\n    </tr>\n  </thead>\n  <tbody>\n    <tr>\n      <th>0</th>\n      <td>306</td>\n      <td>FRANCAMAR REFRIGERACAO TECNICA S/C LTDA</td>\n      <td>2240</td>\n      <td>49</td>\n      <td>0.00</td>\n      <td>1</td>\n      <td>None</td>\n    </tr>\n    <tr>\n      <th>1</th>\n      <td>1355</td>\n      <td>BRASILEIRO &amp; OLIVEIRA LTDA</td>\n      <td>2062</td>\n      <td>49</td>\n      <td>0.00</td>\n      <td>5</td>\n      <td>None</td>\n    </tr>\n    <tr>\n      <th>2</th>\n      <td>4820</td>\n      <td>REGISTRO DE IMOVEIS, TABELIONATO 1 DE NOTAS E ...</td>\n      <td>3034</td>\n      <td>32</td>\n      <td>0.00</td>\n      <td>5</td>\n      <td>None</td>\n    </tr>\n    <tr>\n      <th>3</th>\n      <td>5347</td>\n      <td>ROSELY APARECIDA MONTEIRO CALTABIANO FREITAS</td>\n      <td>2135</td>\n      <td>50</td>\n      <td>0.00</td>\n      <td>5</td>\n      <td>None</td>\n    </tr>\n    <tr>\n      <th>4</th>\n      <td>6846</td>\n      <td>BADU E FILHOS TECIDOS LTDA</td>\n      <td>2062</td>\n      <td>49</td>\n      <td>4000.00</td>\n      <td>1</td>\n      <td>None</td>\n    </tr>\n  </tbody>\n</table>\n</div>",
       "datasetInfos": [],
       "metadata": {},
       "removedWidgets": [],
       "textData": null,
       "type": "htmlSandbox"
      }
     },
     "output_type": "display_data"
    }
   ],
   "source": [
    "# Using regex function to replace \",\" with \".\"\n",
    "Companies = Companies.withColumn('capital_social_da_empresa', f.regexp_replace('capital_social_da_empresa', ',', '.'))\n",
    "Companies.limit(5).toPandas()"
   ]
  },
  {
   "cell_type": "code",
   "execution_count": 0,
   "metadata": {
    "application/vnd.databricks.v1+cell": {
     "cellMetadata": {
      "byteLimit": 2048000,
      "rowLimit": 10000
     },
     "inputWidgets": {},
     "nuid": "8434830c-a409-4e64-86ed-acb40403bb38",
     "showTitle": false,
     "title": ""
    }
   },
   "outputs": [
    {
     "output_type": "display_data",
     "data": {
      "text/html": [
       "<div>\n",
       "<style scoped>\n",
       "    .dataframe tbody tr th:only-of-type {\n",
       "        vertical-align: middle;\n",
       "    }\n",
       "\n",
       "    .dataframe tbody tr th {\n",
       "        vertical-align: top;\n",
       "    }\n",
       "\n",
       "    .dataframe thead th {\n",
       "        text-align: right;\n",
       "    }\n",
       "</style>\n",
       "<table border=\"1\" class=\"dataframe\">\n",
       "  <thead>\n",
       "    <tr style=\"text-align: right;\">\n",
       "      <th></th>\n",
       "      <th>cnpj_basico</th>\n",
       "      <th>razao_social_nome_empresarial</th>\n",
       "      <th>natureza_juridica</th>\n",
       "      <th>qualificacao_do_responsavel</th>\n",
       "      <th>capital_social_da_empresa</th>\n",
       "      <th>porte_da_empresa</th>\n",
       "      <th>ente_federativo_responsavel</th>\n",
       "    </tr>\n",
       "  </thead>\n",
       "  <tbody>\n",
       "    <tr>\n",
       "      <th>0</th>\n",
       "      <td>306</td>\n",
       "      <td>FRANCAMAR REFRIGERACAO TECNICA S/C LTDA</td>\n",
       "      <td>2240</td>\n",
       "      <td>49</td>\n",
       "      <td>0.0</td>\n",
       "      <td>1</td>\n",
       "      <td>None</td>\n",
       "    </tr>\n",
       "    <tr>\n",
       "      <th>1</th>\n",
       "      <td>1355</td>\n",
       "      <td>BRASILEIRO &amp; OLIVEIRA LTDA</td>\n",
       "      <td>2062</td>\n",
       "      <td>49</td>\n",
       "      <td>0.0</td>\n",
       "      <td>5</td>\n",
       "      <td>None</td>\n",
       "    </tr>\n",
       "    <tr>\n",
       "      <th>2</th>\n",
       "      <td>4820</td>\n",
       "      <td>REGISTRO DE IMOVEIS, TABELIONATO 1 DE NOTAS E ...</td>\n",
       "      <td>3034</td>\n",
       "      <td>32</td>\n",
       "      <td>0.0</td>\n",
       "      <td>5</td>\n",
       "      <td>None</td>\n",
       "    </tr>\n",
       "    <tr>\n",
       "      <th>3</th>\n",
       "      <td>5347</td>\n",
       "      <td>ROSELY APARECIDA MONTEIRO CALTABIANO FREITAS</td>\n",
       "      <td>2135</td>\n",
       "      <td>50</td>\n",
       "      <td>0.0</td>\n",
       "      <td>5</td>\n",
       "      <td>None</td>\n",
       "    </tr>\n",
       "    <tr>\n",
       "      <th>4</th>\n",
       "      <td>6846</td>\n",
       "      <td>BADU E FILHOS TECIDOS LTDA</td>\n",
       "      <td>2062</td>\n",
       "      <td>49</td>\n",
       "      <td>4000.0</td>\n",
       "      <td>1</td>\n",
       "      <td>None</td>\n",
       "    </tr>\n",
       "  </tbody>\n",
       "</table>\n",
       "</div>"
      ]
     },
     "metadata": {
      "application/vnd.databricks.v1+output": {
       "addedWidgets": {},
       "arguments": {},
       "data": "<div>\n<style scoped>\n    .dataframe tbody tr th:only-of-type {\n        vertical-align: middle;\n    }\n\n    .dataframe tbody tr th {\n        vertical-align: top;\n    }\n\n    .dataframe thead th {\n        text-align: right;\n    }\n</style>\n<table border=\"1\" class=\"dataframe\">\n  <thead>\n    <tr style=\"text-align: right;\">\n      <th></th>\n      <th>cnpj_basico</th>\n      <th>razao_social_nome_empresarial</th>\n      <th>natureza_juridica</th>\n      <th>qualificacao_do_responsavel</th>\n      <th>capital_social_da_empresa</th>\n      <th>porte_da_empresa</th>\n      <th>ente_federativo_responsavel</th>\n    </tr>\n  </thead>\n  <tbody>\n    <tr>\n      <th>0</th>\n      <td>306</td>\n      <td>FRANCAMAR REFRIGERACAO TECNICA S/C LTDA</td>\n      <td>2240</td>\n      <td>49</td>\n      <td>0.0</td>\n      <td>1</td>\n      <td>None</td>\n    </tr>\n    <tr>\n      <th>1</th>\n      <td>1355</td>\n      <td>BRASILEIRO &amp; OLIVEIRA LTDA</td>\n      <td>2062</td>\n      <td>49</td>\n      <td>0.0</td>\n      <td>5</td>\n      <td>None</td>\n    </tr>\n    <tr>\n      <th>2</th>\n      <td>4820</td>\n      <td>REGISTRO DE IMOVEIS, TABELIONATO 1 DE NOTAS E ...</td>\n      <td>3034</td>\n      <td>32</td>\n      <td>0.0</td>\n      <td>5</td>\n      <td>None</td>\n    </tr>\n    <tr>\n      <th>3</th>\n      <td>5347</td>\n      <td>ROSELY APARECIDA MONTEIRO CALTABIANO FREITAS</td>\n      <td>2135</td>\n      <td>50</td>\n      <td>0.0</td>\n      <td>5</td>\n      <td>None</td>\n    </tr>\n    <tr>\n      <th>4</th>\n      <td>6846</td>\n      <td>BADU E FILHOS TECIDOS LTDA</td>\n      <td>2062</td>\n      <td>49</td>\n      <td>4000.0</td>\n      <td>1</td>\n      <td>None</td>\n    </tr>\n  </tbody>\n</table>\n</div>",
       "datasetInfos": [],
       "metadata": {},
       "removedWidgets": [],
       "textData": null,
       "type": "htmlSandbox"
      }
     },
     "output_type": "display_data"
    }
   ],
   "source": [
    "# Changing the column type\n",
    "Companies = Companies.withColumn('capital_social_da_empresa', Companies['capital_social_da_empresa'].cast(DoubleType()))\n",
    "Companies.limit(5).toPandas()"
   ]
  },
  {
   "cell_type": "markdown",
   "metadata": {
    "application/vnd.databricks.v1+cell": {
     "cellMetadata": {},
     "inputWidgets": {},
     "nuid": "8caa1612-053e-43bf-be83-76f56ff2fa93",
     "showTitle": false,
     "title": ""
    }
   },
   "source": [
    "## Converting String ➔ Date\n",
    "\n",
    "### `StringType ➔ DateType`\n"
   ]
  },
  {
   "cell_type": "code",
   "execution_count": 0,
   "metadata": {
    "application/vnd.databricks.v1+cell": {
     "cellMetadata": {
      "byteLimit": 2048000,
      "rowLimit": 10000
     },
     "inputWidgets": {},
     "nuid": "90edd9e2-26e6-428c-8d4b-fbdb40f19383",
     "showTitle": false,
     "title": ""
    }
   },
   "outputs": [
    {
     "output_type": "stream",
     "name": "stdout",
     "output_type": "stream",
     "text": [
      "root\n |-- cnpj_basico: integer (nullable = true)\n |-- cnpj_ordem: integer (nullable = true)\n |-- cnpj_dv: integer (nullable = true)\n |-- identificador_matriz_filial: integer (nullable = true)\n |-- nome_fantasia: string (nullable = true)\n |-- situacao_cadastral: integer (nullable = true)\n |-- data_situacao_cadastral: date (nullable = true)\n |-- motivo_situacao_cadastral: integer (nullable = true)\n |-- nome_da_cidade_no_exterior: string (nullable = true)\n |-- pais: integer (nullable = true)\n |-- data_de_inicio_atividade: date (nullable = true)\n |-- cnae_fiscal_principal: integer (nullable = true)\n |-- cnae_fiscal_secundaria: string (nullable = true)\n |-- tipo_de_logradouro: string (nullable = true)\n |-- logradouro: string (nullable = true)\n |-- numero: string (nullable = true)\n |-- complemento: string (nullable = true)\n |-- bairro: string (nullable = true)\n |-- cep: integer (nullable = true)\n |-- uf: string (nullable = true)\n |-- municipio: integer (nullable = true)\n |-- ddd_1: string (nullable = true)\n |-- telefone_1: string (nullable = true)\n |-- ddd_2: string (nullable = true)\n |-- telefone_2: string (nullable = true)\n |-- ddd_do_fax: integer (nullable = true)\n |-- fax: string (nullable = true)\n |-- correio_eletronico: string (nullable = true)\n |-- situacao_especial: string (nullable = true)\n |-- data_da_situacao_especial: date (nullable = true)\n\n"
     ]
    }
   ],
   "source": [
    "Establishments = Establishments\\\n",
    "    .withColumn(\n",
    "        \"data_situacao_cadastral\", \n",
    "        f.to_date(Establishments.data_situacao_cadastral.cast(StringType()), 'yyyyMMdd')\n",
    "    )\\\n",
    "    .withColumn(\n",
    "        \"data_de_inicio_atividade\", \n",
    "        f.to_date(Establishments.data_de_inicio_atividade.cast(StringType()), 'yyyyMMdd')\n",
    "    )\\\n",
    "    .withColumn(\n",
    "        \"data_da_situacao_especial\", \n",
    "        f.to_date(Establishments.data_da_situacao_especial.cast(StringType()), 'yyyyMMdd')\n",
    "    )\n",
    "\n",
    "Establishments.printSchema()"
   ]
  },
  {
   "cell_type": "code",
   "execution_count": 0,
   "metadata": {
    "application/vnd.databricks.v1+cell": {
     "cellMetadata": {
      "byteLimit": 2048000,
      "rowLimit": 10000
     },
     "inputWidgets": {},
     "nuid": "52267858-79ae-4ea4-9578-1b839db112f2",
     "showTitle": false,
     "title": ""
    }
   },
   "outputs": [
    {
     "output_type": "stream",
     "name": "stdout",
     "output_type": "stream",
     "text": [
      "root\n |-- cnpj_basico: integer (nullable = true)\n |-- identificador_de_socio: integer (nullable = true)\n |-- nome_do_socio_ou_razao_social: string (nullable = true)\n |-- cnpj_ou_cpf_do_socio: string (nullable = true)\n |-- qualificacao_do_socio: integer (nullable = true)\n |-- data_de_entrada_sociedade: date (nullable = true)\n |-- pais: integer (nullable = true)\n |-- representante_legal: string (nullable = true)\n |-- nome_do_representante: string (nullable = true)\n |-- qualificacao_do_representante_legal: integer (nullable = true)\n |-- faixa_etaria: integer (nullable = true)\n\n"
     ]
    }
   ],
   "source": [
    "Partners = Partners\\\n",
    "    .withColumn(\n",
    "        \"data_de_entrada_sociedade\", \n",
    "        f.to_date(Partners.data_de_entrada_sociedade.cast(StringType()), 'yyyyMMdd')\n",
    "    )\n",
    "\n",
    "Partners.printSchema()"
   ]
  },
  {
   "cell_type": "markdown",
   "metadata": {
    "application/vnd.databricks.v1+cell": {
     "cellMetadata": {},
     "inputWidgets": {},
     "nuid": "7e435551-27a6-4c86-83b5-d633117306ca",
     "showTitle": false,
     "title": ""
    }
   },
   "source": [
    "\n",
    "## Checking for null values"
   ]
  },
  {
   "cell_type": "code",
   "execution_count": 0,
   "metadata": {
    "application/vnd.databricks.v1+cell": {
     "cellMetadata": {
      "byteLimit": 2048000,
      "rowLimit": 10000
     },
     "inputWidgets": {},
     "nuid": "c72ac138-e5d4-4209-b90b-a756b011312e",
     "showTitle": false,
     "title": ""
    }
   },
   "outputs": [
    {
     "output_type": "display_data",
     "data": {
      "text/html": [
       "<div>\n",
       "<style scoped>\n",
       "    .dataframe tbody tr th:only-of-type {\n",
       "        vertical-align: middle;\n",
       "    }\n",
       "\n",
       "    .dataframe tbody tr th {\n",
       "        vertical-align: top;\n",
       "    }\n",
       "\n",
       "    .dataframe thead th {\n",
       "        text-align: right;\n",
       "    }\n",
       "</style>\n",
       "<table border=\"1\" class=\"dataframe\">\n",
       "  <thead>\n",
       "    <tr style=\"text-align: right;\">\n",
       "      <th></th>\n",
       "      <th>cnpj_basico</th>\n",
       "      <th>razao_social_nome_empresarial</th>\n",
       "      <th>natureza_juridica</th>\n",
       "      <th>qualificacao_do_responsavel</th>\n",
       "      <th>capital_social_da_empresa</th>\n",
       "      <th>porte_da_empresa</th>\n",
       "      <th>ente_federativo_responsavel</th>\n",
       "    </tr>\n",
       "  </thead>\n",
       "  <tbody>\n",
       "    <tr>\n",
       "      <th>0</th>\n",
       "      <td>0</td>\n",
       "      <td>0</td>\n",
       "      <td>0</td>\n",
       "      <td>0</td>\n",
       "      <td>0</td>\n",
       "      <td>5985</td>\n",
       "      <td>4579678</td>\n",
       "    </tr>\n",
       "  </tbody>\n",
       "</table>\n",
       "</div>"
      ]
     },
     "metadata": {
      "application/vnd.databricks.v1+output": {
       "addedWidgets": {},
       "arguments": {},
       "data": "<div>\n<style scoped>\n    .dataframe tbody tr th:only-of-type {\n        vertical-align: middle;\n    }\n\n    .dataframe tbody tr th {\n        vertical-align: top;\n    }\n\n    .dataframe thead th {\n        text-align: right;\n    }\n</style>\n<table border=\"1\" class=\"dataframe\">\n  <thead>\n    <tr style=\"text-align: right;\">\n      <th></th>\n      <th>cnpj_basico</th>\n      <th>razao_social_nome_empresarial</th>\n      <th>natureza_juridica</th>\n      <th>qualificacao_do_responsavel</th>\n      <th>capital_social_da_empresa</th>\n      <th>porte_da_empresa</th>\n      <th>ente_federativo_responsavel</th>\n    </tr>\n  </thead>\n  <tbody>\n    <tr>\n      <th>0</th>\n      <td>0</td>\n      <td>0</td>\n      <td>0</td>\n      <td>0</td>\n      <td>0</td>\n      <td>5985</td>\n      <td>4579678</td>\n    </tr>\n  </tbody>\n</table>\n</div>",
       "datasetInfos": [],
       "metadata": {},
       "removedWidgets": [],
       "textData": null,
       "type": "htmlSandbox"
      }
     },
     "output_type": "display_data"
    }
   ],
   "source": [
    "#Checking null values in the Companies dataframe\n",
    "\n",
    "Companies.select([f.count(f.when(f.isnull(c), 1)).alias(c) for c in Companies.columns]).toPandas()"
   ]
  },
  {
   "cell_type": "code",
   "execution_count": 0,
   "metadata": {
    "application/vnd.databricks.v1+cell": {
     "cellMetadata": {
      "byteLimit": 2048000,
      "rowLimit": 10000
     },
     "inputWidgets": {},
     "nuid": "7f042853-900c-4679-af7d-83014cc44878",
     "showTitle": false,
     "title": ""
    }
   },
   "outputs": [
    {
     "output_type": "display_data",
     "data": {
      "text/html": [
       "<div>\n",
       "<style scoped>\n",
       "    .dataframe tbody tr th:only-of-type {\n",
       "        vertical-align: middle;\n",
       "    }\n",
       "\n",
       "    .dataframe tbody tr th {\n",
       "        vertical-align: top;\n",
       "    }\n",
       "\n",
       "    .dataframe thead th {\n",
       "        text-align: right;\n",
       "    }\n",
       "</style>\n",
       "<table border=\"1\" class=\"dataframe\">\n",
       "  <thead>\n",
       "    <tr style=\"text-align: right;\">\n",
       "      <th></th>\n",
       "      <th>cnpj_basico</th>\n",
       "      <th>identificador_de_socio</th>\n",
       "      <th>nome_do_socio_ou_razao_social</th>\n",
       "      <th>cnpj_ou_cpf_do_socio</th>\n",
       "      <th>qualificacao_do_socio</th>\n",
       "      <th>data_de_entrada_sociedade</th>\n",
       "      <th>pais</th>\n",
       "      <th>representante_legal</th>\n",
       "      <th>nome_do_representante</th>\n",
       "      <th>qualificacao_do_representante_legal</th>\n",
       "      <th>faixa_etaria</th>\n",
       "    </tr>\n",
       "  </thead>\n",
       "  <tbody>\n",
       "    <tr>\n",
       "      <th>0</th>\n",
       "      <td>0</td>\n",
       "      <td>0</td>\n",
       "      <td>208</td>\n",
       "      <td>1234</td>\n",
       "      <td>0</td>\n",
       "      <td>1</td>\n",
       "      <td>2038255</td>\n",
       "      <td>0</td>\n",
       "      <td>1995432</td>\n",
       "      <td>0</td>\n",
       "      <td>0</td>\n",
       "    </tr>\n",
       "  </tbody>\n",
       "</table>\n",
       "</div>"
      ]
     },
     "metadata": {
      "application/vnd.databricks.v1+output": {
       "addedWidgets": {},
       "arguments": {},
       "data": "<div>\n<style scoped>\n    .dataframe tbody tr th:only-of-type {\n        vertical-align: middle;\n    }\n\n    .dataframe tbody tr th {\n        vertical-align: top;\n    }\n\n    .dataframe thead th {\n        text-align: right;\n    }\n</style>\n<table border=\"1\" class=\"dataframe\">\n  <thead>\n    <tr style=\"text-align: right;\">\n      <th></th>\n      <th>cnpj_basico</th>\n      <th>identificador_de_socio</th>\n      <th>nome_do_socio_ou_razao_social</th>\n      <th>cnpj_ou_cpf_do_socio</th>\n      <th>qualificacao_do_socio</th>\n      <th>data_de_entrada_sociedade</th>\n      <th>pais</th>\n      <th>representante_legal</th>\n      <th>nome_do_representante</th>\n      <th>qualificacao_do_representante_legal</th>\n      <th>faixa_etaria</th>\n    </tr>\n  </thead>\n  <tbody>\n    <tr>\n      <th>0</th>\n      <td>0</td>\n      <td>0</td>\n      <td>208</td>\n      <td>1234</td>\n      <td>0</td>\n      <td>1</td>\n      <td>2038255</td>\n      <td>0</td>\n      <td>1995432</td>\n      <td>0</td>\n      <td>0</td>\n    </tr>\n  </tbody>\n</table>\n</div>",
       "datasetInfos": [],
       "metadata": {},
       "removedWidgets": [],
       "textData": null,
       "type": "htmlSandbox"
      }
     },
     "output_type": "display_data"
    }
   ],
   "source": [
    "#Checking null values in the Partners dataframe\n",
    "\n",
    "Partners.select([f.count(f.when(f.isnull(c), 1)).alias(c) for c in Partners.columns]).toPandas()"
   ]
  },
  {
   "cell_type": "code",
   "execution_count": 0,
   "metadata": {
    "application/vnd.databricks.v1+cell": {
     "cellMetadata": {
      "byteLimit": 2048000,
      "rowLimit": 10000
     },
     "inputWidgets": {},
     "nuid": "afb28979-4be2-4658-a0c3-6fc0a1b0c298",
     "showTitle": false,
     "title": ""
    }
   },
   "outputs": [
    {
     "output_type": "display_data",
     "data": {
      "text/html": [
       "<div>\n",
       "<style scoped>\n",
       "    .dataframe tbody tr th:only-of-type {\n",
       "        vertical-align: middle;\n",
       "    }\n",
       "\n",
       "    .dataframe tbody tr th {\n",
       "        vertical-align: top;\n",
       "    }\n",
       "\n",
       "    .dataframe thead th {\n",
       "        text-align: right;\n",
       "    }\n",
       "</style>\n",
       "<table border=\"1\" class=\"dataframe\">\n",
       "  <thead>\n",
       "    <tr style=\"text-align: right;\">\n",
       "      <th></th>\n",
       "      <th>cnpj_basico</th>\n",
       "      <th>cnpj_ordem</th>\n",
       "      <th>cnpj_dv</th>\n",
       "      <th>identificador_matriz_filial</th>\n",
       "      <th>nome_fantasia</th>\n",
       "      <th>situacao_cadastral</th>\n",
       "      <th>data_situacao_cadastral</th>\n",
       "      <th>motivo_situacao_cadastral</th>\n",
       "      <th>nome_da_cidade_no_exterior</th>\n",
       "      <th>pais</th>\n",
       "      <th>...</th>\n",
       "      <th>municipio</th>\n",
       "      <th>ddd_1</th>\n",
       "      <th>telefone_1</th>\n",
       "      <th>ddd_2</th>\n",
       "      <th>telefone_2</th>\n",
       "      <th>ddd_do_fax</th>\n",
       "      <th>fax</th>\n",
       "      <th>correio_eletronico</th>\n",
       "      <th>situacao_especial</th>\n",
       "      <th>data_da_situacao_especial</th>\n",
       "    </tr>\n",
       "  </thead>\n",
       "  <tbody>\n",
       "    <tr>\n",
       "      <th>0</th>\n",
       "      <td>0</td>\n",
       "      <td>0</td>\n",
       "      <td>0</td>\n",
       "      <td>0</td>\n",
       "      <td>2014706</td>\n",
       "      <td>0</td>\n",
       "      <td>16195</td>\n",
       "      <td>0</td>\n",
       "      <td>4833519</td>\n",
       "      <td>4823786</td>\n",
       "      <td>...</td>\n",
       "      <td>0</td>\n",
       "      <td>1251627</td>\n",
       "      <td>1251623</td>\n",
       "      <td>4424413</td>\n",
       "      <td>4425166</td>\n",
       "      <td>4132454</td>\n",
       "      <td>4131990</td>\n",
       "      <td>2304672</td>\n",
       "      <td>4836208</td>\n",
       "      <td>4836208</td>\n",
       "    </tr>\n",
       "  </tbody>\n",
       "</table>\n",
       "<p>1 rows × 30 columns</p>\n",
       "</div>"
      ]
     },
     "metadata": {
      "application/vnd.databricks.v1+output": {
       "addedWidgets": {},
       "arguments": {},
       "data": "<div>\n<style scoped>\n    .dataframe tbody tr th:only-of-type {\n        vertical-align: middle;\n    }\n\n    .dataframe tbody tr th {\n        vertical-align: top;\n    }\n\n    .dataframe thead th {\n        text-align: right;\n    }\n</style>\n<table border=\"1\" class=\"dataframe\">\n  <thead>\n    <tr style=\"text-align: right;\">\n      <th></th>\n      <th>cnpj_basico</th>\n      <th>cnpj_ordem</th>\n      <th>cnpj_dv</th>\n      <th>identificador_matriz_filial</th>\n      <th>nome_fantasia</th>\n      <th>situacao_cadastral</th>\n      <th>data_situacao_cadastral</th>\n      <th>motivo_situacao_cadastral</th>\n      <th>nome_da_cidade_no_exterior</th>\n      <th>pais</th>\n      <th>...</th>\n      <th>municipio</th>\n      <th>ddd_1</th>\n      <th>telefone_1</th>\n      <th>ddd_2</th>\n      <th>telefone_2</th>\n      <th>ddd_do_fax</th>\n      <th>fax</th>\n      <th>correio_eletronico</th>\n      <th>situacao_especial</th>\n      <th>data_da_situacao_especial</th>\n    </tr>\n  </thead>\n  <tbody>\n    <tr>\n      <th>0</th>\n      <td>0</td>\n      <td>0</td>\n      <td>0</td>\n      <td>0</td>\n      <td>2014706</td>\n      <td>0</td>\n      <td>16195</td>\n      <td>0</td>\n      <td>4833519</td>\n      <td>4823786</td>\n      <td>...</td>\n      <td>0</td>\n      <td>1251627</td>\n      <td>1251623</td>\n      <td>4424413</td>\n      <td>4425166</td>\n      <td>4132454</td>\n      <td>4131990</td>\n      <td>2304672</td>\n      <td>4836208</td>\n      <td>4836208</td>\n    </tr>\n  </tbody>\n</table>\n<p>1 rows × 30 columns</p>\n</div>",
       "datasetInfos": [],
       "metadata": {},
       "removedWidgets": [],
       "textData": null,
       "type": "htmlSandbox"
      }
     },
     "output_type": "display_data"
    }
   ],
   "source": [
    "#Checking null values in the Establishments dataframe\n",
    "\n",
    "Establishments.select([f.count(f.when(f.isnull(c), 1)).alias(c) for c in Establishments.columns]).toPandas()"
   ]
  },
  {
   "cell_type": "code",
   "execution_count": 0,
   "metadata": {
    "application/vnd.databricks.v1+cell": {
     "cellMetadata": {
      "byteLimit": 2048000,
      "rowLimit": 10000
     },
     "inputWidgets": {},
     "nuid": "7f9eebff-6ceb-4986-b1fe-f01fde667673",
     "showTitle": false,
     "title": ""
    }
   },
   "outputs": [
    {
     "output_type": "display_data",
     "data": {
      "text/html": [
       "<div>\n",
       "<style scoped>\n",
       "    .dataframe tbody tr th:only-of-type {\n",
       "        vertical-align: middle;\n",
       "    }\n",
       "\n",
       "    .dataframe tbody tr th {\n",
       "        vertical-align: top;\n",
       "    }\n",
       "\n",
       "    .dataframe thead th {\n",
       "        text-align: right;\n",
       "    }\n",
       "</style>\n",
       "<table border=\"1\" class=\"dataframe\">\n",
       "  <thead>\n",
       "    <tr style=\"text-align: right;\">\n",
       "      <th></th>\n",
       "      <th>cnpj_basico</th>\n",
       "      <th>razao_social_nome_empresarial</th>\n",
       "      <th>natureza_juridica</th>\n",
       "      <th>qualificacao_do_responsavel</th>\n",
       "      <th>capital_social_da_empresa</th>\n",
       "      <th>porte_da_empresa</th>\n",
       "      <th>ente_federativo_responsavel</th>\n",
       "    </tr>\n",
       "  </thead>\n",
       "  <tbody>\n",
       "    <tr>\n",
       "      <th>0</th>\n",
       "      <td>306</td>\n",
       "      <td>FRANCAMAR REFRIGERACAO TECNICA S/C LTDA</td>\n",
       "      <td>2240</td>\n",
       "      <td>49</td>\n",
       "      <td>0.0</td>\n",
       "      <td>1</td>\n",
       "      <td>None</td>\n",
       "    </tr>\n",
       "    <tr>\n",
       "      <th>1</th>\n",
       "      <td>1355</td>\n",
       "      <td>BRASILEIRO &amp; OLIVEIRA LTDA</td>\n",
       "      <td>2062</td>\n",
       "      <td>49</td>\n",
       "      <td>0.0</td>\n",
       "      <td>5</td>\n",
       "      <td>None</td>\n",
       "    </tr>\n",
       "    <tr>\n",
       "      <th>2</th>\n",
       "      <td>4820</td>\n",
       "      <td>REGISTRO DE IMOVEIS, TABELIONATO 1 DE NOTAS E ...</td>\n",
       "      <td>3034</td>\n",
       "      <td>32</td>\n",
       "      <td>0.0</td>\n",
       "      <td>5</td>\n",
       "      <td>None</td>\n",
       "    </tr>\n",
       "    <tr>\n",
       "      <th>3</th>\n",
       "      <td>5347</td>\n",
       "      <td>ROSELY APARECIDA MONTEIRO CALTABIANO FREITAS</td>\n",
       "      <td>2135</td>\n",
       "      <td>50</td>\n",
       "      <td>0.0</td>\n",
       "      <td>5</td>\n",
       "      <td>None</td>\n",
       "    </tr>\n",
       "    <tr>\n",
       "      <th>4</th>\n",
       "      <td>6846</td>\n",
       "      <td>BADU E FILHOS TECIDOS LTDA</td>\n",
       "      <td>2062</td>\n",
       "      <td>49</td>\n",
       "      <td>4000.0</td>\n",
       "      <td>1</td>\n",
       "      <td>None</td>\n",
       "    </tr>\n",
       "  </tbody>\n",
       "</table>\n",
       "</div>"
      ]
     },
     "metadata": {
      "application/vnd.databricks.v1+output": {
       "addedWidgets": {},
       "arguments": {},
       "data": "<div>\n<style scoped>\n    .dataframe tbody tr th:only-of-type {\n        vertical-align: middle;\n    }\n\n    .dataframe tbody tr th {\n        vertical-align: top;\n    }\n\n    .dataframe thead th {\n        text-align: right;\n    }\n</style>\n<table border=\"1\" class=\"dataframe\">\n  <thead>\n    <tr style=\"text-align: right;\">\n      <th></th>\n      <th>cnpj_basico</th>\n      <th>razao_social_nome_empresarial</th>\n      <th>natureza_juridica</th>\n      <th>qualificacao_do_responsavel</th>\n      <th>capital_social_da_empresa</th>\n      <th>porte_da_empresa</th>\n      <th>ente_federativo_responsavel</th>\n    </tr>\n  </thead>\n  <tbody>\n    <tr>\n      <th>0</th>\n      <td>306</td>\n      <td>FRANCAMAR REFRIGERACAO TECNICA S/C LTDA</td>\n      <td>2240</td>\n      <td>49</td>\n      <td>0.0</td>\n      <td>1</td>\n      <td>None</td>\n    </tr>\n    <tr>\n      <th>1</th>\n      <td>1355</td>\n      <td>BRASILEIRO &amp; OLIVEIRA LTDA</td>\n      <td>2062</td>\n      <td>49</td>\n      <td>0.0</td>\n      <td>5</td>\n      <td>None</td>\n    </tr>\n    <tr>\n      <th>2</th>\n      <td>4820</td>\n      <td>REGISTRO DE IMOVEIS, TABELIONATO 1 DE NOTAS E ...</td>\n      <td>3034</td>\n      <td>32</td>\n      <td>0.0</td>\n      <td>5</td>\n      <td>None</td>\n    </tr>\n    <tr>\n      <th>3</th>\n      <td>5347</td>\n      <td>ROSELY APARECIDA MONTEIRO CALTABIANO FREITAS</td>\n      <td>2135</td>\n      <td>50</td>\n      <td>0.0</td>\n      <td>5</td>\n      <td>None</td>\n    </tr>\n    <tr>\n      <th>4</th>\n      <td>6846</td>\n      <td>BADU E FILHOS TECIDOS LTDA</td>\n      <td>2062</td>\n      <td>49</td>\n      <td>4000.0</td>\n      <td>1</td>\n      <td>None</td>\n    </tr>\n  </tbody>\n</table>\n</div>",
       "datasetInfos": [],
       "metadata": {},
       "removedWidgets": [],
       "textData": null,
       "type": "htmlSandbox"
      }
     },
     "output_type": "display_data"
    }
   ],
   "source": [
    "#Filling all null values with 0, but you can choose another strategy\n",
    "\n",
    "Companies.na.fill(0).limit(5).toPandas()"
   ]
  },
  {
   "cell_type": "code",
   "execution_count": 0,
   "metadata": {
    "application/vnd.databricks.v1+cell": {
     "cellMetadata": {
      "byteLimit": 2048000,
      "rowLimit": 10000
     },
     "inputWidgets": {},
     "nuid": "cc7ece9a-600e-4c44-88ba-5d27e66a4e3e",
     "showTitle": false,
     "title": ""
    }
   },
   "outputs": [
    {
     "output_type": "display_data",
     "data": {
      "text/html": [
       "<div>\n",
       "<style scoped>\n",
       "    .dataframe tbody tr th:only-of-type {\n",
       "        vertical-align: middle;\n",
       "    }\n",
       "\n",
       "    .dataframe tbody tr th {\n",
       "        vertical-align: top;\n",
       "    }\n",
       "\n",
       "    .dataframe thead th {\n",
       "        text-align: right;\n",
       "    }\n",
       "</style>\n",
       "<table border=\"1\" class=\"dataframe\">\n",
       "  <thead>\n",
       "    <tr style=\"text-align: right;\">\n",
       "      <th></th>\n",
       "      <th>cnpj_basico</th>\n",
       "      <th>identificador_de_socio</th>\n",
       "      <th>nome_do_socio_ou_razao_social</th>\n",
       "      <th>cnpj_ou_cpf_do_socio</th>\n",
       "      <th>qualificacao_do_socio</th>\n",
       "      <th>data_de_entrada_sociedade</th>\n",
       "      <th>pais</th>\n",
       "      <th>representante_legal</th>\n",
       "      <th>nome_do_representante</th>\n",
       "      <th>qualificacao_do_representante_legal</th>\n",
       "      <th>faixa_etaria</th>\n",
       "    </tr>\n",
       "  </thead>\n",
       "  <tbody>\n",
       "    <tr>\n",
       "      <th>0</th>\n",
       "      <td>411</td>\n",
       "      <td>2</td>\n",
       "      <td>LILIANA PATRICIA GUASTAVINO</td>\n",
       "      <td>***678188**</td>\n",
       "      <td>22</td>\n",
       "      <td>1994-07-25</td>\n",
       "      <td>0</td>\n",
       "      <td>***000000**</td>\n",
       "      <td>None</td>\n",
       "      <td>0</td>\n",
       "      <td>7</td>\n",
       "    </tr>\n",
       "    <tr>\n",
       "      <th>1</th>\n",
       "      <td>411</td>\n",
       "      <td>2</td>\n",
       "      <td>CRISTINA HUNDERTMARK</td>\n",
       "      <td>***637848**</td>\n",
       "      <td>28</td>\n",
       "      <td>1994-07-25</td>\n",
       "      <td>0</td>\n",
       "      <td>***000000**</td>\n",
       "      <td>None</td>\n",
       "      <td>0</td>\n",
       "      <td>7</td>\n",
       "    </tr>\n",
       "    <tr>\n",
       "      <th>2</th>\n",
       "      <td>5813</td>\n",
       "      <td>2</td>\n",
       "      <td>CELSO EDUARDO DE CASTRO STEPHAN</td>\n",
       "      <td>***786068**</td>\n",
       "      <td>49</td>\n",
       "      <td>1994-05-16</td>\n",
       "      <td>0</td>\n",
       "      <td>***000000**</td>\n",
       "      <td>None</td>\n",
       "      <td>0</td>\n",
       "      <td>8</td>\n",
       "    </tr>\n",
       "    <tr>\n",
       "      <th>3</th>\n",
       "      <td>5813</td>\n",
       "      <td>2</td>\n",
       "      <td>EDUARDO BERRINGER STEPHAN</td>\n",
       "      <td>***442348**</td>\n",
       "      <td>49</td>\n",
       "      <td>1994-05-16</td>\n",
       "      <td>0</td>\n",
       "      <td>***000000**</td>\n",
       "      <td>None</td>\n",
       "      <td>0</td>\n",
       "      <td>5</td>\n",
       "    </tr>\n",
       "    <tr>\n",
       "      <th>4</th>\n",
       "      <td>14798</td>\n",
       "      <td>2</td>\n",
       "      <td>HANNE MAHFOUD FADEL</td>\n",
       "      <td>***760388**</td>\n",
       "      <td>49</td>\n",
       "      <td>1994-06-09</td>\n",
       "      <td>0</td>\n",
       "      <td>***000000**</td>\n",
       "      <td>None</td>\n",
       "      <td>0</td>\n",
       "      <td>8</td>\n",
       "    </tr>\n",
       "  </tbody>\n",
       "</table>\n",
       "</div>"
      ]
     },
     "metadata": {
      "application/vnd.databricks.v1+output": {
       "addedWidgets": {},
       "arguments": {},
       "data": "<div>\n<style scoped>\n    .dataframe tbody tr th:only-of-type {\n        vertical-align: middle;\n    }\n\n    .dataframe tbody tr th {\n        vertical-align: top;\n    }\n\n    .dataframe thead th {\n        text-align: right;\n    }\n</style>\n<table border=\"1\" class=\"dataframe\">\n  <thead>\n    <tr style=\"text-align: right;\">\n      <th></th>\n      <th>cnpj_basico</th>\n      <th>identificador_de_socio</th>\n      <th>nome_do_socio_ou_razao_social</th>\n      <th>cnpj_ou_cpf_do_socio</th>\n      <th>qualificacao_do_socio</th>\n      <th>data_de_entrada_sociedade</th>\n      <th>pais</th>\n      <th>representante_legal</th>\n      <th>nome_do_representante</th>\n      <th>qualificacao_do_representante_legal</th>\n      <th>faixa_etaria</th>\n    </tr>\n  </thead>\n  <tbody>\n    <tr>\n      <th>0</th>\n      <td>411</td>\n      <td>2</td>\n      <td>LILIANA PATRICIA GUASTAVINO</td>\n      <td>***678188**</td>\n      <td>22</td>\n      <td>1994-07-25</td>\n      <td>0</td>\n      <td>***000000**</td>\n      <td>None</td>\n      <td>0</td>\n      <td>7</td>\n    </tr>\n    <tr>\n      <th>1</th>\n      <td>411</td>\n      <td>2</td>\n      <td>CRISTINA HUNDERTMARK</td>\n      <td>***637848**</td>\n      <td>28</td>\n      <td>1994-07-25</td>\n      <td>0</td>\n      <td>***000000**</td>\n      <td>None</td>\n      <td>0</td>\n      <td>7</td>\n    </tr>\n    <tr>\n      <th>2</th>\n      <td>5813</td>\n      <td>2</td>\n      <td>CELSO EDUARDO DE CASTRO STEPHAN</td>\n      <td>***786068**</td>\n      <td>49</td>\n      <td>1994-05-16</td>\n      <td>0</td>\n      <td>***000000**</td>\n      <td>None</td>\n      <td>0</td>\n      <td>8</td>\n    </tr>\n    <tr>\n      <th>3</th>\n      <td>5813</td>\n      <td>2</td>\n      <td>EDUARDO BERRINGER STEPHAN</td>\n      <td>***442348**</td>\n      <td>49</td>\n      <td>1994-05-16</td>\n      <td>0</td>\n      <td>***000000**</td>\n      <td>None</td>\n      <td>0</td>\n      <td>5</td>\n    </tr>\n    <tr>\n      <th>4</th>\n      <td>14798</td>\n      <td>2</td>\n      <td>HANNE MAHFOUD FADEL</td>\n      <td>***760388**</td>\n      <td>49</td>\n      <td>1994-06-09</td>\n      <td>0</td>\n      <td>***000000**</td>\n      <td>None</td>\n      <td>0</td>\n      <td>8</td>\n    </tr>\n  </tbody>\n</table>\n</div>",
       "datasetInfos": [],
       "metadata": {},
       "removedWidgets": [],
       "textData": null,
       "type": "htmlSandbox"
      }
     },
     "output_type": "display_data"
    }
   ],
   "source": [
    "#Filling all null values with 0, but you can choose another strategy\n",
    "\n",
    "Partners.na.fill(0).limit(5).toPandas()"
   ]
  },
  {
   "cell_type": "code",
   "execution_count": 0,
   "metadata": {
    "application/vnd.databricks.v1+cell": {
     "cellMetadata": {
      "byteLimit": 2048000,
      "rowLimit": 10000
     },
     "inputWidgets": {},
     "nuid": "a09092b2-7ad9-48c3-8a1a-a04c44ec6729",
     "showTitle": false,
     "title": ""
    }
   },
   "outputs": [
    {
     "output_type": "display_data",
     "data": {
      "text/html": [
       "<div>\n",
       "<style scoped>\n",
       "    .dataframe tbody tr th:only-of-type {\n",
       "        vertical-align: middle;\n",
       "    }\n",
       "\n",
       "    .dataframe tbody tr th {\n",
       "        vertical-align: top;\n",
       "    }\n",
       "\n",
       "    .dataframe thead th {\n",
       "        text-align: right;\n",
       "    }\n",
       "</style>\n",
       "<table border=\"1\" class=\"dataframe\">\n",
       "  <thead>\n",
       "    <tr style=\"text-align: right;\">\n",
       "      <th></th>\n",
       "      <th>cnpj_basico</th>\n",
       "      <th>identificador_de_socio</th>\n",
       "      <th>nome_do_socio_ou_razao_social</th>\n",
       "      <th>cnpj_ou_cpf_do_socio</th>\n",
       "      <th>qualificacao_do_socio</th>\n",
       "      <th>data_de_entrada_sociedade</th>\n",
       "      <th>pais</th>\n",
       "      <th>representante_legal</th>\n",
       "      <th>nome_do_representante</th>\n",
       "      <th>qualificacao_do_representante_legal</th>\n",
       "      <th>faixa_etaria</th>\n",
       "    </tr>\n",
       "  </thead>\n",
       "  <tbody>\n",
       "    <tr>\n",
       "      <th>0</th>\n",
       "      <td>411</td>\n",
       "      <td>2</td>\n",
       "      <td>LILIANA PATRICIA GUASTAVINO</td>\n",
       "      <td>***678188**</td>\n",
       "      <td>22</td>\n",
       "      <td>1994-07-25</td>\n",
       "      <td>NaN</td>\n",
       "      <td>***000000**</td>\n",
       "      <td>-</td>\n",
       "      <td>0</td>\n",
       "      <td>7</td>\n",
       "    </tr>\n",
       "    <tr>\n",
       "      <th>1</th>\n",
       "      <td>411</td>\n",
       "      <td>2</td>\n",
       "      <td>CRISTINA HUNDERTMARK</td>\n",
       "      <td>***637848**</td>\n",
       "      <td>28</td>\n",
       "      <td>1994-07-25</td>\n",
       "      <td>NaN</td>\n",
       "      <td>***000000**</td>\n",
       "      <td>-</td>\n",
       "      <td>0</td>\n",
       "      <td>7</td>\n",
       "    </tr>\n",
       "    <tr>\n",
       "      <th>2</th>\n",
       "      <td>5813</td>\n",
       "      <td>2</td>\n",
       "      <td>CELSO EDUARDO DE CASTRO STEPHAN</td>\n",
       "      <td>***786068**</td>\n",
       "      <td>49</td>\n",
       "      <td>1994-05-16</td>\n",
       "      <td>NaN</td>\n",
       "      <td>***000000**</td>\n",
       "      <td>-</td>\n",
       "      <td>0</td>\n",
       "      <td>8</td>\n",
       "    </tr>\n",
       "    <tr>\n",
       "      <th>3</th>\n",
       "      <td>5813</td>\n",
       "      <td>2</td>\n",
       "      <td>EDUARDO BERRINGER STEPHAN</td>\n",
       "      <td>***442348**</td>\n",
       "      <td>49</td>\n",
       "      <td>1994-05-16</td>\n",
       "      <td>NaN</td>\n",
       "      <td>***000000**</td>\n",
       "      <td>-</td>\n",
       "      <td>0</td>\n",
       "      <td>5</td>\n",
       "    </tr>\n",
       "    <tr>\n",
       "      <th>4</th>\n",
       "      <td>14798</td>\n",
       "      <td>2</td>\n",
       "      <td>HANNE MAHFOUD FADEL</td>\n",
       "      <td>***760388**</td>\n",
       "      <td>49</td>\n",
       "      <td>1994-06-09</td>\n",
       "      <td>NaN</td>\n",
       "      <td>***000000**</td>\n",
       "      <td>-</td>\n",
       "      <td>0</td>\n",
       "      <td>8</td>\n",
       "    </tr>\n",
       "  </tbody>\n",
       "</table>\n",
       "</div>"
      ]
     },
     "metadata": {
      "application/vnd.databricks.v1+output": {
       "addedWidgets": {},
       "arguments": {},
       "data": "<div>\n<style scoped>\n    .dataframe tbody tr th:only-of-type {\n        vertical-align: middle;\n    }\n\n    .dataframe tbody tr th {\n        vertical-align: top;\n    }\n\n    .dataframe thead th {\n        text-align: right;\n    }\n</style>\n<table border=\"1\" class=\"dataframe\">\n  <thead>\n    <tr style=\"text-align: right;\">\n      <th></th>\n      <th>cnpj_basico</th>\n      <th>identificador_de_socio</th>\n      <th>nome_do_socio_ou_razao_social</th>\n      <th>cnpj_ou_cpf_do_socio</th>\n      <th>qualificacao_do_socio</th>\n      <th>data_de_entrada_sociedade</th>\n      <th>pais</th>\n      <th>representante_legal</th>\n      <th>nome_do_representante</th>\n      <th>qualificacao_do_representante_legal</th>\n      <th>faixa_etaria</th>\n    </tr>\n  </thead>\n  <tbody>\n    <tr>\n      <th>0</th>\n      <td>411</td>\n      <td>2</td>\n      <td>LILIANA PATRICIA GUASTAVINO</td>\n      <td>***678188**</td>\n      <td>22</td>\n      <td>1994-07-25</td>\n      <td>NaN</td>\n      <td>***000000**</td>\n      <td>-</td>\n      <td>0</td>\n      <td>7</td>\n    </tr>\n    <tr>\n      <th>1</th>\n      <td>411</td>\n      <td>2</td>\n      <td>CRISTINA HUNDERTMARK</td>\n      <td>***637848**</td>\n      <td>28</td>\n      <td>1994-07-25</td>\n      <td>NaN</td>\n      <td>***000000**</td>\n      <td>-</td>\n      <td>0</td>\n      <td>7</td>\n    </tr>\n    <tr>\n      <th>2</th>\n      <td>5813</td>\n      <td>2</td>\n      <td>CELSO EDUARDO DE CASTRO STEPHAN</td>\n      <td>***786068**</td>\n      <td>49</td>\n      <td>1994-05-16</td>\n      <td>NaN</td>\n      <td>***000000**</td>\n      <td>-</td>\n      <td>0</td>\n      <td>8</td>\n    </tr>\n    <tr>\n      <th>3</th>\n      <td>5813</td>\n      <td>2</td>\n      <td>EDUARDO BERRINGER STEPHAN</td>\n      <td>***442348**</td>\n      <td>49</td>\n      <td>1994-05-16</td>\n      <td>NaN</td>\n      <td>***000000**</td>\n      <td>-</td>\n      <td>0</td>\n      <td>5</td>\n    </tr>\n    <tr>\n      <th>4</th>\n      <td>14798</td>\n      <td>2</td>\n      <td>HANNE MAHFOUD FADEL</td>\n      <td>***760388**</td>\n      <td>49</td>\n      <td>1994-06-09</td>\n      <td>NaN</td>\n      <td>***000000**</td>\n      <td>-</td>\n      <td>0</td>\n      <td>8</td>\n    </tr>\n  </tbody>\n</table>\n</div>",
       "datasetInfos": [],
       "metadata": {},
       "removedWidgets": [],
       "textData": null,
       "type": "htmlSandbox"
      }
     },
     "output_type": "display_data"
    }
   ],
   "source": [
    "#Filling all null values with - in string columns \n",
    "\n",
    "Partners.na.fill('-').limit(5).toPandas()"
   ]
  },
  {
   "cell_type": "markdown",
   "metadata": {
    "application/vnd.databricks.v1+cell": {
     "cellMetadata": {},
     "inputWidgets": {},
     "nuid": "ed7c814f-7832-4506-9f3c-7039f57a274d",
     "showTitle": false,
     "title": ""
    }
   },
   "source": [
    "\n",
    "## Inserting the column with the description of the codes"
   ]
  },
  {
   "cell_type": "code",
   "execution_count": 0,
   "metadata": {
    "application/vnd.databricks.v1+cell": {
     "cellMetadata": {
      "byteLimit": 2048000,
      "rowLimit": 10000
     },
     "inputWidgets": {},
     "nuid": "7b0ade8c-167a-4628-aecb-8f902504cd7b",
     "showTitle": false,
     "title": ""
    }
   },
   "outputs": [
    {
     "output_type": "display_data",
     "data": {
      "text/html": [
       "<div>\n",
       "<style scoped>\n",
       "    .dataframe tbody tr th:only-of-type {\n",
       "        vertical-align: middle;\n",
       "    }\n",
       "\n",
       "    .dataframe tbody tr th {\n",
       "        vertical-align: top;\n",
       "    }\n",
       "\n",
       "    .dataframe thead th {\n",
       "        text-align: right;\n",
       "    }\n",
       "</style>\n",
       "<table border=\"1\" class=\"dataframe\">\n",
       "  <thead>\n",
       "    <tr style=\"text-align: right;\">\n",
       "      <th></th>\n",
       "      <th>natureza</th>\n",
       "      <th>Descrição_Natureza</th>\n",
       "    </tr>\n",
       "  </thead>\n",
       "  <tbody>\n",
       "    <tr>\n",
       "      <th>0</th>\n",
       "      <td>0</td>\n",
       "      <td>Natureza Jurídica não informada</td>\n",
       "    </tr>\n",
       "    <tr>\n",
       "      <th>1</th>\n",
       "      <td>3271</td>\n",
       "      <td>Órgão de Direção Local de Partido Político</td>\n",
       "    </tr>\n",
       "    <tr>\n",
       "      <th>2</th>\n",
       "      <td>3280</td>\n",
       "      <td>Comitê Financeiro de Partido Político</td>\n",
       "    </tr>\n",
       "    <tr>\n",
       "      <th>3</th>\n",
       "      <td>3298</td>\n",
       "      <td>Frente Plebiscitária ou Referendária</td>\n",
       "    </tr>\n",
       "    <tr>\n",
       "      <th>4</th>\n",
       "      <td>3301</td>\n",
       "      <td>Organização Social (OS)</td>\n",
       "    </tr>\n",
       "  </tbody>\n",
       "</table>\n",
       "</div>"
      ]
     },
     "metadata": {
      "application/vnd.databricks.v1+output": {
       "addedWidgets": {},
       "arguments": {},
       "data": "<div>\n<style scoped>\n    .dataframe tbody tr th:only-of-type {\n        vertical-align: middle;\n    }\n\n    .dataframe tbody tr th {\n        vertical-align: top;\n    }\n\n    .dataframe thead th {\n        text-align: right;\n    }\n</style>\n<table border=\"1\" class=\"dataframe\">\n  <thead>\n    <tr style=\"text-align: right;\">\n      <th></th>\n      <th>natureza</th>\n      <th>Descrição_Natureza</th>\n    </tr>\n  </thead>\n  <tbody>\n    <tr>\n      <th>0</th>\n      <td>0</td>\n      <td>Natureza Jurídica não informada</td>\n    </tr>\n    <tr>\n      <th>1</th>\n      <td>3271</td>\n      <td>Órgão de Direção Local de Partido Político</td>\n    </tr>\n    <tr>\n      <th>2</th>\n      <td>3280</td>\n      <td>Comitê Financeiro de Partido Político</td>\n    </tr>\n    <tr>\n      <th>3</th>\n      <td>3298</td>\n      <td>Frente Plebiscitária ou Referendária</td>\n    </tr>\n    <tr>\n      <th>4</th>\n      <td>3301</td>\n      <td>Organização Social (OS)</td>\n    </tr>\n  </tbody>\n</table>\n</div>",
       "datasetInfos": [],
       "metadata": {},
       "removedWidgets": [],
       "textData": null,
       "type": "htmlSandbox"
      }
     },
     "output_type": "display_data"
    }
   ],
   "source": [
    "df_legal_nature.limit(5).toPandas()"
   ]
  },
  {
   "cell_type": "code",
   "execution_count": 0,
   "metadata": {
    "application/vnd.databricks.v1+cell": {
     "cellMetadata": {
      "byteLimit": 2048000,
      "rowLimit": 10000
     },
     "inputWidgets": {},
     "nuid": "d184220b-f732-48a1-b2d4-ac36d74dd7fd",
     "showTitle": false,
     "title": ""
    }
   },
   "outputs": [
    {
     "output_type": "display_data",
     "data": {
      "text/html": [
       "<div>\n",
       "<style scoped>\n",
       "    .dataframe tbody tr th:only-of-type {\n",
       "        vertical-align: middle;\n",
       "    }\n",
       "\n",
       "    .dataframe tbody tr th {\n",
       "        vertical-align: top;\n",
       "    }\n",
       "\n",
       "    .dataframe thead th {\n",
       "        text-align: right;\n",
       "    }\n",
       "</style>\n",
       "<table border=\"1\" class=\"dataframe\">\n",
       "  <thead>\n",
       "    <tr style=\"text-align: right;\">\n",
       "      <th></th>\n",
       "      <th>id</th>\n",
       "      <th>Descrição_qualificacao</th>\n",
       "    </tr>\n",
       "  </thead>\n",
       "  <tbody>\n",
       "    <tr>\n",
       "      <th>0</th>\n",
       "      <td>0</td>\n",
       "      <td>Não informada</td>\n",
       "    </tr>\n",
       "    <tr>\n",
       "      <th>1</th>\n",
       "      <td>5</td>\n",
       "      <td>Administrador</td>\n",
       "    </tr>\n",
       "    <tr>\n",
       "      <th>2</th>\n",
       "      <td>8</td>\n",
       "      <td>Conselheiro de Administração</td>\n",
       "    </tr>\n",
       "    <tr>\n",
       "      <th>3</th>\n",
       "      <td>9</td>\n",
       "      <td>Curador</td>\n",
       "    </tr>\n",
       "    <tr>\n",
       "      <th>4</th>\n",
       "      <td>10</td>\n",
       "      <td>Diretor</td>\n",
       "    </tr>\n",
       "  </tbody>\n",
       "</table>\n",
       "</div>"
      ]
     },
     "metadata": {
      "application/vnd.databricks.v1+output": {
       "addedWidgets": {},
       "arguments": {},
       "data": "<div>\n<style scoped>\n    .dataframe tbody tr th:only-of-type {\n        vertical-align: middle;\n    }\n\n    .dataframe tbody tr th {\n        vertical-align: top;\n    }\n\n    .dataframe thead th {\n        text-align: right;\n    }\n</style>\n<table border=\"1\" class=\"dataframe\">\n  <thead>\n    <tr style=\"text-align: right;\">\n      <th></th>\n      <th>id</th>\n      <th>Descrição_qualificacao</th>\n    </tr>\n  </thead>\n  <tbody>\n    <tr>\n      <th>0</th>\n      <td>0</td>\n      <td>Não informada</td>\n    </tr>\n    <tr>\n      <th>1</th>\n      <td>5</td>\n      <td>Administrador</td>\n    </tr>\n    <tr>\n      <th>2</th>\n      <td>8</td>\n      <td>Conselheiro de Administração</td>\n    </tr>\n    <tr>\n      <th>3</th>\n      <td>9</td>\n      <td>Curador</td>\n    </tr>\n    <tr>\n      <th>4</th>\n      <td>10</td>\n      <td>Diretor</td>\n    </tr>\n  </tbody>\n</table>\n</div>",
       "datasetInfos": [],
       "metadata": {},
       "removedWidgets": [],
       "textData": null,
       "type": "htmlSandbox"
      }
     },
     "output_type": "display_data"
    }
   ],
   "source": [
    "df_qualificacao_responsavel.limit(5).toPandas()"
   ]
  },
  {
   "cell_type": "markdown",
   "metadata": {
    "application/vnd.databricks.v1+cell": {
     "cellMetadata": {
      "byteLimit": 2048000,
      "rowLimit": 10000
     },
     "inputWidgets": {},
     "nuid": "eaef2c51-de36-4a74-b43a-d20e9f21470b",
     "showTitle": false,
     "title": ""
    }
   },
   "source": [
    "\n",
    "### Manipulating cols"
   ]
  },
  {
   "cell_type": "code",
   "execution_count": 0,
   "metadata": {
    "application/vnd.databricks.v1+cell": {
     "cellMetadata": {
      "byteLimit": 2048000,
      "rowLimit": 10000
     },
     "inputWidgets": {},
     "nuid": "a57a8cde-92a4-48c9-b62d-deeaa339b34a",
     "showTitle": false,
     "title": ""
    }
   },
   "outputs": [
    {
     "output_type": "display_data",
     "data": {
      "text/html": [
       "<div>\n",
       "<style scoped>\n",
       "    .dataframe tbody tr th:only-of-type {\n",
       "        vertical-align: middle;\n",
       "    }\n",
       "\n",
       "    .dataframe tbody tr th {\n",
       "        vertical-align: top;\n",
       "    }\n",
       "\n",
       "    .dataframe thead th {\n",
       "        text-align: right;\n",
       "    }\n",
       "</style>\n",
       "<table border=\"1\" class=\"dataframe\">\n",
       "  <thead>\n",
       "    <tr style=\"text-align: right;\">\n",
       "      <th></th>\n",
       "      <th>cnpj_basico</th>\n",
       "      <th>razao_social_nome_empresarial</th>\n",
       "      <th>natureza_juridica</th>\n",
       "      <th>qualificacao_do_responsavel</th>\n",
       "      <th>capital_social_da_empresa</th>\n",
       "      <th>porte_da_empresa</th>\n",
       "      <th>ente_federativo_responsavel</th>\n",
       "      <th>natureza</th>\n",
       "      <th>Descrição_Natureza</th>\n",
       "      <th>id</th>\n",
       "      <th>Descrição_qualificacao</th>\n",
       "    </tr>\n",
       "  </thead>\n",
       "  <tbody>\n",
       "    <tr>\n",
       "      <th>0</th>\n",
       "      <td>306</td>\n",
       "      <td>FRANCAMAR REFRIGERACAO TECNICA S/C LTDA</td>\n",
       "      <td>2240</td>\n",
       "      <td>49</td>\n",
       "      <td>0.0</td>\n",
       "      <td>1</td>\n",
       "      <td>None</td>\n",
       "      <td>2240</td>\n",
       "      <td>Sociedade Simples Limitada</td>\n",
       "      <td>49</td>\n",
       "      <td>Sócio-Administrador</td>\n",
       "    </tr>\n",
       "    <tr>\n",
       "      <th>1</th>\n",
       "      <td>1355</td>\n",
       "      <td>BRASILEIRO &amp; OLIVEIRA LTDA</td>\n",
       "      <td>2062</td>\n",
       "      <td>49</td>\n",
       "      <td>0.0</td>\n",
       "      <td>5</td>\n",
       "      <td>None</td>\n",
       "      <td>2062</td>\n",
       "      <td>Sociedade Empresária Limitada</td>\n",
       "      <td>49</td>\n",
       "      <td>Sócio-Administrador</td>\n",
       "    </tr>\n",
       "    <tr>\n",
       "      <th>2</th>\n",
       "      <td>4820</td>\n",
       "      <td>REGISTRO DE IMOVEIS, TABELIONATO 1 DE NOTAS E ...</td>\n",
       "      <td>3034</td>\n",
       "      <td>32</td>\n",
       "      <td>0.0</td>\n",
       "      <td>5</td>\n",
       "      <td>None</td>\n",
       "      <td>3034</td>\n",
       "      <td>Serviço Notarial e Registral (Cartório)</td>\n",
       "      <td>32</td>\n",
       "      <td>Tabelião</td>\n",
       "    </tr>\n",
       "    <tr>\n",
       "      <th>3</th>\n",
       "      <td>5347</td>\n",
       "      <td>ROSELY APARECIDA MONTEIRO CALTABIANO FREITAS</td>\n",
       "      <td>2135</td>\n",
       "      <td>50</td>\n",
       "      <td>0.0</td>\n",
       "      <td>5</td>\n",
       "      <td>None</td>\n",
       "      <td>2135</td>\n",
       "      <td>Empresário (Individual)</td>\n",
       "      <td>50</td>\n",
       "      <td>Empresário</td>\n",
       "    </tr>\n",
       "    <tr>\n",
       "      <th>4</th>\n",
       "      <td>6846</td>\n",
       "      <td>BADU E FILHOS TECIDOS LTDA</td>\n",
       "      <td>2062</td>\n",
       "      <td>49</td>\n",
       "      <td>4000.0</td>\n",
       "      <td>1</td>\n",
       "      <td>None</td>\n",
       "      <td>2062</td>\n",
       "      <td>Sociedade Empresária Limitada</td>\n",
       "      <td>49</td>\n",
       "      <td>Sócio-Administrador</td>\n",
       "    </tr>\n",
       "  </tbody>\n",
       "</table>\n",
       "</div>"
      ]
     },
     "metadata": {
      "application/vnd.databricks.v1+output": {
       "addedWidgets": {},
       "arguments": {},
       "data": "<div>\n<style scoped>\n    .dataframe tbody tr th:only-of-type {\n        vertical-align: middle;\n    }\n\n    .dataframe tbody tr th {\n        vertical-align: top;\n    }\n\n    .dataframe thead th {\n        text-align: right;\n    }\n</style>\n<table border=\"1\" class=\"dataframe\">\n  <thead>\n    <tr style=\"text-align: right;\">\n      <th></th>\n      <th>cnpj_basico</th>\n      <th>razao_social_nome_empresarial</th>\n      <th>natureza_juridica</th>\n      <th>qualificacao_do_responsavel</th>\n      <th>capital_social_da_empresa</th>\n      <th>porte_da_empresa</th>\n      <th>ente_federativo_responsavel</th>\n      <th>natureza</th>\n      <th>Descrição_Natureza</th>\n      <th>id</th>\n      <th>Descrição_qualificacao</th>\n    </tr>\n  </thead>\n  <tbody>\n    <tr>\n      <th>0</th>\n      <td>306</td>\n      <td>FRANCAMAR REFRIGERACAO TECNICA S/C LTDA</td>\n      <td>2240</td>\n      <td>49</td>\n      <td>0.0</td>\n      <td>1</td>\n      <td>None</td>\n      <td>2240</td>\n      <td>Sociedade Simples Limitada</td>\n      <td>49</td>\n      <td>Sócio-Administrador</td>\n    </tr>\n    <tr>\n      <th>1</th>\n      <td>1355</td>\n      <td>BRASILEIRO &amp; OLIVEIRA LTDA</td>\n      <td>2062</td>\n      <td>49</td>\n      <td>0.0</td>\n      <td>5</td>\n      <td>None</td>\n      <td>2062</td>\n      <td>Sociedade Empresária Limitada</td>\n      <td>49</td>\n      <td>Sócio-Administrador</td>\n    </tr>\n    <tr>\n      <th>2</th>\n      <td>4820</td>\n      <td>REGISTRO DE IMOVEIS, TABELIONATO 1 DE NOTAS E ...</td>\n      <td>3034</td>\n      <td>32</td>\n      <td>0.0</td>\n      <td>5</td>\n      <td>None</td>\n      <td>3034</td>\n      <td>Serviço Notarial e Registral (Cartório)</td>\n      <td>32</td>\n      <td>Tabelião</td>\n    </tr>\n    <tr>\n      <th>3</th>\n      <td>5347</td>\n      <td>ROSELY APARECIDA MONTEIRO CALTABIANO FREITAS</td>\n      <td>2135</td>\n      <td>50</td>\n      <td>0.0</td>\n      <td>5</td>\n      <td>None</td>\n      <td>2135</td>\n      <td>Empresário (Individual)</td>\n      <td>50</td>\n      <td>Empresário</td>\n    </tr>\n    <tr>\n      <th>4</th>\n      <td>6846</td>\n      <td>BADU E FILHOS TECIDOS LTDA</td>\n      <td>2062</td>\n      <td>49</td>\n      <td>4000.0</td>\n      <td>1</td>\n      <td>None</td>\n      <td>2062</td>\n      <td>Sociedade Empresária Limitada</td>\n      <td>49</td>\n      <td>Sócio-Administrador</td>\n    </tr>\n  </tbody>\n</table>\n</div>",
       "datasetInfos": [],
       "metadata": {},
       "removedWidgets": [],
       "textData": null,
       "type": "htmlSandbox"
      }
     },
     "output_type": "display_data"
    }
   ],
   "source": [
    "# Joining the original \"Companies\" DataFrame with the DataFrames with the description codes for Legal nature and Partner qualification\n",
    "df_Companies = Companies.join(df_legal_nature, Companies['natureza_juridica'] == df_legal_nature['natureza'], \"left\") \\\n",
    "                                     .join(df_qualificacao_responsavel, Companies['qualificacao_do_responsavel'] == df_qualificacao_responsavel['id'], \"left\")\n",
    "\n",
    "# Visualizing the resulting DataFrame\n",
    "df_Companies.limit(5).toPandas()"
   ]
  },
  {
   "cell_type": "code",
   "execution_count": 0,
   "metadata": {
    "application/vnd.databricks.v1+cell": {
     "cellMetadata": {
      "byteLimit": 2048000,
      "rowLimit": 10000
     },
     "inputWidgets": {},
     "nuid": "04b198e3-4311-42d3-8b37-79de7a004710",
     "showTitle": false,
     "title": ""
    }
   },
   "outputs": [
    {
     "output_type": "stream",
     "name": "stdout",
     "output_type": "stream",
     "text": [
      "root\n |-- cnpj_basico: integer (nullable = true)\n |-- razao_social_nome_empresarial: string (nullable = true)\n |-- natureza_juridica: integer (nullable = true)\n |-- qualificacao_do_responsavel: integer (nullable = true)\n |-- capital_social_da_empresa: double (nullable = true)\n |-- porte_da_empresa: integer (nullable = true)\n |-- ente_federativo_responsavel: string (nullable = true)\n |-- natureza: integer (nullable = true)\n |-- Descrição_Natureza: string (nullable = true)\n |-- id: integer (nullable = true)\n |-- Descrição_qualificacao: string (nullable = true)\n\n"
     ]
    }
   ],
   "source": [
    "df_Companies.printSchema()"
   ]
  },
  {
   "cell_type": "code",
   "execution_count": 0,
   "metadata": {
    "application/vnd.databricks.v1+cell": {
     "cellMetadata": {
      "byteLimit": 2048000,
      "rowLimit": 10000
     },
     "inputWidgets": {},
     "nuid": "9aacbb58-61aa-48f9-8636-ba39cdd791fe",
     "showTitle": false,
     "title": ""
    }
   },
   "outputs": [
    {
     "output_type": "display_data",
     "data": {
      "text/html": [
       "<div>\n",
       "<style scoped>\n",
       "    .dataframe tbody tr th:only-of-type {\n",
       "        vertical-align: middle;\n",
       "    }\n",
       "\n",
       "    .dataframe tbody tr th {\n",
       "        vertical-align: top;\n",
       "    }\n",
       "\n",
       "    .dataframe thead th {\n",
       "        text-align: right;\n",
       "    }\n",
       "</style>\n",
       "<table border=\"1\" class=\"dataframe\">\n",
       "  <thead>\n",
       "    <tr style=\"text-align: right;\">\n",
       "      <th></th>\n",
       "      <th>cnpj_basico</th>\n",
       "      <th>razao_social_nome_empresarial</th>\n",
       "      <th>natureza_juridica</th>\n",
       "      <th>qualificacao_do_responsavel</th>\n",
       "      <th>capital_social_da_empresa</th>\n",
       "      <th>porte_da_empresa</th>\n",
       "      <th>ente_federativo_responsavel</th>\n",
       "      <th>natureza</th>\n",
       "      <th>Descrição_Natureza</th>\n",
       "      <th>id</th>\n",
       "      <th>Descrição_qualificacao</th>\n",
       "      <th>company_size</th>\n",
       "    </tr>\n",
       "  </thead>\n",
       "  <tbody>\n",
       "    <tr>\n",
       "      <th>0</th>\n",
       "      <td>306</td>\n",
       "      <td>FRANCAMAR REFRIGERACAO TECNICA S/C LTDA</td>\n",
       "      <td>2240</td>\n",
       "      <td>49</td>\n",
       "      <td>0.0</td>\n",
       "      <td>1</td>\n",
       "      <td>None</td>\n",
       "      <td>2240</td>\n",
       "      <td>Sociedade Simples Limitada</td>\n",
       "      <td>49</td>\n",
       "      <td>Sócio-Administrador</td>\n",
       "      <td>MICRO COMPANY</td>\n",
       "    </tr>\n",
       "    <tr>\n",
       "      <th>1</th>\n",
       "      <td>1355</td>\n",
       "      <td>BRASILEIRO &amp; OLIVEIRA LTDA</td>\n",
       "      <td>2062</td>\n",
       "      <td>49</td>\n",
       "      <td>0.0</td>\n",
       "      <td>5</td>\n",
       "      <td>None</td>\n",
       "      <td>2062</td>\n",
       "      <td>Sociedade Empresária Limitada</td>\n",
       "      <td>49</td>\n",
       "      <td>Sócio-Administrador</td>\n",
       "      <td>OTHER</td>\n",
       "    </tr>\n",
       "    <tr>\n",
       "      <th>2</th>\n",
       "      <td>4820</td>\n",
       "      <td>REGISTRO DE IMOVEIS, TABELIONATO 1 DE NOTAS E ...</td>\n",
       "      <td>3034</td>\n",
       "      <td>32</td>\n",
       "      <td>0.0</td>\n",
       "      <td>5</td>\n",
       "      <td>None</td>\n",
       "      <td>3034</td>\n",
       "      <td>Serviço Notarial e Registral (Cartório)</td>\n",
       "      <td>32</td>\n",
       "      <td>Tabelião</td>\n",
       "      <td>OTHER</td>\n",
       "    </tr>\n",
       "    <tr>\n",
       "      <th>3</th>\n",
       "      <td>5347</td>\n",
       "      <td>ROSELY APARECIDA MONTEIRO CALTABIANO FREITAS</td>\n",
       "      <td>2135</td>\n",
       "      <td>50</td>\n",
       "      <td>0.0</td>\n",
       "      <td>5</td>\n",
       "      <td>None</td>\n",
       "      <td>2135</td>\n",
       "      <td>Empresário (Individual)</td>\n",
       "      <td>50</td>\n",
       "      <td>Empresário</td>\n",
       "      <td>OTHER</td>\n",
       "    </tr>\n",
       "    <tr>\n",
       "      <th>4</th>\n",
       "      <td>6846</td>\n",
       "      <td>BADU E FILHOS TECIDOS LTDA</td>\n",
       "      <td>2062</td>\n",
       "      <td>49</td>\n",
       "      <td>4000.0</td>\n",
       "      <td>1</td>\n",
       "      <td>None</td>\n",
       "      <td>2062</td>\n",
       "      <td>Sociedade Empresária Limitada</td>\n",
       "      <td>49</td>\n",
       "      <td>Sócio-Administrador</td>\n",
       "      <td>MICRO COMPANY</td>\n",
       "    </tr>\n",
       "  </tbody>\n",
       "</table>\n",
       "</div>"
      ]
     },
     "metadata": {
      "application/vnd.databricks.v1+output": {
       "addedWidgets": {},
       "arguments": {},
       "data": "<div>\n<style scoped>\n    .dataframe tbody tr th:only-of-type {\n        vertical-align: middle;\n    }\n\n    .dataframe tbody tr th {\n        vertical-align: top;\n    }\n\n    .dataframe thead th {\n        text-align: right;\n    }\n</style>\n<table border=\"1\" class=\"dataframe\">\n  <thead>\n    <tr style=\"text-align: right;\">\n      <th></th>\n      <th>cnpj_basico</th>\n      <th>razao_social_nome_empresarial</th>\n      <th>natureza_juridica</th>\n      <th>qualificacao_do_responsavel</th>\n      <th>capital_social_da_empresa</th>\n      <th>porte_da_empresa</th>\n      <th>ente_federativo_responsavel</th>\n      <th>natureza</th>\n      <th>Descrição_Natureza</th>\n      <th>id</th>\n      <th>Descrição_qualificacao</th>\n      <th>company_size</th>\n    </tr>\n  </thead>\n  <tbody>\n    <tr>\n      <th>0</th>\n      <td>306</td>\n      <td>FRANCAMAR REFRIGERACAO TECNICA S/C LTDA</td>\n      <td>2240</td>\n      <td>49</td>\n      <td>0.0</td>\n      <td>1</td>\n      <td>None</td>\n      <td>2240</td>\n      <td>Sociedade Simples Limitada</td>\n      <td>49</td>\n      <td>Sócio-Administrador</td>\n      <td>MICRO COMPANY</td>\n    </tr>\n    <tr>\n      <th>1</th>\n      <td>1355</td>\n      <td>BRASILEIRO &amp; OLIVEIRA LTDA</td>\n      <td>2062</td>\n      <td>49</td>\n      <td>0.0</td>\n      <td>5</td>\n      <td>None</td>\n      <td>2062</td>\n      <td>Sociedade Empresária Limitada</td>\n      <td>49</td>\n      <td>Sócio-Administrador</td>\n      <td>OTHER</td>\n    </tr>\n    <tr>\n      <th>2</th>\n      <td>4820</td>\n      <td>REGISTRO DE IMOVEIS, TABELIONATO 1 DE NOTAS E ...</td>\n      <td>3034</td>\n      <td>32</td>\n      <td>0.0</td>\n      <td>5</td>\n      <td>None</td>\n      <td>3034</td>\n      <td>Serviço Notarial e Registral (Cartório)</td>\n      <td>32</td>\n      <td>Tabelião</td>\n      <td>OTHER</td>\n    </tr>\n    <tr>\n      <th>3</th>\n      <td>5347</td>\n      <td>ROSELY APARECIDA MONTEIRO CALTABIANO FREITAS</td>\n      <td>2135</td>\n      <td>50</td>\n      <td>0.0</td>\n      <td>5</td>\n      <td>None</td>\n      <td>2135</td>\n      <td>Empresário (Individual)</td>\n      <td>50</td>\n      <td>Empresário</td>\n      <td>OTHER</td>\n    </tr>\n    <tr>\n      <th>4</th>\n      <td>6846</td>\n      <td>BADU E FILHOS TECIDOS LTDA</td>\n      <td>2062</td>\n      <td>49</td>\n      <td>4000.0</td>\n      <td>1</td>\n      <td>None</td>\n      <td>2062</td>\n      <td>Sociedade Empresária Limitada</td>\n      <td>49</td>\n      <td>Sócio-Administrador</td>\n      <td>MICRO COMPANY</td>\n    </tr>\n  </tbody>\n</table>\n</div>",
       "datasetInfos": [],
       "metadata": {},
       "removedWidgets": [],
       "textData": null,
       "type": "htmlSandbox"
      }
     },
     "output_type": "display_data"
    }
   ],
   "source": [
    "from pyspark.sql.functions import when\n",
    "\n",
    "# Adding a new column 'company_size' based on the company size code\n",
    "df_Companies = df_Companies.withColumn(\"company_size\", \n",
    "                                                when(df_Companies[\"porte_da_empresa\"] == 0, \"NOT INFORMED\")\n",
    "                                                .when(df_Companies[\"porte_da_empresa\"] == 1, \"MICRO COMPANY\")\n",
    "                                                .when(df_Companies[\"porte_da_empresa\"] == 3, \"SMALL COMPANY\")\n",
    "                                                .when(df_Companies[\"porte_da_empresa\"] == 5, \"OTHER\")\n",
    "                                                .otherwise(\"Unknown\"))\n",
    "\n",
    "# Showing the resulting DataFrame\n",
    "df_Companies.limit(5).toPandas()"
   ]
  },
  {
   "cell_type": "code",
   "execution_count": 0,
   "metadata": {
    "application/vnd.databricks.v1+cell": {
     "cellMetadata": {
      "byteLimit": 2048000,
      "rowLimit": 10000
     },
     "inputWidgets": {},
     "nuid": "1cd66094-d082-42ba-b9b3-c383be43fa6b",
     "showTitle": false,
     "title": ""
    }
   },
   "outputs": [
    {
     "output_type": "display_data",
     "data": {
      "text/html": [
       "<div>\n",
       "<style scoped>\n",
       "    .dataframe tbody tr th:only-of-type {\n",
       "        vertical-align: middle;\n",
       "    }\n",
       "\n",
       "    .dataframe tbody tr th {\n",
       "        vertical-align: top;\n",
       "    }\n",
       "\n",
       "    .dataframe thead th {\n",
       "        text-align: right;\n",
       "    }\n",
       "</style>\n",
       "<table border=\"1\" class=\"dataframe\">\n",
       "  <thead>\n",
       "    <tr style=\"text-align: right;\">\n",
       "      <th></th>\n",
       "      <th>cnpj_basico</th>\n",
       "      <th>razao_social_nome_empresarial</th>\n",
       "      <th>capital_social_da_empresa</th>\n",
       "      <th>Descrição_Natureza</th>\n",
       "      <th>Descrição_qualificacao</th>\n",
       "      <th>company_size</th>\n",
       "    </tr>\n",
       "  </thead>\n",
       "  <tbody>\n",
       "    <tr>\n",
       "      <th>0</th>\n",
       "      <td>306</td>\n",
       "      <td>FRANCAMAR REFRIGERACAO TECNICA S/C LTDA</td>\n",
       "      <td>0.0</td>\n",
       "      <td>Sociedade Simples Limitada</td>\n",
       "      <td>Sócio-Administrador</td>\n",
       "      <td>MICRO COMPANY</td>\n",
       "    </tr>\n",
       "    <tr>\n",
       "      <th>1</th>\n",
       "      <td>1355</td>\n",
       "      <td>BRASILEIRO &amp; OLIVEIRA LTDA</td>\n",
       "      <td>0.0</td>\n",
       "      <td>Sociedade Empresária Limitada</td>\n",
       "      <td>Sócio-Administrador</td>\n",
       "      <td>OTHER</td>\n",
       "    </tr>\n",
       "    <tr>\n",
       "      <th>2</th>\n",
       "      <td>4820</td>\n",
       "      <td>REGISTRO DE IMOVEIS, TABELIONATO 1 DE NOTAS E ...</td>\n",
       "      <td>0.0</td>\n",
       "      <td>Serviço Notarial e Registral (Cartório)</td>\n",
       "      <td>Tabelião</td>\n",
       "      <td>OTHER</td>\n",
       "    </tr>\n",
       "    <tr>\n",
       "      <th>3</th>\n",
       "      <td>5347</td>\n",
       "      <td>ROSELY APARECIDA MONTEIRO CALTABIANO FREITAS</td>\n",
       "      <td>0.0</td>\n",
       "      <td>Empresário (Individual)</td>\n",
       "      <td>Empresário</td>\n",
       "      <td>OTHER</td>\n",
       "    </tr>\n",
       "    <tr>\n",
       "      <th>4</th>\n",
       "      <td>6846</td>\n",
       "      <td>BADU E FILHOS TECIDOS LTDA</td>\n",
       "      <td>4000.0</td>\n",
       "      <td>Sociedade Empresária Limitada</td>\n",
       "      <td>Sócio-Administrador</td>\n",
       "      <td>MICRO COMPANY</td>\n",
       "    </tr>\n",
       "  </tbody>\n",
       "</table>\n",
       "</div>"
      ]
     },
     "metadata": {
      "application/vnd.databricks.v1+output": {
       "addedWidgets": {},
       "arguments": {},
       "data": "<div>\n<style scoped>\n    .dataframe tbody tr th:only-of-type {\n        vertical-align: middle;\n    }\n\n    .dataframe tbody tr th {\n        vertical-align: top;\n    }\n\n    .dataframe thead th {\n        text-align: right;\n    }\n</style>\n<table border=\"1\" class=\"dataframe\">\n  <thead>\n    <tr style=\"text-align: right;\">\n      <th></th>\n      <th>cnpj_basico</th>\n      <th>razao_social_nome_empresarial</th>\n      <th>capital_social_da_empresa</th>\n      <th>Descrição_Natureza</th>\n      <th>Descrição_qualificacao</th>\n      <th>company_size</th>\n    </tr>\n  </thead>\n  <tbody>\n    <tr>\n      <th>0</th>\n      <td>306</td>\n      <td>FRANCAMAR REFRIGERACAO TECNICA S/C LTDA</td>\n      <td>0.0</td>\n      <td>Sociedade Simples Limitada</td>\n      <td>Sócio-Administrador</td>\n      <td>MICRO COMPANY</td>\n    </tr>\n    <tr>\n      <th>1</th>\n      <td>1355</td>\n      <td>BRASILEIRO &amp; OLIVEIRA LTDA</td>\n      <td>0.0</td>\n      <td>Sociedade Empresária Limitada</td>\n      <td>Sócio-Administrador</td>\n      <td>OTHER</td>\n    </tr>\n    <tr>\n      <th>2</th>\n      <td>4820</td>\n      <td>REGISTRO DE IMOVEIS, TABELIONATO 1 DE NOTAS E ...</td>\n      <td>0.0</td>\n      <td>Serviço Notarial e Registral (Cartório)</td>\n      <td>Tabelião</td>\n      <td>OTHER</td>\n    </tr>\n    <tr>\n      <th>3</th>\n      <td>5347</td>\n      <td>ROSELY APARECIDA MONTEIRO CALTABIANO FREITAS</td>\n      <td>0.0</td>\n      <td>Empresário (Individual)</td>\n      <td>Empresário</td>\n      <td>OTHER</td>\n    </tr>\n    <tr>\n      <th>4</th>\n      <td>6846</td>\n      <td>BADU E FILHOS TECIDOS LTDA</td>\n      <td>4000.0</td>\n      <td>Sociedade Empresária Limitada</td>\n      <td>Sócio-Administrador</td>\n      <td>MICRO COMPANY</td>\n    </tr>\n  </tbody>\n</table>\n</div>",
       "datasetInfos": [],
       "metadata": {},
       "removedWidgets": [],
       "textData": null,
       "type": "htmlSandbox"
      }
     },
     "output_type": "display_data"
    }
   ],
   "source": [
    "# Removing the duplicate columns 'legal_nature' and 'id' from the resulting DataFrame\n",
    "df_Companies = df_Companies.drop('natureza', 'id', 'ente_federativo_responsavel', 'qualificacao_do_responsavel', 'natureza_juridica','porte_da_empresa')\n",
    "\n",
    "# Viewing the resulting DataFrame without the duplicate columns\n",
    "df_Companies.limit(5).toPandas()\n"
   ]
  },
  {
   "cell_type": "code",
   "execution_count": 0,
   "metadata": {
    "application/vnd.databricks.v1+cell": {
     "cellMetadata": {
      "byteLimit": 2048000,
      "rowLimit": 10000
     },
     "inputWidgets": {},
     "nuid": "7b4d2d11-d859-4ae4-8f42-33552967bc43",
     "showTitle": false,
     "title": ""
    }
   },
   "outputs": [
    {
     "output_type": "display_data",
     "data": {
      "text/html": [
       "<div>\n",
       "<style scoped>\n",
       "    .dataframe tbody tr th:only-of-type {\n",
       "        vertical-align: middle;\n",
       "    }\n",
       "\n",
       "    .dataframe tbody tr th {\n",
       "        vertical-align: top;\n",
       "    }\n",
       "\n",
       "    .dataframe thead th {\n",
       "        text-align: right;\n",
       "    }\n",
       "</style>\n",
       "<table border=\"1\" class=\"dataframe\">\n",
       "  <thead>\n",
       "    <tr style=\"text-align: right;\">\n",
       "      <th></th>\n",
       "      <th>cnpj_basico</th>\n",
       "      <th>identificador_de_socio</th>\n",
       "      <th>nome_do_socio_ou_razao_social</th>\n",
       "      <th>cnpj_ou_cpf_do_socio</th>\n",
       "      <th>qualificacao_do_socio</th>\n",
       "      <th>data_de_entrada_sociedade</th>\n",
       "      <th>pais</th>\n",
       "      <th>representante_legal</th>\n",
       "      <th>nome_do_representante</th>\n",
       "      <th>qualificacao_do_representante_legal</th>\n",
       "      <th>faixa_etaria</th>\n",
       "      <th>id</th>\n",
       "      <th>Descrição_qualificacao</th>\n",
       "    </tr>\n",
       "  </thead>\n",
       "  <tbody>\n",
       "    <tr>\n",
       "      <th>0</th>\n",
       "      <td>411</td>\n",
       "      <td>2</td>\n",
       "      <td>LILIANA PATRICIA GUASTAVINO</td>\n",
       "      <td>***678188**</td>\n",
       "      <td>22</td>\n",
       "      <td>1994-07-25</td>\n",
       "      <td>NaN</td>\n",
       "      <td>***000000**</td>\n",
       "      <td>None</td>\n",
       "      <td>0</td>\n",
       "      <td>7</td>\n",
       "      <td>22</td>\n",
       "      <td>Sócio</td>\n",
       "    </tr>\n",
       "    <tr>\n",
       "      <th>1</th>\n",
       "      <td>411</td>\n",
       "      <td>2</td>\n",
       "      <td>CRISTINA HUNDERTMARK</td>\n",
       "      <td>***637848**</td>\n",
       "      <td>28</td>\n",
       "      <td>1994-07-25</td>\n",
       "      <td>NaN</td>\n",
       "      <td>***000000**</td>\n",
       "      <td>None</td>\n",
       "      <td>0</td>\n",
       "      <td>7</td>\n",
       "      <td>28</td>\n",
       "      <td>Sócio-Gerente</td>\n",
       "    </tr>\n",
       "    <tr>\n",
       "      <th>2</th>\n",
       "      <td>5813</td>\n",
       "      <td>2</td>\n",
       "      <td>CELSO EDUARDO DE CASTRO STEPHAN</td>\n",
       "      <td>***786068**</td>\n",
       "      <td>49</td>\n",
       "      <td>1994-05-16</td>\n",
       "      <td>NaN</td>\n",
       "      <td>***000000**</td>\n",
       "      <td>None</td>\n",
       "      <td>0</td>\n",
       "      <td>8</td>\n",
       "      <td>49</td>\n",
       "      <td>Sócio-Administrador</td>\n",
       "    </tr>\n",
       "    <tr>\n",
       "      <th>3</th>\n",
       "      <td>5813</td>\n",
       "      <td>2</td>\n",
       "      <td>EDUARDO BERRINGER STEPHAN</td>\n",
       "      <td>***442348**</td>\n",
       "      <td>49</td>\n",
       "      <td>1994-05-16</td>\n",
       "      <td>NaN</td>\n",
       "      <td>***000000**</td>\n",
       "      <td>None</td>\n",
       "      <td>0</td>\n",
       "      <td>5</td>\n",
       "      <td>49</td>\n",
       "      <td>Sócio-Administrador</td>\n",
       "    </tr>\n",
       "    <tr>\n",
       "      <th>4</th>\n",
       "      <td>14798</td>\n",
       "      <td>2</td>\n",
       "      <td>HANNE MAHFOUD FADEL</td>\n",
       "      <td>***760388**</td>\n",
       "      <td>49</td>\n",
       "      <td>1994-06-09</td>\n",
       "      <td>NaN</td>\n",
       "      <td>***000000**</td>\n",
       "      <td>None</td>\n",
       "      <td>0</td>\n",
       "      <td>8</td>\n",
       "      <td>49</td>\n",
       "      <td>Sócio-Administrador</td>\n",
       "    </tr>\n",
       "  </tbody>\n",
       "</table>\n",
       "</div>"
      ]
     },
     "metadata": {
      "application/vnd.databricks.v1+output": {
       "addedWidgets": {},
       "arguments": {},
       "data": "<div>\n<style scoped>\n    .dataframe tbody tr th:only-of-type {\n        vertical-align: middle;\n    }\n\n    .dataframe tbody tr th {\n        vertical-align: top;\n    }\n\n    .dataframe thead th {\n        text-align: right;\n    }\n</style>\n<table border=\"1\" class=\"dataframe\">\n  <thead>\n    <tr style=\"text-align: right;\">\n      <th></th>\n      <th>cnpj_basico</th>\n      <th>identificador_de_socio</th>\n      <th>nome_do_socio_ou_razao_social</th>\n      <th>cnpj_ou_cpf_do_socio</th>\n      <th>qualificacao_do_socio</th>\n      <th>data_de_entrada_sociedade</th>\n      <th>pais</th>\n      <th>representante_legal</th>\n      <th>nome_do_representante</th>\n      <th>qualificacao_do_representante_legal</th>\n      <th>faixa_etaria</th>\n      <th>id</th>\n      <th>Descrição_qualificacao</th>\n    </tr>\n  </thead>\n  <tbody>\n    <tr>\n      <th>0</th>\n      <td>411</td>\n      <td>2</td>\n      <td>LILIANA PATRICIA GUASTAVINO</td>\n      <td>***678188**</td>\n      <td>22</td>\n      <td>1994-07-25</td>\n      <td>NaN</td>\n      <td>***000000**</td>\n      <td>None</td>\n      <td>0</td>\n      <td>7</td>\n      <td>22</td>\n      <td>Sócio</td>\n    </tr>\n    <tr>\n      <th>1</th>\n      <td>411</td>\n      <td>2</td>\n      <td>CRISTINA HUNDERTMARK</td>\n      <td>***637848**</td>\n      <td>28</td>\n      <td>1994-07-25</td>\n      <td>NaN</td>\n      <td>***000000**</td>\n      <td>None</td>\n      <td>0</td>\n      <td>7</td>\n      <td>28</td>\n      <td>Sócio-Gerente</td>\n    </tr>\n    <tr>\n      <th>2</th>\n      <td>5813</td>\n      <td>2</td>\n      <td>CELSO EDUARDO DE CASTRO STEPHAN</td>\n      <td>***786068**</td>\n      <td>49</td>\n      <td>1994-05-16</td>\n      <td>NaN</td>\n      <td>***000000**</td>\n      <td>None</td>\n      <td>0</td>\n      <td>8</td>\n      <td>49</td>\n      <td>Sócio-Administrador</td>\n    </tr>\n    <tr>\n      <th>3</th>\n      <td>5813</td>\n      <td>2</td>\n      <td>EDUARDO BERRINGER STEPHAN</td>\n      <td>***442348**</td>\n      <td>49</td>\n      <td>1994-05-16</td>\n      <td>NaN</td>\n      <td>***000000**</td>\n      <td>None</td>\n      <td>0</td>\n      <td>5</td>\n      <td>49</td>\n      <td>Sócio-Administrador</td>\n    </tr>\n    <tr>\n      <th>4</th>\n      <td>14798</td>\n      <td>2</td>\n      <td>HANNE MAHFOUD FADEL</td>\n      <td>***760388**</td>\n      <td>49</td>\n      <td>1994-06-09</td>\n      <td>NaN</td>\n      <td>***000000**</td>\n      <td>None</td>\n      <td>0</td>\n      <td>8</td>\n      <td>49</td>\n      <td>Sócio-Administrador</td>\n    </tr>\n  </tbody>\n</table>\n</div>",
       "datasetInfos": [],
       "metadata": {},
       "removedWidgets": [],
       "textData": null,
       "type": "htmlSandbox"
      }
     },
     "output_type": "display_data"
    }
   ],
   "source": [
    "# Performing the join with the original DataFrame \"Partners\"\n",
    "df_Partners = Partners.join(df_qualificacao_responsavel, Partners['qualificacao_do_socio'] == df_qualificacao_responsavel['id'], \"left\")\n",
    "\n",
    "# Showing the resulting DataFrame\n",
    "df_Partners.limit(5).toPandas()\n"
   ]
  },
  {
   "cell_type": "code",
   "execution_count": 0,
   "metadata": {
    "application/vnd.databricks.v1+cell": {
     "cellMetadata": {
      "byteLimit": 2048000,
      "rowLimit": 10000
     },
     "inputWidgets": {},
     "nuid": "ae9ca530-b25a-44a6-afb1-6d51a7171e8c",
     "showTitle": false,
     "title": ""
    }
   },
   "outputs": [
    {
     "output_type": "stream",
     "name": "stdout",
     "output_type": "stream",
     "text": [
      "Out[32]: ['cnpj_basico',\n 'identificador_de_socio',\n 'nome_do_socio_ou_razao_social',\n 'cnpj_ou_cpf_do_socio',\n 'qualificacao_do_socio',\n 'data_de_entrada_sociedade',\n 'pais',\n 'representante_legal',\n 'nome_do_representante',\n 'qualificacao_do_representante_legal',\n 'faixa_etaria',\n 'id',\n 'Descrição_qualificacao',\n 'Partner_description']"
     ]
    }
   ],
   "source": [
    "df_Partners = df_Partners.withColumn(\"Partner_description\", \n",
    "                                            when(df_Partners[\"identificador_de_socio\"] == 1, \"LEGAL ENTITY\")\n",
    "                                            .when(df_Partners[\"identificador_de_socio\"] == 2, \"INDIVIDUAL\")\n",
    "                                            .when(df_Partners[\"identificador_de_socio\"] == 3, \"FOREIGN\")\n",
    "                                            .otherwise(\"Unknown\"))\n",
    "\n",
    "# Showing the resulting DataFrame\n",
    "df_Partners.columns\n"
   ]
  },
  {
   "cell_type": "code",
   "execution_count": 0,
   "metadata": {
    "application/vnd.databricks.v1+cell": {
     "cellMetadata": {
      "byteLimit": 2048000,
      "rowLimit": 10000
     },
     "inputWidgets": {},
     "nuid": "a851c6b5-c35b-45c9-b657-3d4924e28a2b",
     "showTitle": false,
     "title": ""
    }
   },
   "outputs": [
    {
     "output_type": "display_data",
     "data": {
      "text/html": [
       "<div>\n",
       "<style scoped>\n",
       "    .dataframe tbody tr th:only-of-type {\n",
       "        vertical-align: middle;\n",
       "    }\n",
       "\n",
       "    .dataframe tbody tr th {\n",
       "        vertical-align: top;\n",
       "    }\n",
       "\n",
       "    .dataframe thead th {\n",
       "        text-align: right;\n",
       "    }\n",
       "</style>\n",
       "<table border=\"1\" class=\"dataframe\">\n",
       "  <thead>\n",
       "    <tr style=\"text-align: right;\">\n",
       "      <th></th>\n",
       "      <th>cnpj_basico</th>\n",
       "      <th>identificador_de_socio</th>\n",
       "      <th>nome_do_socio_ou_razao_social</th>\n",
       "      <th>cnpj_ou_cpf_do_socio</th>\n",
       "      <th>qualificacao_do_socio</th>\n",
       "      <th>data_de_entrada_sociedade</th>\n",
       "      <th>pais</th>\n",
       "      <th>representante_legal</th>\n",
       "      <th>nome_do_representante</th>\n",
       "      <th>qualificacao_do_representante_legal</th>\n",
       "      <th>faixa_etaria</th>\n",
       "      <th>id</th>\n",
       "      <th>Descrição_qualificacao</th>\n",
       "      <th>Partner_description</th>\n",
       "    </tr>\n",
       "  </thead>\n",
       "  <tbody>\n",
       "    <tr>\n",
       "      <th>0</th>\n",
       "      <td>411</td>\n",
       "      <td>2</td>\n",
       "      <td>LILIANA PATRICIA GUASTAVINO</td>\n",
       "      <td>***678188**</td>\n",
       "      <td>22</td>\n",
       "      <td>1994-07-25</td>\n",
       "      <td>NaN</td>\n",
       "      <td>***000000**</td>\n",
       "      <td>None</td>\n",
       "      <td>0</td>\n",
       "      <td>7</td>\n",
       "      <td>22</td>\n",
       "      <td>Sócio</td>\n",
       "      <td>INDIVIDUAL</td>\n",
       "    </tr>\n",
       "    <tr>\n",
       "      <th>1</th>\n",
       "      <td>411</td>\n",
       "      <td>2</td>\n",
       "      <td>CRISTINA HUNDERTMARK</td>\n",
       "      <td>***637848**</td>\n",
       "      <td>28</td>\n",
       "      <td>1994-07-25</td>\n",
       "      <td>NaN</td>\n",
       "      <td>***000000**</td>\n",
       "      <td>None</td>\n",
       "      <td>0</td>\n",
       "      <td>7</td>\n",
       "      <td>28</td>\n",
       "      <td>Sócio-Gerente</td>\n",
       "      <td>INDIVIDUAL</td>\n",
       "    </tr>\n",
       "    <tr>\n",
       "      <th>2</th>\n",
       "      <td>5813</td>\n",
       "      <td>2</td>\n",
       "      <td>CELSO EDUARDO DE CASTRO STEPHAN</td>\n",
       "      <td>***786068**</td>\n",
       "      <td>49</td>\n",
       "      <td>1994-05-16</td>\n",
       "      <td>NaN</td>\n",
       "      <td>***000000**</td>\n",
       "      <td>None</td>\n",
       "      <td>0</td>\n",
       "      <td>8</td>\n",
       "      <td>49</td>\n",
       "      <td>Sócio-Administrador</td>\n",
       "      <td>INDIVIDUAL</td>\n",
       "    </tr>\n",
       "    <tr>\n",
       "      <th>3</th>\n",
       "      <td>5813</td>\n",
       "      <td>2</td>\n",
       "      <td>EDUARDO BERRINGER STEPHAN</td>\n",
       "      <td>***442348**</td>\n",
       "      <td>49</td>\n",
       "      <td>1994-05-16</td>\n",
       "      <td>NaN</td>\n",
       "      <td>***000000**</td>\n",
       "      <td>None</td>\n",
       "      <td>0</td>\n",
       "      <td>5</td>\n",
       "      <td>49</td>\n",
       "      <td>Sócio-Administrador</td>\n",
       "      <td>INDIVIDUAL</td>\n",
       "    </tr>\n",
       "    <tr>\n",
       "      <th>4</th>\n",
       "      <td>14798</td>\n",
       "      <td>2</td>\n",
       "      <td>HANNE MAHFOUD FADEL</td>\n",
       "      <td>***760388**</td>\n",
       "      <td>49</td>\n",
       "      <td>1994-06-09</td>\n",
       "      <td>NaN</td>\n",
       "      <td>***000000**</td>\n",
       "      <td>None</td>\n",
       "      <td>0</td>\n",
       "      <td>8</td>\n",
       "      <td>49</td>\n",
       "      <td>Sócio-Administrador</td>\n",
       "      <td>INDIVIDUAL</td>\n",
       "    </tr>\n",
       "  </tbody>\n",
       "</table>\n",
       "</div>"
      ]
     },
     "metadata": {
      "application/vnd.databricks.v1+output": {
       "addedWidgets": {},
       "arguments": {},
       "data": "<div>\n<style scoped>\n    .dataframe tbody tr th:only-of-type {\n        vertical-align: middle;\n    }\n\n    .dataframe tbody tr th {\n        vertical-align: top;\n    }\n\n    .dataframe thead th {\n        text-align: right;\n    }\n</style>\n<table border=\"1\" class=\"dataframe\">\n  <thead>\n    <tr style=\"text-align: right;\">\n      <th></th>\n      <th>cnpj_basico</th>\n      <th>identificador_de_socio</th>\n      <th>nome_do_socio_ou_razao_social</th>\n      <th>cnpj_ou_cpf_do_socio</th>\n      <th>qualificacao_do_socio</th>\n      <th>data_de_entrada_sociedade</th>\n      <th>pais</th>\n      <th>representante_legal</th>\n      <th>nome_do_representante</th>\n      <th>qualificacao_do_representante_legal</th>\n      <th>faixa_etaria</th>\n      <th>id</th>\n      <th>Descrição_qualificacao</th>\n      <th>Partner_description</th>\n    </tr>\n  </thead>\n  <tbody>\n    <tr>\n      <th>0</th>\n      <td>411</td>\n      <td>2</td>\n      <td>LILIANA PATRICIA GUASTAVINO</td>\n      <td>***678188**</td>\n      <td>22</td>\n      <td>1994-07-25</td>\n      <td>NaN</td>\n      <td>***000000**</td>\n      <td>None</td>\n      <td>0</td>\n      <td>7</td>\n      <td>22</td>\n      <td>Sócio</td>\n      <td>INDIVIDUAL</td>\n    </tr>\n    <tr>\n      <th>1</th>\n      <td>411</td>\n      <td>2</td>\n      <td>CRISTINA HUNDERTMARK</td>\n      <td>***637848**</td>\n      <td>28</td>\n      <td>1994-07-25</td>\n      <td>NaN</td>\n      <td>***000000**</td>\n      <td>None</td>\n      <td>0</td>\n      <td>7</td>\n      <td>28</td>\n      <td>Sócio-Gerente</td>\n      <td>INDIVIDUAL</td>\n    </tr>\n    <tr>\n      <th>2</th>\n      <td>5813</td>\n      <td>2</td>\n      <td>CELSO EDUARDO DE CASTRO STEPHAN</td>\n      <td>***786068**</td>\n      <td>49</td>\n      <td>1994-05-16</td>\n      <td>NaN</td>\n      <td>***000000**</td>\n      <td>None</td>\n      <td>0</td>\n      <td>8</td>\n      <td>49</td>\n      <td>Sócio-Administrador</td>\n      <td>INDIVIDUAL</td>\n    </tr>\n    <tr>\n      <th>3</th>\n      <td>5813</td>\n      <td>2</td>\n      <td>EDUARDO BERRINGER STEPHAN</td>\n      <td>***442348**</td>\n      <td>49</td>\n      <td>1994-05-16</td>\n      <td>NaN</td>\n      <td>***000000**</td>\n      <td>None</td>\n      <td>0</td>\n      <td>5</td>\n      <td>49</td>\n      <td>Sócio-Administrador</td>\n      <td>INDIVIDUAL</td>\n    </tr>\n    <tr>\n      <th>4</th>\n      <td>14798</td>\n      <td>2</td>\n      <td>HANNE MAHFOUD FADEL</td>\n      <td>***760388**</td>\n      <td>49</td>\n      <td>1994-06-09</td>\n      <td>NaN</td>\n      <td>***000000**</td>\n      <td>None</td>\n      <td>0</td>\n      <td>8</td>\n      <td>49</td>\n      <td>Sócio-Administrador</td>\n      <td>INDIVIDUAL</td>\n    </tr>\n  </tbody>\n</table>\n</div>",
       "datasetInfos": [],
       "metadata": {},
       "removedWidgets": [],
       "textData": null,
       "type": "htmlSandbox"
      }
     },
     "output_type": "display_data"
    }
   ],
   "source": [
    "df_Partners.limit(5).toPandas()"
   ]
  },
  {
   "cell_type": "code",
   "execution_count": 0,
   "metadata": {
    "application/vnd.databricks.v1+cell": {
     "cellMetadata": {
      "byteLimit": 2048000,
      "rowLimit": 10000
     },
     "inputWidgets": {},
     "nuid": "8e679feb-dfe8-40b3-b5db-90ff229d131b",
     "showTitle": false,
     "title": ""
    }
   },
   "outputs": [
    {
     "output_type": "display_data",
     "data": {
      "text/html": [
       "<div>\n",
       "<style scoped>\n",
       "    .dataframe tbody tr th:only-of-type {\n",
       "        vertical-align: middle;\n",
       "    }\n",
       "\n",
       "    .dataframe tbody tr th {\n",
       "        vertical-align: top;\n",
       "    }\n",
       "\n",
       "    .dataframe thead th {\n",
       "        text-align: right;\n",
       "    }\n",
       "</style>\n",
       "<table border=\"1\" class=\"dataframe\">\n",
       "  <thead>\n",
       "    <tr style=\"text-align: right;\">\n",
       "      <th></th>\n",
       "      <th>cnpj_basico</th>\n",
       "      <th>nome_do_socio_ou_razao_social</th>\n",
       "      <th>data_de_entrada_sociedade</th>\n",
       "      <th>faixa_etaria</th>\n",
       "      <th>Descrição_qualificacao</th>\n",
       "      <th>Partner_description</th>\n",
       "    </tr>\n",
       "  </thead>\n",
       "  <tbody>\n",
       "    <tr>\n",
       "      <th>0</th>\n",
       "      <td>411</td>\n",
       "      <td>LILIANA PATRICIA GUASTAVINO</td>\n",
       "      <td>1994-07-25</td>\n",
       "      <td>7</td>\n",
       "      <td>Sócio</td>\n",
       "      <td>INDIVIDUAL</td>\n",
       "    </tr>\n",
       "    <tr>\n",
       "      <th>1</th>\n",
       "      <td>411</td>\n",
       "      <td>CRISTINA HUNDERTMARK</td>\n",
       "      <td>1994-07-25</td>\n",
       "      <td>7</td>\n",
       "      <td>Sócio-Gerente</td>\n",
       "      <td>INDIVIDUAL</td>\n",
       "    </tr>\n",
       "    <tr>\n",
       "      <th>2</th>\n",
       "      <td>5813</td>\n",
       "      <td>CELSO EDUARDO DE CASTRO STEPHAN</td>\n",
       "      <td>1994-05-16</td>\n",
       "      <td>8</td>\n",
       "      <td>Sócio-Administrador</td>\n",
       "      <td>INDIVIDUAL</td>\n",
       "    </tr>\n",
       "    <tr>\n",
       "      <th>3</th>\n",
       "      <td>5813</td>\n",
       "      <td>EDUARDO BERRINGER STEPHAN</td>\n",
       "      <td>1994-05-16</td>\n",
       "      <td>5</td>\n",
       "      <td>Sócio-Administrador</td>\n",
       "      <td>INDIVIDUAL</td>\n",
       "    </tr>\n",
       "    <tr>\n",
       "      <th>4</th>\n",
       "      <td>14798</td>\n",
       "      <td>HANNE MAHFOUD FADEL</td>\n",
       "      <td>1994-06-09</td>\n",
       "      <td>8</td>\n",
       "      <td>Sócio-Administrador</td>\n",
       "      <td>INDIVIDUAL</td>\n",
       "    </tr>\n",
       "  </tbody>\n",
       "</table>\n",
       "</div>"
      ]
     },
     "metadata": {
      "application/vnd.databricks.v1+output": {
       "addedWidgets": {},
       "arguments": {},
       "data": "<div>\n<style scoped>\n    .dataframe tbody tr th:only-of-type {\n        vertical-align: middle;\n    }\n\n    .dataframe tbody tr th {\n        vertical-align: top;\n    }\n\n    .dataframe thead th {\n        text-align: right;\n    }\n</style>\n<table border=\"1\" class=\"dataframe\">\n  <thead>\n    <tr style=\"text-align: right;\">\n      <th></th>\n      <th>cnpj_basico</th>\n      <th>nome_do_socio_ou_razao_social</th>\n      <th>data_de_entrada_sociedade</th>\n      <th>faixa_etaria</th>\n      <th>Descrição_qualificacao</th>\n      <th>Partner_description</th>\n    </tr>\n  </thead>\n  <tbody>\n    <tr>\n      <th>0</th>\n      <td>411</td>\n      <td>LILIANA PATRICIA GUASTAVINO</td>\n      <td>1994-07-25</td>\n      <td>7</td>\n      <td>Sócio</td>\n      <td>INDIVIDUAL</td>\n    </tr>\n    <tr>\n      <th>1</th>\n      <td>411</td>\n      <td>CRISTINA HUNDERTMARK</td>\n      <td>1994-07-25</td>\n      <td>7</td>\n      <td>Sócio-Gerente</td>\n      <td>INDIVIDUAL</td>\n    </tr>\n    <tr>\n      <th>2</th>\n      <td>5813</td>\n      <td>CELSO EDUARDO DE CASTRO STEPHAN</td>\n      <td>1994-05-16</td>\n      <td>8</td>\n      <td>Sócio-Administrador</td>\n      <td>INDIVIDUAL</td>\n    </tr>\n    <tr>\n      <th>3</th>\n      <td>5813</td>\n      <td>EDUARDO BERRINGER STEPHAN</td>\n      <td>1994-05-16</td>\n      <td>5</td>\n      <td>Sócio-Administrador</td>\n      <td>INDIVIDUAL</td>\n    </tr>\n    <tr>\n      <th>4</th>\n      <td>14798</td>\n      <td>HANNE MAHFOUD FADEL</td>\n      <td>1994-06-09</td>\n      <td>8</td>\n      <td>Sócio-Administrador</td>\n      <td>INDIVIDUAL</td>\n    </tr>\n  </tbody>\n</table>\n</div>",
       "datasetInfos": [],
       "metadata": {},
       "removedWidgets": [],
       "textData": null,
       "type": "htmlSandbox"
      }
     },
     "output_type": "display_data"
    }
   ],
   "source": [
    "# Removendo as colunas duplicadas 'natureza_juridica' e 'id' do DataFrame resultante\n",
    "df_Partners =df_Partners.drop('representante_legal', 'identificador_de_socio','qualificacao_do_socio', 'nome_do_representante', 'cnpj_ou_cpf_do_socio', 'pais','qualificacao_do_representante_legal', 'id', 'ente_federativo_responsavel')\n",
    "\n",
    "# Visualizando o DataFrame resultante sem as colunas duplicadas\n",
    "df_Partners.limit(5).toPandas()"
   ]
  },
  {
   "cell_type": "code",
   "execution_count": 0,
   "metadata": {
    "application/vnd.databricks.v1+cell": {
     "cellMetadata": {
      "byteLimit": 2048000,
      "rowLimit": 10000
     },
     "inputWidgets": {},
     "nuid": "e9f9ba75-2c76-4c95-b680-5f793c07dd9d",
     "showTitle": false,
     "title": ""
    }
   },
   "outputs": [
    {
     "output_type": "display_data",
     "data": {
      "text/html": [
       "<div>\n",
       "<style scoped>\n",
       "    .dataframe tbody tr th:only-of-type {\n",
       "        vertical-align: middle;\n",
       "    }\n",
       "\n",
       "    .dataframe tbody tr th {\n",
       "        vertical-align: top;\n",
       "    }\n",
       "\n",
       "    .dataframe thead th {\n",
       "        text-align: right;\n",
       "    }\n",
       "</style>\n",
       "<table border=\"1\" class=\"dataframe\">\n",
       "  <thead>\n",
       "    <tr style=\"text-align: right;\">\n",
       "      <th></th>\n",
       "      <th>cnpj_basico</th>\n",
       "      <th>cnpj_ordem</th>\n",
       "      <th>cnpj_dv</th>\n",
       "      <th>identificador_matriz_filial</th>\n",
       "      <th>nome_fantasia</th>\n",
       "      <th>situacao_cadastral</th>\n",
       "      <th>data_situacao_cadastral</th>\n",
       "      <th>motivo_situacao_cadastral</th>\n",
       "      <th>nome_da_cidade_no_exterior</th>\n",
       "      <th>pais</th>\n",
       "      <th>...</th>\n",
       "      <th>telefone_1</th>\n",
       "      <th>ddd_2</th>\n",
       "      <th>telefone_2</th>\n",
       "      <th>ddd_do_fax</th>\n",
       "      <th>fax</th>\n",
       "      <th>correio_eletronico</th>\n",
       "      <th>situacao_especial</th>\n",
       "      <th>data_da_situacao_especial</th>\n",
       "      <th>branch_type</th>\n",
       "      <th>registration_status</th>\n",
       "    </tr>\n",
       "  </thead>\n",
       "  <tbody>\n",
       "    <tr>\n",
       "      <th>0</th>\n",
       "      <td>1879</td>\n",
       "      <td>1</td>\n",
       "      <td>96</td>\n",
       "      <td>1</td>\n",
       "      <td>PIRAMIDE M. C.</td>\n",
       "      <td>8</td>\n",
       "      <td>2001-10-29</td>\n",
       "      <td>1</td>\n",
       "      <td>None</td>\n",
       "      <td>NaN</td>\n",
       "      <td>...</td>\n",
       "      <td>None</td>\n",
       "      <td>None</td>\n",
       "      <td>None</td>\n",
       "      <td>NaN</td>\n",
       "      <td>None</td>\n",
       "      <td>None</td>\n",
       "      <td>None</td>\n",
       "      <td>None</td>\n",
       "      <td>HEADQUARTER</td>\n",
       "      <td>CLOSED</td>\n",
       "    </tr>\n",
       "    <tr>\n",
       "      <th>1</th>\n",
       "      <td>2818</td>\n",
       "      <td>1</td>\n",
       "      <td>43</td>\n",
       "      <td>1</td>\n",
       "      <td>None</td>\n",
       "      <td>8</td>\n",
       "      <td>2008-12-31</td>\n",
       "      <td>71</td>\n",
       "      <td>None</td>\n",
       "      <td>NaN</td>\n",
       "      <td>...</td>\n",
       "      <td>None</td>\n",
       "      <td>None</td>\n",
       "      <td>None</td>\n",
       "      <td>NaN</td>\n",
       "      <td>None</td>\n",
       "      <td>None</td>\n",
       "      <td>None</td>\n",
       "      <td>None</td>\n",
       "      <td>HEADQUARTER</td>\n",
       "      <td>CLOSED</td>\n",
       "    </tr>\n",
       "    <tr>\n",
       "      <th>2</th>\n",
       "      <td>3110</td>\n",
       "      <td>1</td>\n",
       "      <td>7</td>\n",
       "      <td>1</td>\n",
       "      <td>None</td>\n",
       "      <td>8</td>\n",
       "      <td>1997-12-31</td>\n",
       "      <td>1</td>\n",
       "      <td>None</td>\n",
       "      <td>NaN</td>\n",
       "      <td>...</td>\n",
       "      <td>None</td>\n",
       "      <td>None</td>\n",
       "      <td>None</td>\n",
       "      <td>NaN</td>\n",
       "      <td>None</td>\n",
       "      <td>None</td>\n",
       "      <td>None</td>\n",
       "      <td>None</td>\n",
       "      <td>HEADQUARTER</td>\n",
       "      <td>CLOSED</td>\n",
       "    </tr>\n",
       "    <tr>\n",
       "      <th>3</th>\n",
       "      <td>3733</td>\n",
       "      <td>1</td>\n",
       "      <td>80</td>\n",
       "      <td>1</td>\n",
       "      <td>None</td>\n",
       "      <td>8</td>\n",
       "      <td>2008-12-31</td>\n",
       "      <td>71</td>\n",
       "      <td>None</td>\n",
       "      <td>NaN</td>\n",
       "      <td>...</td>\n",
       "      <td>None</td>\n",
       "      <td>None</td>\n",
       "      <td>None</td>\n",
       "      <td>NaN</td>\n",
       "      <td>None</td>\n",
       "      <td>None</td>\n",
       "      <td>None</td>\n",
       "      <td>None</td>\n",
       "      <td>HEADQUARTER</td>\n",
       "      <td>CLOSED</td>\n",
       "    </tr>\n",
       "    <tr>\n",
       "      <th>4</th>\n",
       "      <td>4628</td>\n",
       "      <td>3</td>\n",
       "      <td>27</td>\n",
       "      <td>2</td>\n",
       "      <td>EMBROIDERY &amp; GIFT</td>\n",
       "      <td>8</td>\n",
       "      <td>1998-04-29</td>\n",
       "      <td>1</td>\n",
       "      <td>None</td>\n",
       "      <td>NaN</td>\n",
       "      <td>...</td>\n",
       "      <td>None</td>\n",
       "      <td>None</td>\n",
       "      <td>None</td>\n",
       "      <td>NaN</td>\n",
       "      <td>None</td>\n",
       "      <td>None</td>\n",
       "      <td>None</td>\n",
       "      <td>None</td>\n",
       "      <td>BRANCH</td>\n",
       "      <td>CLOSED</td>\n",
       "    </tr>\n",
       "  </tbody>\n",
       "</table>\n",
       "<p>5 rows × 32 columns</p>\n",
       "</div>"
      ]
     },
     "metadata": {
      "application/vnd.databricks.v1+output": {
       "addedWidgets": {},
       "arguments": {},
       "data": "<div>\n<style scoped>\n    .dataframe tbody tr th:only-of-type {\n        vertical-align: middle;\n    }\n\n    .dataframe tbody tr th {\n        vertical-align: top;\n    }\n\n    .dataframe thead th {\n        text-align: right;\n    }\n</style>\n<table border=\"1\" class=\"dataframe\">\n  <thead>\n    <tr style=\"text-align: right;\">\n      <th></th>\n      <th>cnpj_basico</th>\n      <th>cnpj_ordem</th>\n      <th>cnpj_dv</th>\n      <th>identificador_matriz_filial</th>\n      <th>nome_fantasia</th>\n      <th>situacao_cadastral</th>\n      <th>data_situacao_cadastral</th>\n      <th>motivo_situacao_cadastral</th>\n      <th>nome_da_cidade_no_exterior</th>\n      <th>pais</th>\n      <th>...</th>\n      <th>telefone_1</th>\n      <th>ddd_2</th>\n      <th>telefone_2</th>\n      <th>ddd_do_fax</th>\n      <th>fax</th>\n      <th>correio_eletronico</th>\n      <th>situacao_especial</th>\n      <th>data_da_situacao_especial</th>\n      <th>branch_type</th>\n      <th>registration_status</th>\n    </tr>\n  </thead>\n  <tbody>\n    <tr>\n      <th>0</th>\n      <td>1879</td>\n      <td>1</td>\n      <td>96</td>\n      <td>1</td>\n      <td>PIRAMIDE M. C.</td>\n      <td>8</td>\n      <td>2001-10-29</td>\n      <td>1</td>\n      <td>None</td>\n      <td>NaN</td>\n      <td>...</td>\n      <td>None</td>\n      <td>None</td>\n      <td>None</td>\n      <td>NaN</td>\n      <td>None</td>\n      <td>None</td>\n      <td>None</td>\n      <td>None</td>\n      <td>HEADQUARTER</td>\n      <td>CLOSED</td>\n    </tr>\n    <tr>\n      <th>1</th>\n      <td>2818</td>\n      <td>1</td>\n      <td>43</td>\n      <td>1</td>\n      <td>None</td>\n      <td>8</td>\n      <td>2008-12-31</td>\n      <td>71</td>\n      <td>None</td>\n      <td>NaN</td>\n      <td>...</td>\n      <td>None</td>\n      <td>None</td>\n      <td>None</td>\n      <td>NaN</td>\n      <td>None</td>\n      <td>None</td>\n      <td>None</td>\n      <td>None</td>\n      <td>HEADQUARTER</td>\n      <td>CLOSED</td>\n    </tr>\n    <tr>\n      <th>2</th>\n      <td>3110</td>\n      <td>1</td>\n      <td>7</td>\n      <td>1</td>\n      <td>None</td>\n      <td>8</td>\n      <td>1997-12-31</td>\n      <td>1</td>\n      <td>None</td>\n      <td>NaN</td>\n      <td>...</td>\n      <td>None</td>\n      <td>None</td>\n      <td>None</td>\n      <td>NaN</td>\n      <td>None</td>\n      <td>None</td>\n      <td>None</td>\n      <td>None</td>\n      <td>HEADQUARTER</td>\n      <td>CLOSED</td>\n    </tr>\n    <tr>\n      <th>3</th>\n      <td>3733</td>\n      <td>1</td>\n      <td>80</td>\n      <td>1</td>\n      <td>None</td>\n      <td>8</td>\n      <td>2008-12-31</td>\n      <td>71</td>\n      <td>None</td>\n      <td>NaN</td>\n      <td>...</td>\n      <td>None</td>\n      <td>None</td>\n      <td>None</td>\n      <td>NaN</td>\n      <td>None</td>\n      <td>None</td>\n      <td>None</td>\n      <td>None</td>\n      <td>HEADQUARTER</td>\n      <td>CLOSED</td>\n    </tr>\n    <tr>\n      <th>4</th>\n      <td>4628</td>\n      <td>3</td>\n      <td>27</td>\n      <td>2</td>\n      <td>EMBROIDERY &amp; GIFT</td>\n      <td>8</td>\n      <td>1998-04-29</td>\n      <td>1</td>\n      <td>None</td>\n      <td>NaN</td>\n      <td>...</td>\n      <td>None</td>\n      <td>None</td>\n      <td>None</td>\n      <td>NaN</td>\n      <td>None</td>\n      <td>None</td>\n      <td>None</td>\n      <td>None</td>\n      <td>BRANCH</td>\n      <td>CLOSED</td>\n    </tr>\n  </tbody>\n</table>\n<p>5 rows × 32 columns</p>\n</div>",
       "datasetInfos": [],
       "metadata": {},
       "removedWidgets": [],
       "textData": null,
       "type": "htmlSandbox"
      }
     },
     "output_type": "display_data"
    }
   ],
   "source": [
    "Establishments = Establishments.withColumn(\"branch_type\", \n",
    "                                            when(Establishments[\"identificador_matriz_filial\"] == 1, \"HEADQUARTER\")\n",
    "                                            .when(Establishments[\"identificador_matriz_filial\"] == 2, \"BRANCH\")\n",
    "                                            .otherwise(\"Unknown\"))\n",
    "\n",
    "Establishments = Establishments.withColumn(\"registration_status\", \n",
    "                                            when(Establishments[\"situacao_cadastral\"] == '01', \"NULL\")\n",
    "                                            .when(Establishments[\"situacao_cadastral\"] == '2', \"ACTIVE\")\n",
    "                                            .when(Establishments[\"situacao_cadastral\"] == '3', \"SUSPENDED\")\n",
    "                                            .when(Establishments[\"situacao_cadastral\"] == '4', \"INACTIVE\")\n",
    "                                            .when(Establishments[\"situacao_cadastral\"] == '08', \"CLOSED\")\n",
    "                                            .otherwise(\"Unknown\"))\n",
    "\n",
    "# Showing the resulting DataFrame\n",
    "Establishments.limit(5).toPandas()\n"
   ]
  },
  {
   "cell_type": "code",
   "execution_count": 0,
   "metadata": {
    "application/vnd.databricks.v1+cell": {
     "cellMetadata": {
      "byteLimit": 2048000,
      "rowLimit": 10000
     },
     "inputWidgets": {},
     "nuid": "1cd17b4f-a645-4fd1-8310-474423af3ef4",
     "showTitle": false,
     "title": ""
    }
   },
   "outputs": [
    {
     "output_type": "display_data",
     "data": {
      "text/html": [
       "<div>\n",
       "<style scoped>\n",
       "    .dataframe tbody tr th:only-of-type {\n",
       "        vertical-align: middle;\n",
       "    }\n",
       "\n",
       "    .dataframe tbody tr th {\n",
       "        vertical-align: top;\n",
       "    }\n",
       "\n",
       "    .dataframe thead th {\n",
       "        text-align: right;\n",
       "    }\n",
       "</style>\n",
       "<table border=\"1\" class=\"dataframe\">\n",
       "  <thead>\n",
       "    <tr style=\"text-align: right;\">\n",
       "      <th></th>\n",
       "      <th>cnpj_basico</th>\n",
       "      <th>nome_fantasia</th>\n",
       "      <th>data_situacao_cadastral</th>\n",
       "      <th>data_de_inicio_atividade</th>\n",
       "      <th>branch_type</th>\n",
       "      <th>registration_status</th>\n",
       "    </tr>\n",
       "  </thead>\n",
       "  <tbody>\n",
       "    <tr>\n",
       "      <th>0</th>\n",
       "      <td>1879</td>\n",
       "      <td>PIRAMIDE M. C.</td>\n",
       "      <td>2001-10-29</td>\n",
       "      <td>1994-05-09</td>\n",
       "      <td>HEADQUARTER</td>\n",
       "      <td>CLOSED</td>\n",
       "    </tr>\n",
       "    <tr>\n",
       "      <th>1</th>\n",
       "      <td>2818</td>\n",
       "      <td>None</td>\n",
       "      <td>2008-12-31</td>\n",
       "      <td>1994-05-12</td>\n",
       "      <td>HEADQUARTER</td>\n",
       "      <td>CLOSED</td>\n",
       "    </tr>\n",
       "    <tr>\n",
       "      <th>2</th>\n",
       "      <td>3110</td>\n",
       "      <td>None</td>\n",
       "      <td>1997-12-31</td>\n",
       "      <td>1994-05-12</td>\n",
       "      <td>HEADQUARTER</td>\n",
       "      <td>CLOSED</td>\n",
       "    </tr>\n",
       "    <tr>\n",
       "      <th>3</th>\n",
       "      <td>3733</td>\n",
       "      <td>None</td>\n",
       "      <td>2008-12-31</td>\n",
       "      <td>1994-05-13</td>\n",
       "      <td>HEADQUARTER</td>\n",
       "      <td>CLOSED</td>\n",
       "    </tr>\n",
       "    <tr>\n",
       "      <th>4</th>\n",
       "      <td>4628</td>\n",
       "      <td>EMBROIDERY &amp; GIFT</td>\n",
       "      <td>1998-04-29</td>\n",
       "      <td>1995-05-09</td>\n",
       "      <td>BRANCH</td>\n",
       "      <td>CLOSED</td>\n",
       "    </tr>\n",
       "  </tbody>\n",
       "</table>\n",
       "</div>"
      ]
     },
     "metadata": {
      "application/vnd.databricks.v1+output": {
       "addedWidgets": {},
       "arguments": {},
       "data": "<div>\n<style scoped>\n    .dataframe tbody tr th:only-of-type {\n        vertical-align: middle;\n    }\n\n    .dataframe tbody tr th {\n        vertical-align: top;\n    }\n\n    .dataframe thead th {\n        text-align: right;\n    }\n</style>\n<table border=\"1\" class=\"dataframe\">\n  <thead>\n    <tr style=\"text-align: right;\">\n      <th></th>\n      <th>cnpj_basico</th>\n      <th>nome_fantasia</th>\n      <th>data_situacao_cadastral</th>\n      <th>data_de_inicio_atividade</th>\n      <th>branch_type</th>\n      <th>registration_status</th>\n    </tr>\n  </thead>\n  <tbody>\n    <tr>\n      <th>0</th>\n      <td>1879</td>\n      <td>PIRAMIDE M. C.</td>\n      <td>2001-10-29</td>\n      <td>1994-05-09</td>\n      <td>HEADQUARTER</td>\n      <td>CLOSED</td>\n    </tr>\n    <tr>\n      <th>1</th>\n      <td>2818</td>\n      <td>None</td>\n      <td>2008-12-31</td>\n      <td>1994-05-12</td>\n      <td>HEADQUARTER</td>\n      <td>CLOSED</td>\n    </tr>\n    <tr>\n      <th>2</th>\n      <td>3110</td>\n      <td>None</td>\n      <td>1997-12-31</td>\n      <td>1994-05-12</td>\n      <td>HEADQUARTER</td>\n      <td>CLOSED</td>\n    </tr>\n    <tr>\n      <th>3</th>\n      <td>3733</td>\n      <td>None</td>\n      <td>2008-12-31</td>\n      <td>1994-05-13</td>\n      <td>HEADQUARTER</td>\n      <td>CLOSED</td>\n    </tr>\n    <tr>\n      <th>4</th>\n      <td>4628</td>\n      <td>EMBROIDERY &amp; GIFT</td>\n      <td>1998-04-29</td>\n      <td>1995-05-09</td>\n      <td>BRANCH</td>\n      <td>CLOSED</td>\n    </tr>\n  </tbody>\n</table>\n</div>",
       "datasetInfos": [],
       "metadata": {},
       "removedWidgets": [],
       "textData": null,
       "type": "htmlSandbox"
      }
     },
     "output_type": "display_data"
    }
   ],
   "source": [
    "# List of columns to be removed\n",
    "columns_to_drop = [\n",
    "    'cnpj_ordem',\n",
    "    'cnpj_dv',\n",
    "    'motivo_situacao_cadastral',\n",
    "    'nome_da_cidade_no_exterior',\n",
    "    'pais',\n",
    "    'cnae_fiscal_principal',\n",
    "    'cnae_fiscal_secundaria',\n",
    "    'tipo_de_logradouro',\n",
    "    'logradouro',\n",
    "    'numero',\n",
    "    'complemento',\n",
    "    'bairro',\n",
    "    'cep',\n",
    "    'uf',\n",
    "    'municipio',\n",
    "    'ddd_1',\n",
    "    'telefone_1',\n",
    "    'ddd_2',\n",
    "    'telefone_2',\n",
    "    'ddd_do_fax',\n",
    "    'fax',\n",
    "    'correio_eletronico',\n",
    "    'situacao_especial',\n",
    "    'data_da_situacao_especial',\n",
    "    'situacao_cadastral',\n",
    "    'identificador_matriz_filial',\n",
    "    'matriz_filial'\n",
    "\n",
    "]\n",
    "\n",
    "# Dropping the specified columns\n",
    "df_Establishments = Establishments.drop(*columns_to_drop)\n",
    "\n",
    "# Showing the resulting DataFrame\n",
    "df_Establishments.limit(5).toPandas()\n"
   ]
  },
  {
   "cell_type": "markdown",
   "metadata": {
    "application/vnd.databricks.v1+cell": {
     "cellMetadata": {},
     "inputWidgets": {},
     "nuid": "6aa9d951-d9f9-4a66-ade0-35ec1cc82b95",
     "showTitle": false,
     "title": ""
    }
   },
   "source": [
    "\n",
    "# Analyzing the 3 dataframes"
   ]
  },
  {
   "cell_type": "code",
   "execution_count": 0,
   "metadata": {
    "application/vnd.databricks.v1+cell": {
     "cellMetadata": {
      "byteLimit": 2048000,
      "rowLimit": 10000
     },
     "inputWidgets": {},
     "nuid": "7a2f66c5-bd65-4d6a-8848-40e7f14685d6",
     "showTitle": false,
     "title": ""
    }
   },
   "outputs": [
    {
     "output_type": "display_data",
     "data": {
      "text/html": [
       "<div>\n",
       "<style scoped>\n",
       "    .dataframe tbody tr th:only-of-type {\n",
       "        vertical-align: middle;\n",
       "    }\n",
       "\n",
       "    .dataframe tbody tr th {\n",
       "        vertical-align: top;\n",
       "    }\n",
       "\n",
       "    .dataframe thead th {\n",
       "        text-align: right;\n",
       "    }\n",
       "</style>\n",
       "<table border=\"1\" class=\"dataframe\">\n",
       "  <thead>\n",
       "    <tr style=\"text-align: right;\">\n",
       "      <th></th>\n",
       "      <th>cnpj_basico</th>\n",
       "      <th>razao_social_nome_empresarial</th>\n",
       "      <th>capital_social_da_empresa</th>\n",
       "      <th>Descrição_Natureza</th>\n",
       "      <th>Descrição_qualificacao</th>\n",
       "      <th>company_size</th>\n",
       "    </tr>\n",
       "  </thead>\n",
       "  <tbody>\n",
       "    <tr>\n",
       "      <th>0</th>\n",
       "      <td>306</td>\n",
       "      <td>FRANCAMAR REFRIGERACAO TECNICA S/C LTDA</td>\n",
       "      <td>0.0</td>\n",
       "      <td>Sociedade Simples Limitada</td>\n",
       "      <td>Sócio-Administrador</td>\n",
       "      <td>MICRO COMPANY</td>\n",
       "    </tr>\n",
       "    <tr>\n",
       "      <th>1</th>\n",
       "      <td>1355</td>\n",
       "      <td>BRASILEIRO &amp; OLIVEIRA LTDA</td>\n",
       "      <td>0.0</td>\n",
       "      <td>Sociedade Empresária Limitada</td>\n",
       "      <td>Sócio-Administrador</td>\n",
       "      <td>OTHER</td>\n",
       "    </tr>\n",
       "    <tr>\n",
       "      <th>2</th>\n",
       "      <td>4820</td>\n",
       "      <td>REGISTRO DE IMOVEIS, TABELIONATO 1 DE NOTAS E ...</td>\n",
       "      <td>0.0</td>\n",
       "      <td>Serviço Notarial e Registral (Cartório)</td>\n",
       "      <td>Tabelião</td>\n",
       "      <td>OTHER</td>\n",
       "    </tr>\n",
       "    <tr>\n",
       "      <th>3</th>\n",
       "      <td>5347</td>\n",
       "      <td>ROSELY APARECIDA MONTEIRO CALTABIANO FREITAS</td>\n",
       "      <td>0.0</td>\n",
       "      <td>Empresário (Individual)</td>\n",
       "      <td>Empresário</td>\n",
       "      <td>OTHER</td>\n",
       "    </tr>\n",
       "    <tr>\n",
       "      <th>4</th>\n",
       "      <td>6846</td>\n",
       "      <td>BADU E FILHOS TECIDOS LTDA</td>\n",
       "      <td>4000.0</td>\n",
       "      <td>Sociedade Empresária Limitada</td>\n",
       "      <td>Sócio-Administrador</td>\n",
       "      <td>MICRO COMPANY</td>\n",
       "    </tr>\n",
       "  </tbody>\n",
       "</table>\n",
       "</div>"
      ]
     },
     "metadata": {
      "application/vnd.databricks.v1+output": {
       "addedWidgets": {},
       "arguments": {},
       "data": "<div>\n<style scoped>\n    .dataframe tbody tr th:only-of-type {\n        vertical-align: middle;\n    }\n\n    .dataframe tbody tr th {\n        vertical-align: top;\n    }\n\n    .dataframe thead th {\n        text-align: right;\n    }\n</style>\n<table border=\"1\" class=\"dataframe\">\n  <thead>\n    <tr style=\"text-align: right;\">\n      <th></th>\n      <th>cnpj_basico</th>\n      <th>razao_social_nome_empresarial</th>\n      <th>capital_social_da_empresa</th>\n      <th>Descrição_Natureza</th>\n      <th>Descrição_qualificacao</th>\n      <th>company_size</th>\n    </tr>\n  </thead>\n  <tbody>\n    <tr>\n      <th>0</th>\n      <td>306</td>\n      <td>FRANCAMAR REFRIGERACAO TECNICA S/C LTDA</td>\n      <td>0.0</td>\n      <td>Sociedade Simples Limitada</td>\n      <td>Sócio-Administrador</td>\n      <td>MICRO COMPANY</td>\n    </tr>\n    <tr>\n      <th>1</th>\n      <td>1355</td>\n      <td>BRASILEIRO &amp; OLIVEIRA LTDA</td>\n      <td>0.0</td>\n      <td>Sociedade Empresária Limitada</td>\n      <td>Sócio-Administrador</td>\n      <td>OTHER</td>\n    </tr>\n    <tr>\n      <th>2</th>\n      <td>4820</td>\n      <td>REGISTRO DE IMOVEIS, TABELIONATO 1 DE NOTAS E ...</td>\n      <td>0.0</td>\n      <td>Serviço Notarial e Registral (Cartório)</td>\n      <td>Tabelião</td>\n      <td>OTHER</td>\n    </tr>\n    <tr>\n      <th>3</th>\n      <td>5347</td>\n      <td>ROSELY APARECIDA MONTEIRO CALTABIANO FREITAS</td>\n      <td>0.0</td>\n      <td>Empresário (Individual)</td>\n      <td>Empresário</td>\n      <td>OTHER</td>\n    </tr>\n    <tr>\n      <th>4</th>\n      <td>6846</td>\n      <td>BADU E FILHOS TECIDOS LTDA</td>\n      <td>4000.0</td>\n      <td>Sociedade Empresária Limitada</td>\n      <td>Sócio-Administrador</td>\n      <td>MICRO COMPANY</td>\n    </tr>\n  </tbody>\n</table>\n</div>",
       "datasetInfos": [],
       "metadata": {},
       "removedWidgets": [],
       "textData": null,
       "type": "htmlSandbox"
      }
     },
     "output_type": "display_data"
    }
   ],
   "source": [
    "df_Companies.limit(5).toPandas()"
   ]
  },
  {
   "cell_type": "code",
   "execution_count": 0,
   "metadata": {
    "application/vnd.databricks.v1+cell": {
     "cellMetadata": {
      "byteLimit": 2048000,
      "rowLimit": 10000
     },
     "inputWidgets": {},
     "nuid": "12d31c27-84d4-45dd-91e5-9e71b873d48a",
     "showTitle": false,
     "title": ""
    }
   },
   "outputs": [
    {
     "output_type": "display_data",
     "data": {
      "text/html": [
       "<div>\n",
       "<style scoped>\n",
       "    .dataframe tbody tr th:only-of-type {\n",
       "        vertical-align: middle;\n",
       "    }\n",
       "\n",
       "    .dataframe tbody tr th {\n",
       "        vertical-align: top;\n",
       "    }\n",
       "\n",
       "    .dataframe thead th {\n",
       "        text-align: right;\n",
       "    }\n",
       "</style>\n",
       "<table border=\"1\" class=\"dataframe\">\n",
       "  <thead>\n",
       "    <tr style=\"text-align: right;\">\n",
       "      <th></th>\n",
       "      <th>cnpj_basico</th>\n",
       "      <th>nome_do_socio_ou_razao_social</th>\n",
       "      <th>data_de_entrada_sociedade</th>\n",
       "      <th>faixa_etaria</th>\n",
       "      <th>Descrição_qualificacao</th>\n",
       "      <th>Partner_description</th>\n",
       "    </tr>\n",
       "  </thead>\n",
       "  <tbody>\n",
       "    <tr>\n",
       "      <th>0</th>\n",
       "      <td>411</td>\n",
       "      <td>LILIANA PATRICIA GUASTAVINO</td>\n",
       "      <td>1994-07-25</td>\n",
       "      <td>7</td>\n",
       "      <td>Sócio</td>\n",
       "      <td>INDIVIDUAL</td>\n",
       "    </tr>\n",
       "    <tr>\n",
       "      <th>1</th>\n",
       "      <td>411</td>\n",
       "      <td>CRISTINA HUNDERTMARK</td>\n",
       "      <td>1994-07-25</td>\n",
       "      <td>7</td>\n",
       "      <td>Sócio-Gerente</td>\n",
       "      <td>INDIVIDUAL</td>\n",
       "    </tr>\n",
       "    <tr>\n",
       "      <th>2</th>\n",
       "      <td>5813</td>\n",
       "      <td>CELSO EDUARDO DE CASTRO STEPHAN</td>\n",
       "      <td>1994-05-16</td>\n",
       "      <td>8</td>\n",
       "      <td>Sócio-Administrador</td>\n",
       "      <td>INDIVIDUAL</td>\n",
       "    </tr>\n",
       "    <tr>\n",
       "      <th>3</th>\n",
       "      <td>5813</td>\n",
       "      <td>EDUARDO BERRINGER STEPHAN</td>\n",
       "      <td>1994-05-16</td>\n",
       "      <td>5</td>\n",
       "      <td>Sócio-Administrador</td>\n",
       "      <td>INDIVIDUAL</td>\n",
       "    </tr>\n",
       "    <tr>\n",
       "      <th>4</th>\n",
       "      <td>14798</td>\n",
       "      <td>HANNE MAHFOUD FADEL</td>\n",
       "      <td>1994-06-09</td>\n",
       "      <td>8</td>\n",
       "      <td>Sócio-Administrador</td>\n",
       "      <td>INDIVIDUAL</td>\n",
       "    </tr>\n",
       "  </tbody>\n",
       "</table>\n",
       "</div>"
      ]
     },
     "metadata": {
      "application/vnd.databricks.v1+output": {
       "addedWidgets": {},
       "arguments": {},
       "data": "<div>\n<style scoped>\n    .dataframe tbody tr th:only-of-type {\n        vertical-align: middle;\n    }\n\n    .dataframe tbody tr th {\n        vertical-align: top;\n    }\n\n    .dataframe thead th {\n        text-align: right;\n    }\n</style>\n<table border=\"1\" class=\"dataframe\">\n  <thead>\n    <tr style=\"text-align: right;\">\n      <th></th>\n      <th>cnpj_basico</th>\n      <th>nome_do_socio_ou_razao_social</th>\n      <th>data_de_entrada_sociedade</th>\n      <th>faixa_etaria</th>\n      <th>Descrição_qualificacao</th>\n      <th>Partner_description</th>\n    </tr>\n  </thead>\n  <tbody>\n    <tr>\n      <th>0</th>\n      <td>411</td>\n      <td>LILIANA PATRICIA GUASTAVINO</td>\n      <td>1994-07-25</td>\n      <td>7</td>\n      <td>Sócio</td>\n      <td>INDIVIDUAL</td>\n    </tr>\n    <tr>\n      <th>1</th>\n      <td>411</td>\n      <td>CRISTINA HUNDERTMARK</td>\n      <td>1994-07-25</td>\n      <td>7</td>\n      <td>Sócio-Gerente</td>\n      <td>INDIVIDUAL</td>\n    </tr>\n    <tr>\n      <th>2</th>\n      <td>5813</td>\n      <td>CELSO EDUARDO DE CASTRO STEPHAN</td>\n      <td>1994-05-16</td>\n      <td>8</td>\n      <td>Sócio-Administrador</td>\n      <td>INDIVIDUAL</td>\n    </tr>\n    <tr>\n      <th>3</th>\n      <td>5813</td>\n      <td>EDUARDO BERRINGER STEPHAN</td>\n      <td>1994-05-16</td>\n      <td>5</td>\n      <td>Sócio-Administrador</td>\n      <td>INDIVIDUAL</td>\n    </tr>\n    <tr>\n      <th>4</th>\n      <td>14798</td>\n      <td>HANNE MAHFOUD FADEL</td>\n      <td>1994-06-09</td>\n      <td>8</td>\n      <td>Sócio-Administrador</td>\n      <td>INDIVIDUAL</td>\n    </tr>\n  </tbody>\n</table>\n</div>",
       "datasetInfos": [],
       "metadata": {},
       "removedWidgets": [],
       "textData": null,
       "type": "htmlSandbox"
      }
     },
     "output_type": "display_data"
    }
   ],
   "source": [
    "df_Partners.limit(5).toPandas()"
   ]
  },
  {
   "cell_type": "code",
   "execution_count": 0,
   "metadata": {
    "application/vnd.databricks.v1+cell": {
     "cellMetadata": {
      "byteLimit": 2048000,
      "rowLimit": 10000
     },
     "inputWidgets": {},
     "nuid": "5ed96357-5763-4c7e-8cc4-cfe3ae9decb2",
     "showTitle": false,
     "title": ""
    }
   },
   "outputs": [
    {
     "output_type": "display_data",
     "data": {
      "text/html": [
       "<div>\n",
       "<style scoped>\n",
       "    .dataframe tbody tr th:only-of-type {\n",
       "        vertical-align: middle;\n",
       "    }\n",
       "\n",
       "    .dataframe tbody tr th {\n",
       "        vertical-align: top;\n",
       "    }\n",
       "\n",
       "    .dataframe thead th {\n",
       "        text-align: right;\n",
       "    }\n",
       "</style>\n",
       "<table border=\"1\" class=\"dataframe\">\n",
       "  <thead>\n",
       "    <tr style=\"text-align: right;\">\n",
       "      <th></th>\n",
       "      <th>cnpj_basico</th>\n",
       "      <th>nome_fantasia</th>\n",
       "      <th>data_situacao_cadastral</th>\n",
       "      <th>data_de_inicio_atividade</th>\n",
       "      <th>branch_type</th>\n",
       "      <th>registration_status</th>\n",
       "    </tr>\n",
       "  </thead>\n",
       "  <tbody>\n",
       "    <tr>\n",
       "      <th>0</th>\n",
       "      <td>1879</td>\n",
       "      <td>PIRAMIDE M. C.</td>\n",
       "      <td>2001-10-29</td>\n",
       "      <td>1994-05-09</td>\n",
       "      <td>HEADQUARTER</td>\n",
       "      <td>CLOSED</td>\n",
       "    </tr>\n",
       "    <tr>\n",
       "      <th>1</th>\n",
       "      <td>2818</td>\n",
       "      <td>None</td>\n",
       "      <td>2008-12-31</td>\n",
       "      <td>1994-05-12</td>\n",
       "      <td>HEADQUARTER</td>\n",
       "      <td>CLOSED</td>\n",
       "    </tr>\n",
       "    <tr>\n",
       "      <th>2</th>\n",
       "      <td>3110</td>\n",
       "      <td>None</td>\n",
       "      <td>1997-12-31</td>\n",
       "      <td>1994-05-12</td>\n",
       "      <td>HEADQUARTER</td>\n",
       "      <td>CLOSED</td>\n",
       "    </tr>\n",
       "    <tr>\n",
       "      <th>3</th>\n",
       "      <td>3733</td>\n",
       "      <td>None</td>\n",
       "      <td>2008-12-31</td>\n",
       "      <td>1994-05-13</td>\n",
       "      <td>HEADQUARTER</td>\n",
       "      <td>CLOSED</td>\n",
       "    </tr>\n",
       "    <tr>\n",
       "      <th>4</th>\n",
       "      <td>4628</td>\n",
       "      <td>EMBROIDERY &amp; GIFT</td>\n",
       "      <td>1998-04-29</td>\n",
       "      <td>1995-05-09</td>\n",
       "      <td>BRANCH</td>\n",
       "      <td>CLOSED</td>\n",
       "    </tr>\n",
       "  </tbody>\n",
       "</table>\n",
       "</div>"
      ]
     },
     "metadata": {
      "application/vnd.databricks.v1+output": {
       "addedWidgets": {},
       "arguments": {},
       "data": "<div>\n<style scoped>\n    .dataframe tbody tr th:only-of-type {\n        vertical-align: middle;\n    }\n\n    .dataframe tbody tr th {\n        vertical-align: top;\n    }\n\n    .dataframe thead th {\n        text-align: right;\n    }\n</style>\n<table border=\"1\" class=\"dataframe\">\n  <thead>\n    <tr style=\"text-align: right;\">\n      <th></th>\n      <th>cnpj_basico</th>\n      <th>nome_fantasia</th>\n      <th>data_situacao_cadastral</th>\n      <th>data_de_inicio_atividade</th>\n      <th>branch_type</th>\n      <th>registration_status</th>\n    </tr>\n  </thead>\n  <tbody>\n    <tr>\n      <th>0</th>\n      <td>1879</td>\n      <td>PIRAMIDE M. C.</td>\n      <td>2001-10-29</td>\n      <td>1994-05-09</td>\n      <td>HEADQUARTER</td>\n      <td>CLOSED</td>\n    </tr>\n    <tr>\n      <th>1</th>\n      <td>2818</td>\n      <td>None</td>\n      <td>2008-12-31</td>\n      <td>1994-05-12</td>\n      <td>HEADQUARTER</td>\n      <td>CLOSED</td>\n    </tr>\n    <tr>\n      <th>2</th>\n      <td>3110</td>\n      <td>None</td>\n      <td>1997-12-31</td>\n      <td>1994-05-12</td>\n      <td>HEADQUARTER</td>\n      <td>CLOSED</td>\n    </tr>\n    <tr>\n      <th>3</th>\n      <td>3733</td>\n      <td>None</td>\n      <td>2008-12-31</td>\n      <td>1994-05-13</td>\n      <td>HEADQUARTER</td>\n      <td>CLOSED</td>\n    </tr>\n    <tr>\n      <th>4</th>\n      <td>4628</td>\n      <td>EMBROIDERY &amp; GIFT</td>\n      <td>1998-04-29</td>\n      <td>1995-05-09</td>\n      <td>BRANCH</td>\n      <td>CLOSED</td>\n    </tr>\n  </tbody>\n</table>\n</div>",
       "datasetInfos": [],
       "metadata": {},
       "removedWidgets": [],
       "textData": null,
       "type": "htmlSandbox"
      }
     },
     "output_type": "display_data"
    }
   ],
   "source": [
    "df_Establishments.limit(5).toPandas()"
   ]
  },
  {
   "cell_type": "code",
   "execution_count": 0,
   "metadata": {
    "application/vnd.databricks.v1+cell": {
     "cellMetadata": {
      "byteLimit": 2048000,
      "rowLimit": 10000
     },
     "inputWidgets": {},
     "nuid": "36acba3b-5f48-4d75-b576-13b0eb49c280",
     "showTitle": false,
     "title": ""
    }
   },
   "outputs": [
    {
     "output_type": "stream",
     "name": "stdout",
     "output_type": "stream",
     "text": [
      "root\n |-- cnpj_basico: integer (nullable = true)\n |-- razao_social_nome_empresarial: string (nullable = true)\n |-- capital_social_da_empresa: double (nullable = true)\n |-- Descrição_Natureza: string (nullable = true)\n |-- Descrição_qualificacao: string (nullable = true)\n |-- company_size: string (nullable = false)\n\n"
     ]
    }
   ],
   "source": [
    "df_Companies.printSchema()"
   ]
  },
  {
   "cell_type": "code",
   "execution_count": 0,
   "metadata": {
    "application/vnd.databricks.v1+cell": {
     "cellMetadata": {
      "byteLimit": 2048000,
      "rowLimit": 10000
     },
     "inputWidgets": {},
     "nuid": "52566511-85b6-434a-96cb-0d6b1200fc3b",
     "showTitle": false,
     "title": ""
    }
   },
   "outputs": [
    {
     "output_type": "stream",
     "name": "stdout",
     "output_type": "stream",
     "text": [
      "root\n |-- cnpj_basico: integer (nullable = true)\n |-- nome_fantasia: string (nullable = true)\n |-- data_situacao_cadastral: date (nullable = true)\n |-- data_de_inicio_atividade: date (nullable = true)\n |-- branch_type: string (nullable = false)\n |-- registration_status: string (nullable = false)\n\n"
     ]
    }
   ],
   "source": [
    "df_Establishments.printSchema()"
   ]
  },
  {
   "cell_type": "code",
   "execution_count": 0,
   "metadata": {
    "application/vnd.databricks.v1+cell": {
     "cellMetadata": {
      "byteLimit": 2048000,
      "rowLimit": 10000
     },
     "inputWidgets": {},
     "nuid": "6e35218b-35cf-4777-9ce4-29d050162b02",
     "showTitle": false,
     "title": ""
    }
   },
   "outputs": [
    {
     "output_type": "stream",
     "name": "stdout",
     "output_type": "stream",
     "text": [
      "root\n |-- cnpj_basico: integer (nullable = true)\n |-- nome_do_socio_ou_razao_social: string (nullable = true)\n |-- data_de_entrada_sociedade: date (nullable = true)\n |-- faixa_etaria: integer (nullable = true)\n |-- Descrição_qualificacao: string (nullable = true)\n |-- Partner_description: string (nullable = false)\n\n"
     ]
    }
   ],
   "source": [
    "df_Partners.printSchema()"
   ]
  },
  {
   "cell_type": "markdown",
   "metadata": {
    "application/vnd.databricks.v1+cell": {
     "cellMetadata": {
      "byteLimit": 2048000,
      "rowLimit": 10000
     },
     "inputWidgets": {},
     "nuid": "bee39e2f-065f-469d-9e15-8ad819dad5d3",
     "showTitle": false,
     "title": ""
    }
   },
   "source": [
    "#### Total companies by size:"
   ]
  },
  {
   "cell_type": "code",
   "execution_count": 0,
   "metadata": {
    "application/vnd.databricks.v1+cell": {
     "cellMetadata": {
      "byteLimit": 2048000,
      "rowLimit": 10000
     },
     "inputWidgets": {},
     "nuid": "16e3a5c0-fac9-465a-ab91-c51204145d44",
     "showTitle": false,
     "title": ""
    }
   },
   "outputs": [
    {
     "output_type": "stream",
     "name": "stdout",
     "output_type": "stream",
     "text": [
      "+-------------+-----------------------+\n| company_size|total_companies_by_size|\n+-------------+-----------------------+\n|SMALL COMPANY|                 115151|\n|MICRO COMPANY|                3129043|\n|      Unknown|                   5985|\n|        OTHER|                1335500|\n+-------------+-----------------------+\n\n"
     ]
    }
   ],
   "source": [
    "from pyspark.sql.functions import count\n",
    "df_Companies.groupBy(\"company_size\").agg(count(\"*\").alias(\"total_companies_by_size\")).show()\n"
   ]
  },
  {
   "cell_type": "markdown",
   "metadata": {
    "application/vnd.databricks.v1+cell": {
     "cellMetadata": {},
     "inputWidgets": {},
     "nuid": "0a557cdc-c743-4030-bd05-e97377a67000",
     "showTitle": false,
     "title": ""
    }
   },
   "source": [
    "#### Total Headquarters and Subsidiaries:"
   ]
  },
  {
   "cell_type": "code",
   "execution_count": 0,
   "metadata": {
    "application/vnd.databricks.v1+cell": {
     "cellMetadata": {
      "byteLimit": 2048000,
      "rowLimit": 10000
     },
     "inputWidgets": {},
     "nuid": "df959497-19ea-43d8-b6d6-fa087b6cc1d3",
     "showTitle": false,
     "title": ""
    }
   },
   "outputs": [
    {
     "output_type": "stream",
     "name": "stdout",
     "output_type": "stream",
     "text": [
      "+-----------+----------------------------+\n|branch_type|total_establishments_by_type|\n+-----------+----------------------------+\n|HEADQUARTER|                     4585679|\n|     BRANCH|                      250540|\n+-----------+----------------------------+\n\n"
     ]
    }
   ],
   "source": [
    "df_Establishments.groupBy(\"branch_type\").agg(count(\"*\").alias(\"total_establishments_by_type\")).show()\n"
   ]
  },
  {
   "cell_type": "markdown",
   "metadata": {
    "application/vnd.databricks.v1+cell": {
     "cellMetadata": {},
     "inputWidgets": {},
     "nuid": "5dbfc2ad-bfb0-4227-9501-85c43b15c640",
     "showTitle": false,
     "title": ""
    }
   },
   "source": [
    "\n",
    "#### Total establishments by registration status:"
   ]
  },
  {
   "cell_type": "code",
   "execution_count": 0,
   "metadata": {
    "application/vnd.databricks.v1+cell": {
     "cellMetadata": {
      "byteLimit": 2048000,
      "rowLimit": 10000
     },
     "inputWidgets": {},
     "nuid": "2b94afc5-c376-4fb0-bf41-28f4af37a53c",
     "showTitle": false,
     "title": ""
    }
   },
   "outputs": [
    {
     "output_type": "stream",
     "name": "stdout",
     "output_type": "stream",
     "text": [
      "+-------------------+------------------------------+\n|registration_status|total_establishments_by_status|\n+-------------------+------------------------------+\n|           INACTIVE|                        737328|\n|          SUSPENDED|                         17145|\n|             CLOSED|                       2127895|\n|             ACTIVE|                       1945695|\n|               NULL|                          8156|\n+-------------------+------------------------------+\n\n"
     ]
    }
   ],
   "source": [
    "Establishments.groupBy(\"registration_status\").agg(count(\"*\").alias(\"total_establishments_by_status\")).show()\n"
   ]
  },
  {
   "cell_type": "markdown",
   "metadata": {
    "application/vnd.databricks.v1+cell": {
     "cellMetadata": {},
     "inputWidgets": {},
     "nuid": "5120b6f8-b10f-4508-b88c-d8ed3871b68d",
     "showTitle": false,
     "title": ""
    }
   },
   "source": [
    "\n",
    "#### Total establishments opened per year:"
   ]
  },
  {
   "cell_type": "code",
   "execution_count": 0,
   "metadata": {
    "application/vnd.databricks.v1+cell": {
     "cellMetadata": {
      "byteLimit": 2048000,
      "rowLimit": 10000
     },
     "inputWidgets": {},
     "nuid": "62bbae69-2716-423d-bfe6-eb0413255dc3",
     "showTitle": false,
     "title": ""
    }
   },
   "outputs": [
    {
     "output_type": "stream",
     "name": "stdout",
     "output_type": "stream",
     "text": [
      "+------------------------------+------------------------------------+\n|year(data_de_inicio_atividade)|total_establishments_opened_per_year|\n+------------------------------+------------------------------------+\n|                          1959|                                  17|\n|                          1990|                               63580|\n|                          1903|                                   1|\n|                          1975|                               14058|\n|                          1977|                               28535|\n|                          2003|                               59344|\n|                          2007|                               74924|\n|                          2018|                              275435|\n|                          1974|                               11896|\n|                          2015|                              212523|\n|                          1955|                                  21|\n|                          2006|                               80609|\n|                          1978|                               25800|\n|                          1961|                                  27|\n|                          2013|                              198424|\n|                          1952|                                  15|\n|                          1956|                                  15|\n|                          1997|                               67779|\n|                          1988|                               50041|\n|                          1994|                               62259|\n+------------------------------+------------------------------------+\nonly showing top 20 rows\n\n"
     ]
    }
   ],
   "source": [
    "from pyspark.sql.functions import year\n",
    "Establishments.groupBy(year(\"data_de_inicio_atividade\")).agg(count(\"*\").alias(\"total_establishments_opened_per_year\")).show()\n"
   ]
  },
  {
   "cell_type": "markdown",
   "metadata": {
    "application/vnd.databricks.v1+cell": {
     "cellMetadata": {},
     "inputWidgets": {},
     "nuid": "d4288464-c0d8-4fa8-9c23-25e07467a713",
     "showTitle": false,
     "title": ""
    }
   },
   "source": [
    "#### Establishments opened per year since 2011:"
   ]
  },
  {
   "cell_type": "code",
   "execution_count": 0,
   "metadata": {
    "application/vnd.databricks.v1+cell": {
     "cellMetadata": {
      "byteLimit": 2048000,
      "rowLimit": 10000
     },
     "inputWidgets": {},
     "nuid": "ce32ff1d-e179-4c13-afdf-b9e4a7ad2dcd",
     "showTitle": false,
     "title": ""
    }
   },
   "outputs": [
    {
     "output_type": "stream",
     "name": "stdout",
     "output_type": "stream",
     "text": [
      "+----+------------------------------------+\n|year|total_establishments_opened_per_year|\n+----+------------------------------------+\n|2011|                              172677|\n|2012|                              232480|\n|2013|                              198424|\n|2014|                              202276|\n|2015|                              212523|\n|2016|                              265415|\n|2017|                              237292|\n|2018|                              275435|\n|2019|                              325922|\n|2020|                              400654|\n|2021|                              153275|\n+----+------------------------------------+\n\n"
     ]
    }
   ],
   "source": [
    "from pyspark.sql.functions import year\n",
    "\n",
    "# Filtering the data to include only years from 2014 onwards\n",
    "Establishments_filtered = df_Establishments.filter(year(\"data_de_inicio_atividade\") >= 2011)\n",
    "\n",
    "# Creating a temporary view with the filtered data\n",
    "Establishments_filtered.createOrReplaceTempView(\"establishments_filtered_view\")\n",
    "\n",
    "# Performing the analysis using the view\n",
    "result = spark.sql(\"\"\"\n",
    "    SELECT YEAR(data_de_inicio_atividade) AS year,\n",
    "           COUNT(*) AS total_establishments_opened_per_year\n",
    "    FROM establishments_filtered_view\n",
    "    GROUP BY YEAR(data_de_inicio_atividade)\n",
    "    ORDER BY YEAR(data_de_inicio_atividade)\n",
    "\"\"\")\n",
    "\n",
    "# Showing the result\n",
    "result.show()\n"
   ]
  },
  {
   "cell_type": "markdown",
   "metadata": {
    "application/vnd.databricks.v1+cell": {
     "cellMetadata": {},
     "inputWidgets": {},
     "nuid": "a549f986-5a5c-48c5-884d-2e14b117361a",
     "showTitle": false,
     "title": ""
    }
   },
   "source": [
    "\n",
    "#### Summary statistics for the \"Share capital\" column:"
   ]
  },
  {
   "cell_type": "code",
   "execution_count": 0,
   "metadata": {
    "application/vnd.databricks.v1+cell": {
     "cellMetadata": {
      "byteLimit": 2048000,
      "rowLimit": 10000
     },
     "inputWidgets": {},
     "nuid": "33b4ea2e-ab5c-4d2e-9a46-ea0fc54b51df",
     "showTitle": false,
     "title": ""
    }
   },
   "outputs": [
    {
     "output_type": "stream",
     "name": "stdout",
     "output_type": "stream",
     "text": [
      "+-------+-------------------------+\n|summary|capital_social_da_empresa|\n+-------+-------------------------+\n|  count|                  4585679|\n|   mean|        503694.5478542674|\n| stddev|     2.1118691490537727E8|\n|    min|                      0.0|\n|    25%|                      0.0|\n|    50%|                   1000.0|\n|    75%|                   7000.0|\n|    max|         3.22014670262E11|\n+-------+-------------------------+\n\n"
     ]
    }
   ],
   "source": [
    "df_Companies\\\n",
    "    .select(\"capital_social_da_empresa\")\\\n",
    "    .summary()\\\n",
    "    .show()"
   ]
  },
  {
   "cell_type": "markdown",
   "metadata": {
    "application/vnd.databricks.v1+cell": {
     "cellMetadata": {},
     "inputWidgets": {},
     "nuid": "5383a458-e2dc-4910-a0e8-612f23395b3e",
     "showTitle": false,
     "title": ""
    }
   },
   "source": [
    "\n",
    "#### Frequency and average share capital by company size:"
   ]
  },
  {
   "cell_type": "code",
   "execution_count": 0,
   "metadata": {
    "application/vnd.databricks.v1+cell": {
     "cellMetadata": {
      "byteLimit": 2048000,
      "rowLimit": 10000
     },
     "inputWidgets": {},
     "nuid": "7f957c81-13a4-4f87-af26-be95038f1c82",
     "showTitle": false,
     "title": ""
    }
   },
   "outputs": [
    {
     "output_type": "display_data",
     "data": {
      "text/html": [
       "<div>\n",
       "<style scoped>\n",
       "    .dataframe tbody tr th:only-of-type {\n",
       "        vertical-align: middle;\n",
       "    }\n",
       "\n",
       "    .dataframe tbody tr th {\n",
       "        vertical-align: top;\n",
       "    }\n",
       "\n",
       "    .dataframe thead th {\n",
       "        text-align: right;\n",
       "    }\n",
       "</style>\n",
       "<table border=\"1\" class=\"dataframe\">\n",
       "  <thead>\n",
       "    <tr style=\"text-align: right;\">\n",
       "      <th></th>\n",
       "      <th>company_size</th>\n",
       "      <th>average_social_capital</th>\n",
       "      <th>freq</th>\n",
       "    </tr>\n",
       "  </thead>\n",
       "  <tbody>\n",
       "    <tr>\n",
       "      <th>0</th>\n",
       "      <td>MICRO COMPANY</td>\n",
       "      <td>3.399945e+05</td>\n",
       "      <td>3129043</td>\n",
       "    </tr>\n",
       "    <tr>\n",
       "      <th>1</th>\n",
       "      <td>OTHER</td>\n",
       "      <td>7.086604e+05</td>\n",
       "      <td>1335500</td>\n",
       "    </tr>\n",
       "    <tr>\n",
       "      <th>2</th>\n",
       "      <td>SMALL COMPANY</td>\n",
       "      <td>2.601002e+06</td>\n",
       "      <td>115151</td>\n",
       "    </tr>\n",
       "    <tr>\n",
       "      <th>3</th>\n",
       "      <td>Unknown</td>\n",
       "      <td>8.354219e+00</td>\n",
       "      <td>5985</td>\n",
       "    </tr>\n",
       "  </tbody>\n",
       "</table>\n",
       "</div>"
      ]
     },
     "metadata": {
      "application/vnd.databricks.v1+output": {
       "addedWidgets": {},
       "arguments": {},
       "data": "<div>\n<style scoped>\n    .dataframe tbody tr th:only-of-type {\n        vertical-align: middle;\n    }\n\n    .dataframe tbody tr th {\n        vertical-align: top;\n    }\n\n    .dataframe thead th {\n        text-align: right;\n    }\n</style>\n<table border=\"1\" class=\"dataframe\">\n  <thead>\n    <tr style=\"text-align: right;\">\n      <th></th>\n      <th>company_size</th>\n      <th>average_social_capital</th>\n      <th>freq</th>\n    </tr>\n  </thead>\n  <tbody>\n    <tr>\n      <th>0</th>\n      <td>MICRO COMPANY</td>\n      <td>3.399945e+05</td>\n      <td>3129043</td>\n    </tr>\n    <tr>\n      <th>1</th>\n      <td>OTHER</td>\n      <td>7.086604e+05</td>\n      <td>1335500</td>\n    </tr>\n    <tr>\n      <th>2</th>\n      <td>SMALL COMPANY</td>\n      <td>2.601002e+06</td>\n      <td>115151</td>\n    </tr>\n    <tr>\n      <th>3</th>\n      <td>Unknown</td>\n      <td>8.354219e+00</td>\n      <td>5985</td>\n    </tr>\n  </tbody>\n</table>\n</div>",
       "datasetInfos": [],
       "metadata": {},
       "removedWidgets": [],
       "textData": null,
       "type": "htmlSandbox"
      }
     },
     "output_type": "display_data"
    }
   ],
   "source": [
    "df_Companies\\\n",
    "    .select('cnpj_basico', 'company_size', 'capital_social_da_empresa')\\\n",
    "    .groupBy('company_size')\\\n",
    "    .agg(\n",
    "        f.avg(\"capital_social_da_empresa\").alias(\"average_social_capital\"),\n",
    "        f.count(\"cnpj_basico\").alias(\"freq\")\n",
    "    )\\\n",
    "    .orderBy('company_size', ascending=True)\\\n",
    "    .toPandas()    "
   ]
  },
  {
   "cell_type": "markdown",
   "metadata": {
    "application/vnd.databricks.v1+cell": {
     "cellMetadata": {},
     "inputWidgets": {},
     "nuid": "403875ee-1483-4120-be3f-c708b95c54c4",
     "showTitle": false,
     "title": ""
    }
   },
   "source": [
    "\n",
    "#### Joining Companies and Establishments:"
   ]
  },
  {
   "cell_type": "code",
   "execution_count": 0,
   "metadata": {
    "application/vnd.databricks.v1+cell": {
     "cellMetadata": {
      "byteLimit": 2048000,
      "rowLimit": 10000
     },
     "inputWidgets": {},
     "nuid": "c06fa428-9716-48ee-a56e-d935f3566177",
     "showTitle": false,
     "title": ""
    }
   },
   "outputs": [
    {
     "output_type": "display_data",
     "data": {
      "text/html": [
       "<div>\n",
       "<style scoped>\n",
       "    .dataframe tbody tr th:only-of-type {\n",
       "        vertical-align: middle;\n",
       "    }\n",
       "\n",
       "    .dataframe tbody tr th {\n",
       "        vertical-align: top;\n",
       "    }\n",
       "\n",
       "    .dataframe thead th {\n",
       "        text-align: right;\n",
       "    }\n",
       "</style>\n",
       "<table border=\"1\" class=\"dataframe\">\n",
       "  <thead>\n",
       "    <tr style=\"text-align: right;\">\n",
       "      <th></th>\n",
       "      <th>cnpj_basico</th>\n",
       "      <th>nome_fantasia</th>\n",
       "      <th>data_situacao_cadastral</th>\n",
       "      <th>data_de_inicio_atividade</th>\n",
       "      <th>branch_type</th>\n",
       "      <th>registration_status</th>\n",
       "      <th>razao_social_nome_empresarial</th>\n",
       "      <th>capital_social_da_empresa</th>\n",
       "      <th>Descrição_Natureza</th>\n",
       "      <th>Descrição_qualificacao</th>\n",
       "      <th>company_size</th>\n",
       "    </tr>\n",
       "  </thead>\n",
       "  <tbody>\n",
       "    <tr>\n",
       "      <th>0</th>\n",
       "      <td>243</td>\n",
       "      <td>None</td>\n",
       "      <td>2005-08-27</td>\n",
       "      <td>1994-07-29</td>\n",
       "      <td>HEADQUARTER</td>\n",
       "      <td>ACTIVE</td>\n",
       "      <td>IN FOCO PRODUCOES FOTOGRAFICAS S/S LTDA</td>\n",
       "      <td>500.0</td>\n",
       "      <td>Sociedade Simples Limitada</td>\n",
       "      <td>Sócio-Administrador</td>\n",
       "      <td>MICRO COMPANY</td>\n",
       "    </tr>\n",
       "    <tr>\n",
       "      <th>1</th>\n",
       "      <td>336</td>\n",
       "      <td>None</td>\n",
       "      <td>1995-07-07</td>\n",
       "      <td>1994-08-23</td>\n",
       "      <td>HEADQUARTER</td>\n",
       "      <td>CLOSED</td>\n",
       "      <td>CLINICA ROMA S/C LTDA</td>\n",
       "      <td>0.0</td>\n",
       "      <td>Sociedade Simples Limitada</td>\n",
       "      <td>Sócio-Gerente</td>\n",
       "      <td>OTHER</td>\n",
       "    </tr>\n",
       "    <tr>\n",
       "      <th>2</th>\n",
       "      <td>362</td>\n",
       "      <td>None</td>\n",
       "      <td>2008-12-31</td>\n",
       "      <td>1994-08-30</td>\n",
       "      <td>HEADQUARTER</td>\n",
       "      <td>CLOSED</td>\n",
       "      <td>SOFT TRAINNING TREINAMENTO EM INFORMATICA S/C ...</td>\n",
       "      <td>0.0</td>\n",
       "      <td>Sociedade Simples Limitada</td>\n",
       "      <td>Sócio-Administrador</td>\n",
       "      <td>OTHER</td>\n",
       "    </tr>\n",
       "    <tr>\n",
       "      <th>3</th>\n",
       "      <td>451</td>\n",
       "      <td>CASA DO PASTOR</td>\n",
       "      <td>2008-12-31</td>\n",
       "      <td>1994-10-04</td>\n",
       "      <td>HEADQUARTER</td>\n",
       "      <td>CLOSED</td>\n",
       "      <td>CONSELHO PASTORAL BATISTA FUNDAMENTALISTA DO B...</td>\n",
       "      <td>0.0</td>\n",
       "      <td>Associação Privada</td>\n",
       "      <td>Presidente</td>\n",
       "      <td>OTHER</td>\n",
       "    </tr>\n",
       "    <tr>\n",
       "      <th>4</th>\n",
       "      <td>458</td>\n",
       "      <td>None</td>\n",
       "      <td>2005-11-03</td>\n",
       "      <td>1994-10-10</td>\n",
       "      <td>HEADQUARTER</td>\n",
       "      <td>ACTIVE</td>\n",
       "      <td>AMERICO REGATIERI NETO REPRESENTACOES</td>\n",
       "      <td>5000.0</td>\n",
       "      <td>Empresário (Individual)</td>\n",
       "      <td>Empresário</td>\n",
       "      <td>MICRO COMPANY</td>\n",
       "    </tr>\n",
       "  </tbody>\n",
       "</table>\n",
       "</div>"
      ]
     },
     "metadata": {
      "application/vnd.databricks.v1+output": {
       "addedWidgets": {},
       "arguments": {},
       "data": "<div>\n<style scoped>\n    .dataframe tbody tr th:only-of-type {\n        vertical-align: middle;\n    }\n\n    .dataframe tbody tr th {\n        vertical-align: top;\n    }\n\n    .dataframe thead th {\n        text-align: right;\n    }\n</style>\n<table border=\"1\" class=\"dataframe\">\n  <thead>\n    <tr style=\"text-align: right;\">\n      <th></th>\n      <th>cnpj_basico</th>\n      <th>nome_fantasia</th>\n      <th>data_situacao_cadastral</th>\n      <th>data_de_inicio_atividade</th>\n      <th>branch_type</th>\n      <th>registration_status</th>\n      <th>razao_social_nome_empresarial</th>\n      <th>capital_social_da_empresa</th>\n      <th>Descrição_Natureza</th>\n      <th>Descrição_qualificacao</th>\n      <th>company_size</th>\n    </tr>\n  </thead>\n  <tbody>\n    <tr>\n      <th>0</th>\n      <td>243</td>\n      <td>None</td>\n      <td>2005-08-27</td>\n      <td>1994-07-29</td>\n      <td>HEADQUARTER</td>\n      <td>ACTIVE</td>\n      <td>IN FOCO PRODUCOES FOTOGRAFICAS S/S LTDA</td>\n      <td>500.0</td>\n      <td>Sociedade Simples Limitada</td>\n      <td>Sócio-Administrador</td>\n      <td>MICRO COMPANY</td>\n    </tr>\n    <tr>\n      <th>1</th>\n      <td>336</td>\n      <td>None</td>\n      <td>1995-07-07</td>\n      <td>1994-08-23</td>\n      <td>HEADQUARTER</td>\n      <td>CLOSED</td>\n      <td>CLINICA ROMA S/C LTDA</td>\n      <td>0.0</td>\n      <td>Sociedade Simples Limitada</td>\n      <td>Sócio-Gerente</td>\n      <td>OTHER</td>\n    </tr>\n    <tr>\n      <th>2</th>\n      <td>362</td>\n      <td>None</td>\n      <td>2008-12-31</td>\n      <td>1994-08-30</td>\n      <td>HEADQUARTER</td>\n      <td>CLOSED</td>\n      <td>SOFT TRAINNING TREINAMENTO EM INFORMATICA S/C ...</td>\n      <td>0.0</td>\n      <td>Sociedade Simples Limitada</td>\n      <td>Sócio-Administrador</td>\n      <td>OTHER</td>\n    </tr>\n    <tr>\n      <th>3</th>\n      <td>451</td>\n      <td>CASA DO PASTOR</td>\n      <td>2008-12-31</td>\n      <td>1994-10-04</td>\n      <td>HEADQUARTER</td>\n      <td>CLOSED</td>\n      <td>CONSELHO PASTORAL BATISTA FUNDAMENTALISTA DO B...</td>\n      <td>0.0</td>\n      <td>Associação Privada</td>\n      <td>Presidente</td>\n      <td>OTHER</td>\n    </tr>\n    <tr>\n      <th>4</th>\n      <td>458</td>\n      <td>None</td>\n      <td>2005-11-03</td>\n      <td>1994-10-10</td>\n      <td>HEADQUARTER</td>\n      <td>ACTIVE</td>\n      <td>AMERICO REGATIERI NETO REPRESENTACOES</td>\n      <td>5000.0</td>\n      <td>Empresário (Individual)</td>\n      <td>Empresário</td>\n      <td>MICRO COMPANY</td>\n    </tr>\n  </tbody>\n</table>\n</div>",
       "datasetInfos": [],
       "metadata": {},
       "removedWidgets": [],
       "textData": null,
       "type": "htmlSandbox"
      }
     },
     "output_type": "display_data"
    }
   ],
   "source": [
    " Establishments_join = df_Establishments.join(df_Companies, 'cnpj_basico', how='inner')\n",
    " Establishments_join.limit(5).toPandas()"
   ]
  },
  {
   "cell_type": "markdown",
   "metadata": {
    "application/vnd.databricks.v1+cell": {
     "cellMetadata": {},
     "inputWidgets": {},
     "nuid": "2c24f64d-beed-4e6b-8082-ffc182489760",
     "showTitle": false,
     "title": ""
    }
   },
   "source": [
    "#### Filtering only company names that have \"RESTAURANT\" in their trade name:"
   ]
  },
  {
   "cell_type": "code",
   "execution_count": 0,
   "metadata": {
    "application/vnd.databricks.v1+cell": {
     "cellMetadata": {
      "byteLimit": 2048000,
      "rowLimit": 10000
     },
     "inputWidgets": {},
     "nuid": "d05f23e3-0087-4a35-bed1-18610b2b563f",
     "showTitle": false,
     "title": ""
    }
   },
   "outputs": [
    {
     "output_type": "stream",
     "name": "stdout",
     "output_type": "stream",
     "text": [
      "+----------------------------------------+------------------------------------------------------------------------+-------------+-------------------+-------------------------+\n|razao_social_nome_empresarial           |Descrição_Natureza                                                      |company_size |registration_status|capital_social_da_empresa|\n+----------------------------------------+------------------------------------------------------------------------+-------------+-------------------+-------------------------+\n|LANCHONETE E RESTAURANTE PARACATU LTDA  |Sociedade Empresária Limitada                                           |MICRO COMPANY|ACTIVE             |0.0                      |\n|M NUNES DE OLIVEIRA RESTAURANTE         |Empresário (Individual)                                                 |MICRO COMPANY|ACTIVE             |30000.0                  |\n|D JAPA RESTAURANTE LTDA                 |Sociedade Empresária Limitada                                           |SMALL COMPANY|ACTIVE             |10000.0                  |\n|ANJOUS RESTAURANTE E BAR LTDA           |Sociedade Empresária Limitada                                           |MICRO COMPANY|ACTIVE             |40000.0                  |\n|SANDRO TREVISOL RESTAURANTE             |Empresário (Individual)                                                 |MICRO COMPANY|ACTIVE             |35000.0                  |\n|CHOPERIA E RESTAURANTE HZINHO LTDA      |Sociedade Empresária Limitada                                           |MICRO COMPANY|ACTIVE             |30000.0                  |\n|RESTAURANTE LORITA LTDA                 |Sociedade Empresária Limitada                                           |MICRO COMPANY|ACTIVE             |40000.0                  |\n|RESTAURANTE VILA CUMURU LTDA            |Sociedade Empresária Limitada                                           |SMALL COMPANY|ACTIVE             |20000.0                  |\n|CASA LINS COZINHA ARABE RESTAURANTE LTDA|Sociedade Empresária Limitada                                           |MICRO COMPANY|ACTIVE             |24000.0                  |\n|ARMAZEM DA TRAIRA BAR E RESTAURANTE LTDA|Sociedade Empresária Limitada                                           |SMALL COMPANY|ACTIVE             |10000.0                  |\n|RESTAURANTE DOIS IRMAOS ITAPEVA LTDA    |Sociedade Empresária Limitada                                           |MICRO COMPANY|ACTIVE             |20000.0                  |\n|M J RESTAURANTES EIRELI                 |Empresa Individual de Responsabilidade Limitada (de Natureza Empresária)|SMALL COMPANY|ACTIVE             |110000.0                 |\n|RESTAURANTE CULTURA DA MESA LTDA        |Sociedade Empresária Limitada                                           |MICRO COMPANY|ACTIVE             |10000.0                  |\n|SUGOI DELIVERY E RESTAURANTE LTDA       |Sociedade Empresária Limitada                                           |MICRO COMPANY|ACTIVE             |10000.0                  |\n|ANA P DA SILVA RESTAURANTE              |Empresário (Individual)                                                 |MICRO COMPANY|ACTIVE             |10000.0                  |\n+----------------------------------------+------------------------------------------------------------------------+-------------+-------------------+-------------------------+\nonly showing top 15 rows\n\n"
     ]
    }
   ],
   "source": [
    "from pyspark.sql.functions import col, upper\n",
    "Establishments_join\\\n",
    "    .select('razao_social_nome_empresarial', 'Descrição_Natureza', 'company_size', 'registration_status', 'capital_social_da_empresa')\\\n",
    "    .filter(\n",
    "        (upper(Establishments_join['razao_social_nome_empresarial']).like('%RESTAURANTE%')) & \n",
    "        (col('registration_status') == 'ACTIVE')\n",
    "    )\\\n",
    "    .show(15, False)"
   ]
  },
  {
   "cell_type": "code",
   "execution_count": 0,
   "metadata": {
    "application/vnd.databricks.v1+cell": {
     "cellMetadata": {},
     "inputWidgets": {},
     "nuid": "2edc8751-62a0-4d2d-97c4-3d7bbf76d3cb",
     "showTitle": false,
     "title": ""
    }
   },
   "outputs": [],
   "source": []
  }
 ],
 "metadata": {
  "application/vnd.databricks.v1+notebook": {
   "dashboards": [],
   "language": "python",
   "notebookMetadata": {
    "pythonIndentUnit": 4
   },
   "notebookName": "Projeto Spark 2024",
   "widgets": {}
  }
 },
 "nbformat": 4,
 "nbformat_minor": 0
}
